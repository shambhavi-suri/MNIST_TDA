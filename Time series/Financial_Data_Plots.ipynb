{
  "nbformat": 4,
  "nbformat_minor": 0,
  "metadata": {
    "colab": {
      "name": "Financial Data Plots",
      "provenance": []
    },
    "kernelspec": {
      "name": "python3",
      "display_name": "Python 3"
    }
  },
  "cells": [
    {
      "cell_type": "code",
      "metadata": {
        "id": "faBRosISWxE4",
        "colab": {
          "base_uri": "https://localhost:8080/"
        },
        "outputId": "b08cc349-6ebe-4454-9d71-ec5f0c90c2af"
      },
      "source": [
        "#Source: https://towardsdatascience.com/downloading-historical-stock-prices-in-python-93f85f059c1f\r\n",
        "\r\n",
        "!pip install yfinance\r\n",
        "\r\n",
        "import pandas as pd\r\n",
        "import numpy as np\r\n",
        "import yfinance as yf\r\n",
        "import datetime\r\n",
        "import time\r\n",
        "import requests\r\n",
        "import io"
      ],
      "execution_count": null,
      "outputs": [
        {
          "output_type": "stream",
          "text": [
            "Collecting yfinance\n",
            "  Downloading https://files.pythonhosted.org/packages/7a/e8/b9d7104d3a4bf39924799067592d9e59119fcfc900a425a12e80a3123ec8/yfinance-0.1.55.tar.gz\n",
            "Requirement already satisfied: pandas>=0.24 in /usr/local/lib/python3.6/dist-packages (from yfinance) (1.1.5)\n",
            "Requirement already satisfied: numpy>=1.15 in /usr/local/lib/python3.6/dist-packages (from yfinance) (1.19.5)\n",
            "Requirement already satisfied: requests>=2.20 in /usr/local/lib/python3.6/dist-packages (from yfinance) (2.23.0)\n",
            "Requirement already satisfied: multitasking>=0.0.7 in /usr/local/lib/python3.6/dist-packages (from yfinance) (0.0.9)\n",
            "Collecting lxml>=4.5.1\n",
            "\u001b[?25l  Downloading https://files.pythonhosted.org/packages/bd/78/56a7c88a57d0d14945472535d0df9fb4bbad7d34ede658ec7961635c790e/lxml-4.6.2-cp36-cp36m-manylinux1_x86_64.whl (5.5MB)\n",
            "\u001b[K     |████████████████████████████████| 5.5MB 6.6MB/s \n",
            "\u001b[?25hRequirement already satisfied: pytz>=2017.2 in /usr/local/lib/python3.6/dist-packages (from pandas>=0.24->yfinance) (2018.9)\n",
            "Requirement already satisfied: python-dateutil>=2.7.3 in /usr/local/lib/python3.6/dist-packages (from pandas>=0.24->yfinance) (2.8.1)\n",
            "Requirement already satisfied: idna<3,>=2.5 in /usr/local/lib/python3.6/dist-packages (from requests>=2.20->yfinance) (2.10)\n",
            "Requirement already satisfied: chardet<4,>=3.0.2 in /usr/local/lib/python3.6/dist-packages (from requests>=2.20->yfinance) (3.0.4)\n",
            "Requirement already satisfied: urllib3!=1.25.0,!=1.25.1,<1.26,>=1.21.1 in /usr/local/lib/python3.6/dist-packages (from requests>=2.20->yfinance) (1.24.3)\n",
            "Requirement already satisfied: certifi>=2017.4.17 in /usr/local/lib/python3.6/dist-packages (from requests>=2.20->yfinance) (2020.12.5)\n",
            "Requirement already satisfied: six>=1.5 in /usr/local/lib/python3.6/dist-packages (from python-dateutil>=2.7.3->pandas>=0.24->yfinance) (1.15.0)\n",
            "Building wheels for collected packages: yfinance\n",
            "  Building wheel for yfinance (setup.py) ... \u001b[?25l\u001b[?25hdone\n",
            "  Created wheel for yfinance: filename=yfinance-0.1.55-py2.py3-none-any.whl size=22616 sha256=e9f435381fc3a82b6b063a30f3daf7361434be0b65e38faa889f48d0cadca147\n",
            "  Stored in directory: /root/.cache/pip/wheels/04/98/cc/2702a4242d60bdc14f48b4557c427ded1fe92aedf257d4565c\n",
            "Successfully built yfinance\n",
            "Installing collected packages: lxml, yfinance\n",
            "  Found existing installation: lxml 4.2.6\n",
            "    Uninstalling lxml-4.2.6:\n",
            "      Successfully uninstalled lxml-4.2.6\n",
            "Successfully installed lxml-4.6.2 yfinance-0.1.55\n"
          ],
          "name": "stdout"
        }
      ]
    },
    {
      "cell_type": "code",
      "metadata": {
        "colab": {
          "base_uri": "https://localhost:8080/"
        },
        "id": "1gdohhr_Whys",
        "outputId": "2889765b-f3c0-4026-87c5-df357d84352d"
      },
      "source": [
        "!pip install giotto-tda"
      ],
      "execution_count": null,
      "outputs": [
        {
          "output_type": "stream",
          "text": [
            "Collecting giotto-tda\n",
            "\u001b[?25l  Downloading https://files.pythonhosted.org/packages/cb/72/021dff57b68620807994de1d3b14136ef0d0de55513afab213923c13074f/giotto_tda-0.4.0-cp36-cp36m-manylinux2010_x86_64.whl (1.5MB)\n",
            "\u001b[K     |████████████████████████████████| 1.5MB 3.9MB/s \n",
            "\u001b[?25hRequirement already satisfied: ipywidgets>=7.5.1 in /usr/local/lib/python3.6/dist-packages (from giotto-tda) (7.6.3)\n",
            "Collecting python-igraph>=0.8.2\n",
            "\u001b[?25l  Downloading https://files.pythonhosted.org/packages/20/6e/3ac2fc339051f652d4a01570d133e4d15321aaec929ffb5f49a67852f8d9/python_igraph-0.8.3-cp36-cp36m-manylinux2010_x86_64.whl (3.2MB)\n",
            "\u001b[K     |████████████████████████████████| 3.2MB 14.3MB/s \n",
            "\u001b[?25hRequirement already satisfied: numpy>=1.19.1 in /usr/local/lib/python3.6/dist-packages (from giotto-tda) (1.19.5)\n",
            "Collecting scikit-learn>=0.23.1\n",
            "\u001b[?25l  Downloading https://files.pythonhosted.org/packages/e2/4c/6111b9a325f29527d7f262e2ee8c730d354b47a728d955e186dacad57a0d/scikit_learn-0.24.1-cp36-cp36m-manylinux2010_x86_64.whl (22.2MB)\n",
            "\u001b[K     |████████████████████████████████| 22.2MB 52.2MB/s \n",
            "\u001b[?25hCollecting pyflagser>=0.4.3\n",
            "\u001b[?25l  Downloading https://files.pythonhosted.org/packages/fc/96/633bd4686ed0f61b09cf743f5510a8fc13cde2cd0d4fbd836d22c1e2a086/pyflagser-0.4.3-cp36-cp36m-manylinux2010_x86_64.whl (399kB)\n",
            "\u001b[K     |████████████████████████████████| 399kB 45.3MB/s \n",
            "\u001b[?25hCollecting scipy>=1.5.0\n",
            "\u001b[?25l  Downloading https://files.pythonhosted.org/packages/c8/89/63171228d5ced148f5ced50305c89e8576ffc695a90b58fe5bb602b910c2/scipy-1.5.4-cp36-cp36m-manylinux1_x86_64.whl (25.9MB)\n",
            "\u001b[K     |████████████████████████████████| 25.9MB 56.5MB/s \n",
            "\u001b[?25hCollecting plotly>=4.8.2\n",
            "\u001b[?25l  Downloading https://files.pythonhosted.org/packages/1f/f6/bd3c17c8003b6641df1228e80e1acac97ed8402635e46c2571f8e1ef63af/plotly-4.14.3-py2.py3-none-any.whl (13.2MB)\n",
            "\u001b[K     |████████████████████████████████| 13.2MB 39.4MB/s \n",
            "\u001b[?25hRequirement already satisfied: joblib>=0.16.0 in /usr/local/lib/python3.6/dist-packages (from giotto-tda) (1.0.0)\n",
            "Requirement already satisfied: ipykernel>=4.5.1 in /usr/local/lib/python3.6/dist-packages (from ipywidgets>=7.5.1->giotto-tda) (4.10.1)\n",
            "Requirement already satisfied: ipython>=4.0.0; python_version >= \"3.3\" in /usr/local/lib/python3.6/dist-packages (from ipywidgets>=7.5.1->giotto-tda) (5.5.0)\n",
            "Requirement already satisfied: traitlets>=4.3.1 in /usr/local/lib/python3.6/dist-packages (from ipywidgets>=7.5.1->giotto-tda) (4.3.3)\n",
            "Requirement already satisfied: widgetsnbextension~=3.5.0 in /usr/local/lib/python3.6/dist-packages (from ipywidgets>=7.5.1->giotto-tda) (3.5.1)\n",
            "Requirement already satisfied: jupyterlab-widgets>=1.0.0; python_version >= \"3.6\" in /usr/local/lib/python3.6/dist-packages (from ipywidgets>=7.5.1->giotto-tda) (1.0.0)\n",
            "Requirement already satisfied: nbformat>=4.2.0 in /usr/local/lib/python3.6/dist-packages (from ipywidgets>=7.5.1->giotto-tda) (5.0.8)\n",
            "Collecting texttable>=1.6.2\n",
            "  Downloading https://files.pythonhosted.org/packages/06/f5/46201c428aebe0eecfa83df66bf3e6caa29659dbac5a56ddfd83cae0d4a4/texttable-1.6.3-py2.py3-none-any.whl\n",
            "Collecting threadpoolctl>=2.0.0\n",
            "  Downloading https://files.pythonhosted.org/packages/f7/12/ec3f2e203afa394a149911729357aa48affc59c20e2c1c8297a60f33f133/threadpoolctl-2.1.0-py3-none-any.whl\n",
            "Requirement already satisfied: retrying>=1.3.3 in /usr/local/lib/python3.6/dist-packages (from plotly>=4.8.2->giotto-tda) (1.3.3)\n",
            "Requirement already satisfied: six in /usr/local/lib/python3.6/dist-packages (from plotly>=4.8.2->giotto-tda) (1.15.0)\n",
            "Requirement already satisfied: jupyter-client in /usr/local/lib/python3.6/dist-packages (from ipykernel>=4.5.1->ipywidgets>=7.5.1->giotto-tda) (5.3.5)\n",
            "Requirement already satisfied: tornado>=4.0 in /usr/local/lib/python3.6/dist-packages (from ipykernel>=4.5.1->ipywidgets>=7.5.1->giotto-tda) (5.1.1)\n",
            "Requirement already satisfied: prompt-toolkit<2.0.0,>=1.0.4 in /usr/local/lib/python3.6/dist-packages (from ipython>=4.0.0; python_version >= \"3.3\"->ipywidgets>=7.5.1->giotto-tda) (1.0.18)\n",
            "Requirement already satisfied: pexpect; sys_platform != \"win32\" in /usr/local/lib/python3.6/dist-packages (from ipython>=4.0.0; python_version >= \"3.3\"->ipywidgets>=7.5.1->giotto-tda) (4.8.0)\n",
            "Requirement already satisfied: pickleshare in /usr/local/lib/python3.6/dist-packages (from ipython>=4.0.0; python_version >= \"3.3\"->ipywidgets>=7.5.1->giotto-tda) (0.7.5)\n",
            "Requirement already satisfied: pygments in /usr/local/lib/python3.6/dist-packages (from ipython>=4.0.0; python_version >= \"3.3\"->ipywidgets>=7.5.1->giotto-tda) (2.6.1)\n",
            "Requirement already satisfied: simplegeneric>0.8 in /usr/local/lib/python3.6/dist-packages (from ipython>=4.0.0; python_version >= \"3.3\"->ipywidgets>=7.5.1->giotto-tda) (0.8.1)\n",
            "Requirement already satisfied: setuptools>=18.5 in /usr/local/lib/python3.6/dist-packages (from ipython>=4.0.0; python_version >= \"3.3\"->ipywidgets>=7.5.1->giotto-tda) (51.3.3)\n",
            "Requirement already satisfied: decorator in /usr/local/lib/python3.6/dist-packages (from ipython>=4.0.0; python_version >= \"3.3\"->ipywidgets>=7.5.1->giotto-tda) (4.4.2)\n",
            "Requirement already satisfied: ipython-genutils in /usr/local/lib/python3.6/dist-packages (from traitlets>=4.3.1->ipywidgets>=7.5.1->giotto-tda) (0.2.0)\n",
            "Requirement already satisfied: notebook>=4.4.1 in /usr/local/lib/python3.6/dist-packages (from widgetsnbextension~=3.5.0->ipywidgets>=7.5.1->giotto-tda) (5.3.1)\n",
            "Requirement already satisfied: jsonschema!=2.5.0,>=2.4 in /usr/local/lib/python3.6/dist-packages (from nbformat>=4.2.0->ipywidgets>=7.5.1->giotto-tda) (2.6.0)\n",
            "Requirement already satisfied: jupyter-core in /usr/local/lib/python3.6/dist-packages (from nbformat>=4.2.0->ipywidgets>=7.5.1->giotto-tda) (4.7.0)\n",
            "Requirement already satisfied: python-dateutil>=2.1 in /usr/local/lib/python3.6/dist-packages (from jupyter-client->ipykernel>=4.5.1->ipywidgets>=7.5.1->giotto-tda) (2.8.1)\n",
            "Requirement already satisfied: pyzmq>=13 in /usr/local/lib/python3.6/dist-packages (from jupyter-client->ipykernel>=4.5.1->ipywidgets>=7.5.1->giotto-tda) (20.0.0)\n",
            "Requirement already satisfied: wcwidth in /usr/local/lib/python3.6/dist-packages (from prompt-toolkit<2.0.0,>=1.0.4->ipython>=4.0.0; python_version >= \"3.3\"->ipywidgets>=7.5.1->giotto-tda) (0.2.5)\n",
            "Requirement already satisfied: ptyprocess>=0.5 in /usr/local/lib/python3.6/dist-packages (from pexpect; sys_platform != \"win32\"->ipython>=4.0.0; python_version >= \"3.3\"->ipywidgets>=7.5.1->giotto-tda) (0.7.0)\n",
            "Requirement already satisfied: terminado>=0.8.1 in /usr/local/lib/python3.6/dist-packages (from notebook>=4.4.1->widgetsnbextension~=3.5.0->ipywidgets>=7.5.1->giotto-tda) (0.9.2)\n",
            "Requirement already satisfied: Send2Trash in /usr/local/lib/python3.6/dist-packages (from notebook>=4.4.1->widgetsnbextension~=3.5.0->ipywidgets>=7.5.1->giotto-tda) (1.5.0)\n",
            "Requirement already satisfied: jinja2 in /usr/local/lib/python3.6/dist-packages (from notebook>=4.4.1->widgetsnbextension~=3.5.0->ipywidgets>=7.5.1->giotto-tda) (2.11.2)\n",
            "Requirement already satisfied: nbconvert in /usr/local/lib/python3.6/dist-packages (from notebook>=4.4.1->widgetsnbextension~=3.5.0->ipywidgets>=7.5.1->giotto-tda) (5.6.1)\n",
            "Requirement already satisfied: MarkupSafe>=0.23 in /usr/local/lib/python3.6/dist-packages (from jinja2->notebook>=4.4.1->widgetsnbextension~=3.5.0->ipywidgets>=7.5.1->giotto-tda) (1.1.1)\n",
            "Requirement already satisfied: entrypoints>=0.2.2 in /usr/local/lib/python3.6/dist-packages (from nbconvert->notebook>=4.4.1->widgetsnbextension~=3.5.0->ipywidgets>=7.5.1->giotto-tda) (0.3)\n",
            "Requirement already satisfied: bleach in /usr/local/lib/python3.6/dist-packages (from nbconvert->notebook>=4.4.1->widgetsnbextension~=3.5.0->ipywidgets>=7.5.1->giotto-tda) (3.2.1)\n",
            "Requirement already satisfied: mistune<2,>=0.8.1 in /usr/local/lib/python3.6/dist-packages (from nbconvert->notebook>=4.4.1->widgetsnbextension~=3.5.0->ipywidgets>=7.5.1->giotto-tda) (0.8.4)\n",
            "Requirement already satisfied: pandocfilters>=1.4.1 in /usr/local/lib/python3.6/dist-packages (from nbconvert->notebook>=4.4.1->widgetsnbextension~=3.5.0->ipywidgets>=7.5.1->giotto-tda) (1.4.3)\n",
            "Requirement already satisfied: testpath in /usr/local/lib/python3.6/dist-packages (from nbconvert->notebook>=4.4.1->widgetsnbextension~=3.5.0->ipywidgets>=7.5.1->giotto-tda) (0.4.4)\n",
            "Requirement already satisfied: defusedxml in /usr/local/lib/python3.6/dist-packages (from nbconvert->notebook>=4.4.1->widgetsnbextension~=3.5.0->ipywidgets>=7.5.1->giotto-tda) (0.6.0)\n",
            "Requirement already satisfied: webencodings in /usr/local/lib/python3.6/dist-packages (from bleach->nbconvert->notebook>=4.4.1->widgetsnbextension~=3.5.0->ipywidgets>=7.5.1->giotto-tda) (0.5.1)\n",
            "Requirement already satisfied: packaging in /usr/local/lib/python3.6/dist-packages (from bleach->nbconvert->notebook>=4.4.1->widgetsnbextension~=3.5.0->ipywidgets>=7.5.1->giotto-tda) (20.8)\n",
            "Requirement already satisfied: pyparsing>=2.0.2 in /usr/local/lib/python3.6/dist-packages (from packaging->bleach->nbconvert->notebook>=4.4.1->widgetsnbextension~=3.5.0->ipywidgets>=7.5.1->giotto-tda) (2.4.7)\n",
            "\u001b[31mERROR: albumentations 0.1.12 has requirement imgaug<0.2.7,>=0.2.5, but you'll have imgaug 0.2.9 which is incompatible.\u001b[0m\n",
            "Installing collected packages: texttable, python-igraph, threadpoolctl, scipy, scikit-learn, pyflagser, plotly, giotto-tda\n",
            "  Found existing installation: scipy 1.4.1\n",
            "    Uninstalling scipy-1.4.1:\n",
            "      Successfully uninstalled scipy-1.4.1\n",
            "  Found existing installation: scikit-learn 0.22.2.post1\n",
            "    Uninstalling scikit-learn-0.22.2.post1:\n",
            "      Successfully uninstalled scikit-learn-0.22.2.post1\n",
            "  Found existing installation: plotly 4.4.1\n",
            "    Uninstalling plotly-4.4.1:\n",
            "      Successfully uninstalled plotly-4.4.1\n",
            "Successfully installed giotto-tda-0.4.0 plotly-4.14.3 pyflagser-0.4.3 python-igraph-0.8.3 scikit-learn-0.24.1 scipy-1.5.4 texttable-1.6.3 threadpoolctl-2.1.0\n"
          ],
          "name": "stdout"
        }
      ]
    },
    {
      "cell_type": "code",
      "metadata": {
        "id": "MNSzzYYWWtNe"
      },
      "source": [
        "from gtda.homology import VietorisRipsPersistence"
      ],
      "execution_count": null,
      "outputs": []
    },
    {
      "cell_type": "code",
      "metadata": {
        "id": "aZ430qlicvWy"
      },
      "source": [
        "import gtda.diagrams"
      ],
      "execution_count": null,
      "outputs": []
    },
    {
      "cell_type": "code",
      "metadata": {
        "id": "JvhXnx_sluq0"
      },
      "source": [
        "start = datetime.datetime(1987,12,22)\r\n",
        "end = datetime.datetime(2016,12,8)\r\n",
        "Symbols = ['^GSPC','^DJI','^IXIC','^RUT']"
      ],
      "execution_count": null,
      "outputs": []
    },
    {
      "cell_type": "code",
      "metadata": {
        "colab": {
          "base_uri": "https://localhost:8080/"
        },
        "id": "YG1ggx3-oqQr",
        "outputId": "9d575a66-7d5b-4d6a-9f4d-61314b4f3e82"
      },
      "source": [
        "# create empty dataframe\r\n",
        "stock_final = pd.DataFrame()\r\n",
        "# iterate over each symbol\r\n",
        "for i in Symbols:  \r\n",
        "    \r\n",
        "    # print the symbol which is being downloaded\r\n",
        "    print( str(Symbols.index(i)) + str(' : ') + i, sep=',', end=',', flush=True)  \r\n",
        "    \r\n",
        "    try:\r\n",
        "        # download the stock price \r\n",
        "        stock = []\r\n",
        "        stock = yf.download(i,start=start, end=end, progress=False)\r\n",
        "        \r\n",
        "        # append the individual stock prices \r\n",
        "        if len(stock) == 0:\r\n",
        "            None\r\n",
        "        else:\r\n",
        "            stock['Name']=i\r\n",
        "            stock_final = stock_final.append(stock,sort=False)\r\n",
        "    except Exception:\r\n",
        "        None"
      ],
      "execution_count": null,
      "outputs": [
        {
          "output_type": "stream",
          "text": [
            "0 : ^GSPC,1 : ^DJI,2 : ^IXIC,3 : ^RUT,"
          ],
          "name": "stdout"
        }
      ]
    },
    {
      "cell_type": "code",
      "metadata": {
        "id": "YVCs5YeZowSo"
      },
      "source": [
        "gspc_1 = stock_final[stock_final['Name'] == '^GSPC'].index\r\n",
        "gspc = stock_final[stock_final['Name'] == '^GSPC']['Close']\r\n",
        "dji_1 = stock_final[stock_final['Name'] == '^DJI'].index\r\n",
        "dji = stock_final[stock_final['Name'] == '^DJI']['Close']\r\n",
        "ixic_1 = stock_final[stock_final['Name'] == '^IXIC'].index\r\n",
        "ixic = stock_final[stock_final['Name'] == '^IXIC']['Close']\r\n",
        "rut_1 = stock_final[stock_final['Name'] == '^RUT'].index\r\n",
        "rut = stock_final[stock_final['Name'] == '^RUT']['Close']"
      ],
      "execution_count": null,
      "outputs": []
    },
    {
      "cell_type": "code",
      "metadata": {
        "id": "NOn6vxlZ0rQd"
      },
      "source": [
        "import math\r\n",
        "adjusted_gspc = []\r\n",
        "adjusted_dji = []\r\n",
        "adjusted_ixic = []\r\n",
        "adjusted_rut = []\r\n",
        "for i in range(1,7301):\r\n",
        "  adjusted_gspc.append(math.log(gspc[i]/gspc[i-1]))\r\n",
        "  adjusted_dji.append(math.log(dji[i]/dji[i-1]))\r\n",
        "  adjusted_ixic.append(math.log(ixic[i]/ixic[i-1]))\r\n",
        "  adjusted_rut.append(math.log(rut[i]/rut[i-1]))"
      ],
      "execution_count": null,
      "outputs": []
    },
    {
      "cell_type": "code",
      "metadata": {
        "id": "ssJmx8jDWI_D"
      },
      "source": [
        "adjusted_prices = pd.DataFrame()\r\n",
        "adjusted_prices['Dates'] = gspc_1[1:]\r\n",
        "adjusted_prices['GSPC'] = adjusted_gspc\r\n",
        "adjusted_prices['DJI'] = adjusted_dji\r\n",
        "adjusted_prices['IXIC'] = adjusted_ixic\r\n",
        "adjusted_prices['RUT'] = adjusted_rut\r\n",
        "adjusted_prices.to_csv('Adjusted_prices.csv')"
      ],
      "execution_count": null,
      "outputs": []
    },
    {
      "cell_type": "code",
      "metadata": {
        "colab": {
          "base_uri": "https://localhost:8080/"
        },
        "id": "_jJewkoS0lbF",
        "outputId": "3614ed4b-58d6-4b6d-bc77-80680659fdc0"
      },
      "source": [
        "!zip Adjusted_prices.zip *.csv\r\n",
        "!mv Adjusted_prices.zip \"/content/drive/My Drive\""
      ],
      "execution_count": null,
      "outputs": [
        {
          "output_type": "stream",
          "text": [
            "  adding: Adjusted_prices.csv (deflated 58%)\n"
          ],
          "name": "stdout"
        }
      ]
    },
    {
      "cell_type": "code",
      "metadata": {
        "id": "dnKJS94fIw6Y"
      },
      "source": [
        "l_1 = []\r\n",
        "l_2 = []\r\n",
        "\r\n",
        "for i in range(0, 7301-100):\r\n",
        "  point_cloud = []\r\n",
        "  for j in range(i,i+100):\r\n",
        "    point_cloud.append([adjusted_gspc[j], adjusted_dji[j], adjusted_ixic[j], adjusted_rut[j]])\r\n",
        "  pointcloud = np.array(point_cloud).reshape(1,100,4)\r\n",
        "  VR = VietorisRipsPersistence() \r\n",
        "  diagrams = VR.fit_transform(pointcloud)\r\n",
        "  value = gtda.diagrams.Amplitude(metric_params={\"n_layers\":250} , metric ='landscape', order = None).fit_transform(diagrams)\r\n",
        "  l_1.append(value[0][0])\r\n",
        "  l_2.append(value[0][1])"
      ],
      "execution_count": null,
      "outputs": []
    },
    {
      "cell_type": "code",
      "metadata": {
        "id": "ZyqtjnYd2RSz"
      },
      "source": [
        "import matplotlib.pyplot as plt\r\n",
        "from scipy import stats"
      ],
      "execution_count": null,
      "outputs": []
    },
    {
      "cell_type": "code",
      "metadata": {
        "colab": {
          "base_uri": "https://localhost:8080/",
          "height": 281
        },
        "id": "rUFotcvCxiDN",
        "outputId": "df5270ee-71ce-48b7-a822-1d709c1140dd"
      },
      "source": [
        "#Landscape dim 0 plots:\r\n",
        "\r\n",
        "plt.title(\"Landscape Dim 0 plots\") \r\n",
        "y_1 = stats.zscore(np.array(l_1))\r\n",
        "plt.plot(np.arange(0,7201), y_1 , color =\"green\")  \r\n",
        "plt.show()"
      ],
      "execution_count": null,
      "outputs": [
        {
          "output_type": "display_data",
          "data": {
            "image/png": "[encoded data removed]",
            "text/plain": [
              "<Figure size 432x288 with 1 Axes>"
            ]
          },
          "metadata": {
            "tags": [],
            "needs_background": "light"
          }
        }
      ]
    },
    {
      "cell_type": "code",
      "metadata": {
        "colab": {
          "base_uri": "https://localhost:8080/",
          "height": 281
        },
        "id": "HBXhF0vt1HzO",
        "outputId": "05274690-6b48-4984-eced-18fd88424a45"
      },
      "source": [
        "plt.title(\"Landscape Dim 1 plots\") \r\n",
        "y_2 = stats.zscore(np.array(l_2))\r\n",
        "plt.plot(np.arange(0,7201), y_2 , color =\"red\")  \r\n",
        "plt.show()"
      ],
      "execution_count": null,
      "outputs": [
        {
          "output_type": "display_data",
          "data": {
            "image/png": "[encoded data removed]",
            "text/plain": [
              "<Figure size 432x288 with 1 Axes>"
            ]
          },
          "metadata": {
            "tags": [],
            "needs_background": "light"
          }
        }
      ]
    },
    {
      "cell_type": "code",
      "metadata": {
        "id": "93hOBnND1MIu"
      },
      "source": [
        "ord_1 = np.argsort(-y_1)[:100]\r\n",
        "ord_2 = np.argsort(-y_2)[:100]"
      ],
      "execution_count": null,
      "outputs": []
    },
    {
      "cell_type": "code",
      "metadata": {
        "colab": {
          "base_uri": "https://localhost:8080/"
        },
        "id": "7nHUG3On4Jj0",
        "outputId": "6ced56fc-1ad2-45e7-fbfd-a78e506f3d0c"
      },
      "source": [
        "#First 100 highest valuescorresponding to dim 0\r\n",
        "gspc_1[ord_1]"
      ],
      "execution_count": null,
      "outputs": [
        {
          "output_type": "execute_result",
          "data": {
            "text/plain": [
              "DatetimeIndex(['2008-05-22', '2008-05-21', '2008-05-23', '2008-06-05',\n",
              "               '2008-06-03', '2008-06-04', '2008-05-28', '2008-05-27',\n",
              "               '2008-06-02', '2008-05-30', '2008-05-29', '2008-06-06',\n",
              "               '2008-06-13', '2008-06-12', '2008-06-11', '2008-06-23',\n",
              "               '2008-06-10', '2008-06-17', '2008-06-19', '2008-06-20',\n",
              "               '2008-06-18', '2008-06-16', '2008-06-09', '1997-06-09',\n",
              "               '1997-06-06', '1997-06-10', '1997-06-11', '1997-06-13',\n",
              "               '1997-06-16', '1997-06-12', '1997-06-17', '1997-06-18',\n",
              "               '1997-06-19', '1997-06-20', '1997-06-05', '1997-08-11',\n",
              "               '1997-08-13', '1997-08-12', '1997-08-14', '1997-08-08',\n",
              "               '1997-07-18', '1997-07-31', '1997-06-30', '1997-07-30',\n",
              "               '1997-08-01', '1997-07-25', '1997-07-28', '1997-07-11',\n",
              "               '1997-07-02', '1997-08-05', '1997-08-04', '1997-07-14',\n",
              "               '1997-07-01', '1997-07-07', '1997-07-03', '1997-07-15',\n",
              "               '1997-08-06', '1997-06-27', '1997-08-07', '1997-07-29',\n",
              "               '1997-07-21', '1997-07-08', '1997-07-10', '1997-07-24',\n",
              "               '1997-07-23', '1997-07-22', '1997-06-26', '1997-06-23',\n",
              "               '1997-06-24', '1997-07-09', '1997-07-17', '1997-06-25',\n",
              "               '1997-07-16', '1997-08-15', '2000-01-27', '2000-01-25',\n",
              "               '2000-01-28', '2000-01-24', '2000-01-26', '2000-01-21',\n",
              "               '2000-01-20', '2000-01-19', '2000-01-18', '2000-01-07',\n",
              "               '2000-01-14', '2000-02-15', '2000-02-14', '2000-02-10',\n",
              "               '2000-01-13', '2000-02-11', '2000-02-16', '2000-02-17',\n",
              "               '2000-01-11', '2000-01-12', '2000-01-10', '2000-02-09',\n",
              "               '2000-02-22', '2000-02-18', '2000-02-23', '2000-02-04'],\n",
              "              dtype='datetime64[ns]', name='Date', freq=None)"
            ]
          },
          "metadata": {
            "tags": []
          },
          "execution_count": 65
        }
      ]
    },
    {
      "cell_type": "code",
      "metadata": {
        "colab": {
          "base_uri": "https://localhost:8080/"
        },
        "id": "57KyYl1N5kQk",
        "outputId": "b9f26e8f-bf41-4ac6-b194-bd6a0719bb17"
      },
      "source": [
        "#First 100 highest valuescorresponding to dim 1\r\n",
        "gspc_1[ord_2]"
      ],
      "execution_count": null,
      "outputs": [
        {
          "output_type": "execute_result",
          "data": {
            "text/plain": [
              "DatetimeIndex(['1999-11-23', '1999-11-24', '1999-11-19', '1999-11-22',\n",
              "               '2000-01-11', '1999-12-30', '2000-01-03', '1999-12-31',\n",
              "               '2000-01-04', '1999-12-29', '2000-01-07', '2000-01-06',\n",
              "               '2000-01-05', '2000-01-10', '1999-12-22', '1999-12-21',\n",
              "               '1999-12-28', '2000-01-13', '2000-01-12', '1999-12-14',\n",
              "               '1999-12-17', '1999-12-02', '1999-12-20', '1999-12-15',\n",
              "               '1999-12-13', '1999-12-16', '1999-11-26', '1999-11-29',\n",
              "               '1999-12-09', '1999-12-10', '1999-12-23', '2000-01-14',\n",
              "               '2000-01-20', '2000-01-21', '2000-01-19', '2000-01-18',\n",
              "               '1999-12-27', '1999-12-08', '1999-12-07', '1999-12-06',\n",
              "               '1999-12-03', '2000-01-25', '2000-01-24', '2000-01-26',\n",
              "               '1999-11-11', '1999-11-10', '1999-11-09', '2000-01-27',\n",
              "               '1999-11-18', '1999-11-17', '1999-12-01', '2000-02-04',\n",
              "               '1999-11-30', '1999-11-08', '1999-11-12', '1999-11-16',\n",
              "               '1999-11-15', '2000-02-01', '2000-02-02', '2000-02-03',\n",
              "               '2000-02-08', '2000-02-07', '1999-11-05', '2000-01-31',\n",
              "               '1999-11-02', '1999-11-01', '1999-10-29', '1999-11-04',\n",
              "               '1999-11-03', '2008-07-14', '2008-07-11', '2008-07-10',\n",
              "               '2008-07-09', '1998-06-01', '2008-07-15', '1998-05-29',\n",
              "               '2008-07-08', '1998-05-28', '2000-01-28', '1999-10-07',\n",
              "               '1999-10-06', '1999-10-05', '1999-10-04', '1999-10-11',\n",
              "               '1999-10-08', '1999-10-27', '1998-07-17', '1999-10-12',\n",
              "               '1998-07-21', '1998-07-20', '1999-10-22', '1999-10-21',\n",
              "               '1999-10-20', '1998-07-22', '1998-06-04', '1999-10-25',\n",
              "               '1998-07-16', '1999-10-26', '1998-05-19', '1998-05-20'],\n",
              "              dtype='datetime64[ns]', name='Date', freq=None)"
            ]
          },
          "metadata": {
            "tags": []
          },
          "execution_count": 67
        }
      ]
    },
    {
      "cell_type": "code",
      "metadata": {
        "id": "bYZvRvM65lRS"
      },
      "source": [
        ""
      ],
      "execution_count": null,
      "outputs": []
    }
  ]
}