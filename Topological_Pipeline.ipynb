{
  "nbformat": 4,
  "nbformat_minor": 0,
  "metadata": {
    "kernelspec": {
      "display_name": "Python 3",
      "language": "python",
      "name": "python3"
    },
    "language_info": {
      "codemirror_mode": {
        "name": "ipython",
        "version": 3
      },
      "file_extension": ".py",
      "mimetype": "text/x-python",
      "name": "python",
      "nbconvert_exporter": "python",
      "pygments_lexer": "ipython3",
      "version": "3.8.3"
    },
    "colab": {
      "name": "Topological_Pipeline.ipynb",
      "provenance": [],
      "collapsed_sections": []
    },
    "accelerator": "GPU"
  },
  "cells": [
    {
      "cell_type": "code",
      "metadata": {
        "id": "87jTAnJa2VsC"
      },
      "source": [
        " !pip install giotto-tda\n",
        "import numpy as np\n",
        "import pandas as pd\n",
        "import matplotlib.pyplot as plt\n",
        "import gtda.images  \n",
        "import gtda.homology\n",
        "import gtda.diagrams\n",
        "import cv2 as cv"
      ],
      "execution_count": null,
      "outputs": []
    },
    {
      "cell_type": "code",
      "metadata": {
        "id": "PNCZxole2VsW"
      },
      "source": [
        "# TensorFlow and tf.keras for installing fashion mnist\n",
        "import tensorflow as tf\n",
        "from tensorflow import keras"
      ],
      "execution_count": null,
      "outputs": []
    },
    {
      "cell_type": "code",
      "metadata": {
        "id": "d1zWbT7v4B3n",
        "outputId": "a385edcb-c7f7-477c-c088-48450ffcfd53",
        "colab": {
          "base_uri": "https://localhost:8080/",
          "height": 151
        }
      },
      "source": [
        "fashion_mnist = keras.datasets.fashion_mnist\n",
        "\n",
        "(train, digit_train), (test, digit_test) = fashion_mnist.load_data()"
      ],
      "execution_count": null,
      "outputs": [
        {
          "output_type": "stream",
          "text": [
            "Downloading data from https://storage.googleapis.com/tensorflow/tf-keras-datasets/train-labels-idx1-ubyte.gz\n",
            "32768/29515 [=================================] - 0s 0us/step\n",
            "Downloading data from https://storage.googleapis.com/tensorflow/tf-keras-datasets/train-images-idx3-ubyte.gz\n",
            "26427392/26421880 [==============================] - 0s 0us/step\n",
            "Downloading data from https://storage.googleapis.com/tensorflow/tf-keras-datasets/t10k-labels-idx1-ubyte.gz\n",
            "8192/5148 [===============================================] - 0s 0us/step\n",
            "Downloading data from https://storage.googleapis.com/tensorflow/tf-keras-datasets/t10k-images-idx3-ubyte.gz\n",
            "4423680/4422102 [==============================] - 0s 0us/step\n"
          ],
          "name": "stdout"
        }
      ]
    },
    {
      "cell_type": "code",
      "metadata": {
        "id": "rUkfanaK2Vsh"
      },
      "source": [
        "images = np.concatenate((train,test), axis = 0)\n",
        "data_dim = np.shape(images)[0]\n",
        "image_dim = 28"
      ],
      "execution_count": null,
      "outputs": []
    },
    {
      "cell_type": "code",
      "metadata": {
        "id": "lxNMlP0T2Vs4"
      },
      "source": [
        "#%%plots image_dim*image_dim np array\n",
        "def plot_image(Q):\n",
        "    plt.matshow(Q);\n",
        "    plt.colorbar()"
      ],
      "execution_count": null,
      "outputs": []
    },
    {
      "cell_type": "code",
      "metadata": {
        "id": "BM_C8Kau6nhk",
        "outputId": "a5f38069-2e62-43b2-d90d-ec38f1a6ef4c",
        "colab": {
          "base_uri": "https://localhost:8080/",
          "height": 1000
        }
      },
      "source": [
        "print('Printing first 5 images')\n",
        "for i in range(0,5):\n",
        "  plot_image(images[i])"
      ],
      "execution_count": null,
      "outputs": [
        {
          "output_type": "stream",
          "text": [
            "Printing first 5 images\n"
          ],
          "name": "stdout"
        },
        {
          "output_type": "display_data",
          "data": {
            "image/png": "[encoded data removed]",
            "text/plain": [
              "<Figure size 288x288 with 2 Axes>"
            ]
          },
          "metadata": {
            "tags": [],
            "needs_background": "light"
          }
        },
        {
          "output_type": "display_data",
          "data": {
            "image/png": "[encoded data removed]",
            "text/plain": [
              "<Figure size 288x288 with 2 Axes>"
            ]
          },
          "metadata": {
            "tags": [],
            "needs_background": "light"
          }
        },
        {
          "output_type": "display_data",
          "data": {
            "image/png": "[encoded data removed]",
            "text/plain": [
              "<Figure size 288x288 with 2 Axes>"
            ]
          },
          "metadata": {
            "tags": [],
            "needs_background": "light"
          }
        },
        {
          "output_type": "display_data",
          "data": {
            "image/png": "[encoded data removed]",
            "text/plain": [
              "<Figure size 288x288 with 2 Axes>"
            ]
          },
          "metadata": {
            "tags": [],
            "needs_background": "light"
          }
        },
        {
          "output_type": "display_data",
          "data": {
            "image/png": "[encoded data removed]",
            "text/plain": [
              "<Figure size 288x288 with 2 Axes>"
            ]
          },
          "metadata": {
            "tags": [],
            "needs_background": "light"
          }
        }
      ]
    },
    {
      "cell_type": "code",
      "metadata": {
        "id": "bU1KU__qAzSy"
      },
      "source": [
        "transformer = gtda.images.Binarizer(threshold = 0.4).fit(images)\n",
        "binarized_images= transformer.transform(images)*1"
      ],
      "execution_count": null,
      "outputs": []
    },
    {
      "cell_type": "code",
      "metadata": {
        "id": "V1huMR6kAzTC",
        "outputId": "9d91fdbd-7fff-4f61-9a39-37fb9e49e0e0",
        "colab": {
          "base_uri": "https://localhost:8080/",
          "height": 1000
        }
      },
      "source": [
        "for i in range(0,5):\n",
        "  plot_image(binarized_images[i])\n"
      ],
      "execution_count": null,
      "outputs": [
        {
          "output_type": "display_data",
          "data": {
            "image/png": "[encoded data removed]",
            "text/plain": [
              "<Figure size 288x288 with 2 Axes>"
            ]
          },
          "metadata": {
            "tags": [],
            "needs_background": "light"
          }
        },
        {
          "output_type": "display_data",
          "data": {
            "image/png": "[encoded data removed]",
            "text/plain": [
              "<Figure size 288x288 with 2 Axes>"
            ]
          },
          "metadata": {
            "tags": [],
            "needs_background": "light"
          }
        },
        {
          "output_type": "display_data",
          "data": {
            "image/png": "[encoded data removed]",
            "text/plain": [
              "<Figure size 288x288 with 2 Axes>"
            ]
          },
          "metadata": {
            "tags": [],
            "needs_background": "light"
          }
        },
        {
          "output_type": "display_data",
          "data": {
            "image/png": "[encoded data removed]",
            "text/plain": [
              "<Figure size 288x288 with 2 Axes>"
            ]
          },
          "metadata": {
            "tags": [],
            "needs_background": "light"
          }
        },
        {
          "output_type": "display_data",
          "data": {
            "image/png": "[encoded data removed]",
            "text/plain": [
              "<Figure size 288x288 with 2 Axes>"
            ]
          },
          "metadata": {
            "tags": [],
            "needs_background": "light"
          }
        }
      ]
    },
    {
      "cell_type": "code",
      "metadata": {
        "id": "my_E-Enx7zeO"
      },
      "source": [
        "#histogram equalisation\n",
        "hist_images = np.zeros((data_dim, image_dim, image_dim))\n",
        "for i in range(0,data_dim):\n",
        "  hist_images[i] = cv.equalizeHist(images[i])\n"
      ],
      "execution_count": null,
      "outputs": []
    },
    {
      "cell_type": "code",
      "metadata": {
        "id": "_dZ0mkM984rZ",
        "outputId": "6b806f8f-542f-4beb-f6d3-ddd4083a48ca",
        "colab": {
          "base_uri": "https://localhost:8080/",
          "height": 1000
        }
      },
      "source": [
        "print('Printing first 5 equalized images')\n",
        "for i in range(0,5):\n",
        "  plot_image(hist_images[i])"
      ],
      "execution_count": null,
      "outputs": [
        {
          "output_type": "stream",
          "text": [
            "Printing first 5 equalized images\n"
          ],
          "name": "stdout"
        },
        {
          "output_type": "display_data",
          "data": {
            "image/png": "[encoded data removed]",
            "text/plain": [
              "<Figure size 288x288 with 2 Axes>"
            ]
          },
          "metadata": {
            "tags": [],
            "needs_background": "light"
          }
        },
        {
          "output_type": "display_data",
          "data": {
            "image/png": "[encoded data removed]",
            "text/plain": [
              "<Figure size 288x288 with 2 Axes>"
            ]
          },
          "metadata": {
            "tags": [],
            "needs_background": "light"
          }
        },
        {
          "output_type": "display_data",
          "data": {
            "image/png": "[encoded data removed]",
            "text/plain": [
              "<Figure size 288x288 with 2 Axes>"
            ]
          },
          "metadata": {
            "tags": [],
            "needs_background": "light"
          }
        },
        {
          "output_type": "display_data",
          "data": {
            "image/png": "[encoded data removed]",
            "text/plain": [
              "<Figure size 288x288 with 2 Axes>"
            ]
          },
          "metadata": {
            "tags": [],
            "needs_background": "light"
          }
        },
        {
          "output_type": "display_data",
          "data": {
            "image/png": "[encoded data removed]",
            "text/plain": [
              "<Figure size 288x288 with 2 Axes>"
            ]
          },
          "metadata": {
            "tags": [],
            "needs_background": "light"
          }
        }
      ]
    },
    {
      "cell_type": "code",
      "metadata": {
        "id": "Xzhevm8P9o6j"
      },
      "source": [
        "#hist_transform = np.zeros((data_dim, image_dim*image_dim))\n",
        "#for i in range(0,data_dim):\n",
        "#  hist_transform[i] = np.ravel(hist_images[i,:,:])\n",
        "#pd.DataFrame(hist_transform).to_csv('hist.csv')\n",
        "#! zip test3.zip hist.csv\n",
        "#!mv test3.zip \"/content/drive/My Drive\"\n",
        "#!pwd\n"
      ],
      "execution_count": null,
      "outputs": []
    },
    {
      "cell_type": "code",
      "metadata": {
        "id": "4s1e3_Pd2VtC"
      },
      "source": [
        "transformer = gtda.images.Binarizer(threshold = 0.25).fit(hist_images)\n",
        "binarized_images_hist = transformer.transform(hist_images)*1"
      ],
      "execution_count": null,
      "outputs": []
    },
    {
      "cell_type": "code",
      "metadata": {
        "id": "OxEhtDBw5E_a",
        "outputId": "dabaa6d0-c5e4-4283-82b4-31d65fb62f0b",
        "colab": {
          "base_uri": "https://localhost:8080/",
          "height": 1000
        }
      },
      "source": [
        "for i in range(0,5):\n",
        "  plot_image(binarized_images_hist[i])\n"
      ],
      "execution_count": null,
      "outputs": [
        {
          "output_type": "display_data",
          "data": {
            "image/png": "[encoded data removed]",
            "text/plain": [
              "<Figure size 288x288 with 2 Axes>"
            ]
          },
          "metadata": {
            "tags": [],
            "needs_background": "light"
          }
        },
        {
          "output_type": "display_data",
          "data": {
            "image/png": "[encoded data removed]",
            "text/plain": [
              "<Figure size 288x288 with 2 Axes>"
            ]
          },
          "metadata": {
            "tags": [],
            "needs_background": "light"
          }
        },
        {
          "output_type": "display_data",
          "data": {
            "image/png": "[encoded data removed]",
            "text/plain": [
              "<Figure size 288x288 with 2 Axes>"
            ]
          },
          "metadata": {
            "tags": [],
            "needs_background": "light"
          }
        },
        {
          "output_type": "display_data",
          "data": {
            "image/png": "[encoded data removed]",
            "text/plain": [
              "<Figure size 288x288 with 2 Axes>"
            ]
          },
          "metadata": {
            "tags": [],
            "needs_background": "light"
          }
        },
        {
          "output_type": "display_data",
          "data": {
            "image/png": "[encoded data removed]",
            "text/plain": [
              "<Figure size 288x288 with 2 Axes>"
            ]
          },
          "metadata": {
            "tags": [],
            "needs_background": "light"
          }
        }
      ]
    },
    {
      "cell_type": "code",
      "metadata": {
        "id": "1XXNDOG52VtH"
      },
      "source": [
        "height_array = [[1,0],[0,1],[1,1],[-1,1],[1,-1],[-1,-1],[-1,0],[0,-1]]\n",
        "\n",
        "def height_data_fn(images = binarized_images, ht_array = height_array, ent=True, land=False, \n",
        "                   heat=False, wdist=False, betti=False):\n",
        "    height_data = np.zeros((np.shape(images)[0],1))\n",
        "    for i in range(0, np.shape(ht_array)[0]):\n",
        "        height_fil_images = gtda.images.HeightFiltration(direction = np.array(ht_array[i])).fit_transform(images)\n",
        "        cubical_diagrams = gtda.homology.CubicalPersistence().fit_transform(height_fil_images)\n",
        "        if ent == True:\n",
        "            height_data = np.concatenate((height_data,gtda.diagrams.PersistenceEntropy().fit_transform(cubical_diagrams)), axis = 1)\n",
        "        if land == True:\n",
        "            height_data= np.concatenate((height_data,gtda.diagrams.Amplitude(metric_params={\"n_layers\":2} , metric ='landscape', \n",
        "                                                                             order = None).fit_transform(cubical_diagrams)), axis = 1)\n",
        "        if heat == True:\n",
        "            height_data = np.concatenate((height_data,gtda.diagrams.Amplitude(metric = 'heat', order = None).fit_transform(cubical_diagrams)),\n",
        "                                         axis = 1)\n",
        "        if betti == True:\n",
        "            height_data = np.concatenate((height_data,gtda.diagrams.Amplitude(metric = 'betti', order = None).fit_transform(cubical_diagrams)),\n",
        "                                         axis = 1)\n",
        "        if wdist == True:\n",
        "            height_data = np.concatenate((height_data,gtda.diagrams.Amplitude(metric = 'wasserstein', order = None).fit_transform(cubical_diagrams)),\n",
        "                                         axis = 1)   \n",
        "    print(\"done\") \n",
        "    return height_data[:,1:]"
      ],
      "execution_count": null,
      "outputs": []
    },
    {
      "cell_type": "code",
      "metadata": {
        "id": "eKfiRSgH2VtO"
      },
      "source": [
        "radial_array = [[6,6],[13,6],[20,6],[6,13],[13,13],[20,13],[6,20],[13,20],[20,20]]\n",
        "\n",
        "def radial_data_fn(images = binarized_images, r_array = radial_array, ent=True, land=False, \n",
        "                   heat=False, wdist=False, betti=False):\n",
        "    n_col = (2*ent + 2*land + 2*heat + 2*wdist +2*betti)*np.shape(r_array)[0]\n",
        "    radial_data = np.zeros((np.shape(images)[0],n_col))\n",
        "    m = 0 #current column counter\n",
        "    for i in range(0, np.shape(r_array)[0]):\n",
        "        radial_fil_images = gtda.images.RadialFiltration(center = np.array(r_array[i])).fit_transform(images)\n",
        "        cubical_diagrams = gtda.homology.CubicalPersistence().fit_transform(radial_fil_images)\n",
        "        if ent == True:\n",
        "            radial_data[:,m:m+2] = gtda.diagrams.PersistenceEntropy().fit_transform(cubical_diagrams)\n",
        "            m = m + 2\n",
        "        if land == True:\n",
        "            radial_data[:,m:m+2] = gtda.diagrams.Amplitude(metric_params={\"n_layers\":2} , metric ='landscape', \n",
        "                                                           order = None).fit_transform(cubical_diagrams)\n",
        "            m = m+2\n",
        "        if heat == True:\n",
        "            radial_data[:,m:m+2]= gtda.diagrams.Amplitude(metric = 'heat', order = None).fit_transform(cubical_diagrams)\n",
        "            m = m + 2\n",
        "        if betti == True:\n",
        "            radial_data[:,m:m+2] = gtda.diagrams.Amplitude(metric = 'betti', order = None).fit_transform(cubical_diagrams)\n",
        "            m = m + 2\n",
        "        if wdist == True:\n",
        "            radial_data[:,m:m+2] = gtda.diagrams.Amplitude(metric = 'wasserstein', order = None).fit_transform(cubical_diagrams)\n",
        "            m = m + 2\n",
        "    print(\"done\")                       \n",
        "    return radial_data\n"
      ],
      "execution_count": null,
      "outputs": []
    },
    {
      "cell_type": "code",
      "metadata": {
        "id": "MpglFnXf2VtZ"
      },
      "source": [
        "density_array = [5,8,11]\n",
        "\n",
        "def density_data_fn(images = binarized_images, d_array = density_array, ent=True, land=False, \n",
        "                    heat=False, wdist=False, betti=False):\n",
        "    n_col = (2*ent + 2*land + 2*heat + 2*wdist +2*betti)*np.shape(d_array)[0]\n",
        "    density_data = np.zeros((np.shape(images)[0],n_col))\n",
        "    m = 0 #current column counter\n",
        "    for i in range(0, np.shape(d_array)[0]):\n",
        "        density_fil_images = gtda.images.DensityFiltration(radius = d_array[i]).fit_transform(images)\n",
        "        cubical_diagrams = gtda.homology.CubicalPersistence().fit_transform(density_fil_images)\n",
        "        if ent == True:\n",
        "            density_data[:,m:m+2] = gtda.diagrams.PersistenceEntropy().fit_transform(cubical_diagrams)\n",
        "            m = m + 2\n",
        "        if land == True:\n",
        "            density_data[:,m:m+2] = gtda.diagrams.Amplitude(metric_params={\"n_layers\":2} , metric ='landscape', \n",
        "                                                           order = None).fit_transform(cubical_diagrams)\n",
        "            m = m+2\n",
        "        if heat == True:\n",
        "            density_data[:,m:m+2]= gtda.diagrams.Amplitude(metric = 'heat', order = None).fit_transform(cubical_diagrams)\n",
        "            m = m + 2\n",
        "        if betti == True:\n",
        "            density_data[:,m:m+2] = gtda.diagrams.Amplitude(metric = 'betti', order = None).fit_transform(cubical_diagrams)\n",
        "            m = m + 2\n",
        "        if wdist == True:\n",
        "            density_data[:,m:m+2] = gtda.diagrams.Amplitude(metric = 'wasserstein', order = None).fit_transform(cubical_diagrams)\n",
        "            m = m + 2\n",
        "    print(\"done\") \n",
        "    return density_data"
      ],
      "execution_count": null,
      "outputs": []
    },
    {
      "cell_type": "code",
      "metadata": {
        "id": "bVEaiawZ2Vte"
      },
      "source": [
        "def grayscale_data_fn(images = images, ent=True, land=False, \n",
        "                      heat=False, wdist=False, betti=False):\n",
        "    n_col = (2*ent + 2*land + 2*heat + 2*wdist +2*betti)\n",
        "    grayscale_data = np.zeros((np.shape(images)[0],n_col))\n",
        "    cubical_diagrams = gtda.homology.CubicalPersistence().fit_transform(images)\n",
        "    m=0\n",
        "    if ent == True:\n",
        "        grayscale_data[:,m:m+2] = gtda.diagrams.PersistenceEntropy().fit_transform(cubical_diagrams)\n",
        "        m = m + 2\n",
        "    if land == True:\n",
        "        grayscale_data[:,m:m+2] = gtda.diagrams.Amplitude(metric_params={\"n_layers\":2} , metric ='landscape', \n",
        "                                                        order = None).fit_transform(cubical_diagrams)\n",
        "        m = m + 2\n",
        "    if heat == True:\n",
        "        grayscale_data[:,m:m+2]= gtda.diagrams.Amplitude(metric = 'heat', order = None).fit_transform(cubical_diagrams)\n",
        "        m = m + 2\n",
        "    if betti == True:\n",
        "        grayscale_data[:,m:m+2] = gtda.diagrams.Amplitude(metric = 'betti', order = None).fit_transform(cubical_diagrams)\n",
        "        m = m + 2\n",
        "    if wdist == True:\n",
        "        grayscale_data[:,m:m+2] = gtda.diagrams.Amplitude(metric = 'wasserstein', order = None).fit_transform(cubical_diagrams)\n",
        "        m = m + 2  \n",
        "    print(\"done\")          \n",
        "    return grayscale_data"
      ],
      "execution_count": null,
      "outputs": []
    },
    {
      "cell_type": "code",
      "metadata": {
        "id": "KBQgbecx2Vtj"
      },
      "source": [
        "def vr_data_fn(images = binarized_images, ent=True, land=False, \n",
        "               heat=False, wdist=False, betti=False):\n",
        "    n_col = (2*ent + 2*land + 2*heat + 2*wdist +2*betti)\n",
        "    vr_data = np.zeros((np.shape(images)[0],n_col))\n",
        "    point_cloud_data = gtda.images.ImageToPointCloud().fit_transform(images)\n",
        "    cubical_diagrams = gtda.homology.VietorisRipsPersistence().fit_transform(point_cloud_data)\n",
        "    m=0\n",
        "    if ent == True:\n",
        "        vr_data[:,m:m+2] = gtda.diagrams.PersistenceEntropy().fit_transform(cubical_diagrams)\n",
        "        m = m + 2\n",
        "    if land == True:\n",
        "        vr_data[:,m:m+2] = gtda.diagrams.Amplitude(metric_params={\"n_layers\":2}, metric ='landscape', \n",
        "                                                        order = None).fit_transform(cubical_diagrams)\n",
        "        m = m + 2\n",
        "    if heat == True:\n",
        "        vr_data[:,m:m+2]= gtda.diagrams.Amplitude(metric = 'heat', order = None).fit_transform(cubical_diagrams)\n",
        "        m = m + 2\n",
        "    if betti == True:\n",
        "        vr_data[:,m:m+2] = gtda.diagrams.Amplitude(metric = 'betti', order = None).fit_transform(cubical_diagrams)\n",
        "        m = m + 2\n",
        "    if wdist == True:\n",
        "        vr_data[:,m:m+2] = gtda.diagrams.Amplitude(metric = 'wasserstein', order = None).fit_transform(cubical_diagrams)\n",
        "        m = m + 2 \n",
        "    print(\"done\")           \n",
        "    return vr_data"
      ],
      "execution_count": null,
      "outputs": []
    },
    {
      "cell_type": "code",
      "metadata": {
        "id": "moPYCUQ_2Vto"
      },
      "source": [
        "def dilation_data(images = binarized_images, ent=True, land=False, \n",
        "                  heat=False, wdist=False, betti=False):\n",
        "    n_col = (2*ent + 2*land + 2*heat + 2*wdist +2*betti)\n",
        "    dil_data =  np.zeros((np.shape(images)[0],n_col))\n",
        "    cubical_diagrams = gtda.images.DilationFiltration().fit_transform(images)\n",
        "    m=0\n",
        "    if ent == True:\n",
        "        dil_data[:,m:m+2] = gtda.diagrams.PersistenceEntropy().fit_transform(cubical_diagrams)\n",
        "        m = m + 2\n",
        "    if land == True:\n",
        "        dil_data[:,m:m+2] = gtda.diagrams.Amplitude(metric_params={\"n_layers\":2} , metric ='landscape', \n",
        "                                                        order = None).fit_transform(cubical_diagrams)\n",
        "        m = m + 2\n",
        "    if heat == True:\n",
        "        dil_data[:,m:m+2]= gtda.diagrams.Amplitude(metric = 'heat', order = None).fit_transform(cubical_diagrams)\n",
        "        m = m + 2\n",
        "    if betti == True:\n",
        "        dil_data[:,m:m+2] = gtda.diagrams.Amplitude(metric = 'betti', order = None).fit_transform(cubical_diagrams)\n",
        "        m = m + 2\n",
        "    if wdist == True:\n",
        "        dil_data[:,m:m+2] = gtda.diagrams.Amplitude(metric = 'wasserstein', order = None).fit_transform(cubical_diagrams)\n",
        "        m = m + 2  \n",
        "    print(\"done\")          \n",
        "    return dil_data"
      ],
      "execution_count": null,
      "outputs": []
    },
    {
      "cell_type": "code",
      "metadata": {
        "id": "ZTYI5gZh2Vtt"
      },
      "source": [
        "def erosion_data_fn(images = binarized_images, ent=True, land=False, \n",
        "                    heat=False, wdist=False, betti=False):\n",
        "    n_col = (2*ent + 2*land + 2*heat + 2*wdist +2*betti)\n",
        "    erosion_data =  np.zeros((np.shape(images)[0],n_col))\n",
        "    cubical_diagrams = gtda.images.ErosionFiltration().fit_transform(images)\n",
        "    m=0\n",
        "    if ent == True:\n",
        "        erosion_data[:,m:m+2] = gtda.diagrams.PersistenceEntropy().fit_transform(cubical_diagrams)\n",
        "        m = m + 2\n",
        "    if land == True:\n",
        "        erosion_data[:,m:m+2] = gtda.diagrams.Amplitude(metric_params={\"n_layers\":2}, metric ='landscape', \n",
        "                                                        order = None).fit_transform(cubical_diagrams)\n",
        "        m = m + 2\n",
        "    if heat == True:\n",
        "        erosion_data[:,m:m+2]= gtda.diagrams.Amplitude(metric = 'heat', order = None).fit_transform(cubical_diagrams)\n",
        "        m = m + 2\n",
        "    if betti == True:\n",
        "        erosion_data[:,m:m+2] = gtda.diagrams.Amplitude(metric = 'betti', order = None).fit_transform(cubical_diagrams)\n",
        "        m = m + 2\n",
        "    if wdist == True:\n",
        "        erosion_data[:,m:m+2] = gtda.diagrams.Amplitude(metric = 'wasserstein', order = None).fit_transform(cubical_diagrams)\n",
        "        m = m + 2  \n",
        "    print(\"done\")         \n",
        "    return erosion_data"
      ],
      "execution_count": null,
      "outputs": []
    },
    {
      "cell_type": "code",
      "metadata": {
        "id": "pCFXU7_x2Vty"
      },
      "source": [
        "def sd_data_fn(images = binarized_images, ent=True, land=False, \n",
        "               heat=False, wdist=False, betti=False):\n",
        "    n_col = (2*ent + 2*land + 2*heat + 2*wdist +2*betti)\n",
        "    sd_data =  np.zeros((np.shape(images)[0],n_col))\n",
        "    cubical_diagrams = gtda.images.SignedDistanceFiltration().fit_transform(images)\n",
        "    m=0\n",
        "    if ent == True:\n",
        "        sd_data[:,m:m+2] = gtda.diagrams.PersistenceEntropy().fit_transform(cubical_diagrams)\n",
        "        m = m + 2\n",
        "    if land == True:\n",
        "        sd_data[:,m:m+2] = gtda.diagrams.Amplitude(metric_params={\"n_layers\":2}, metric ='landscape', \n",
        "                                                        order = None).fit_transform(cubical_diagrams)\n",
        "        m = m + 2\n",
        "    if heat == True:\n",
        "        sd_data[:,m:m+2]= gtda.diagrams.Amplitude(metric = 'heat', order = None).fit_transform(cubical_diagrams)\n",
        "        m = m + 2\n",
        "    if betti == True:\n",
        "        sd_data[:,m:m+2] = gtda.diagrams.Amplitude(metric = 'betti', order = None).fit_transform(cubical_diagrams)\n",
        "        m = m + 2\n",
        "    if wdist == True:\n",
        "        sd_data[:,m:m+2] = gtda.diagrams.Amplitude(metric = 'wasserstein', order = None).fit_transform(cubical_diagrams)\n",
        "        m = m + 2  \n",
        "    print(\"done\")          \n",
        "    return sd_data"
      ],
      "execution_count": null,
      "outputs": []
    },
    {
      "cell_type": "code",
      "metadata": {
        "id": "UMNPhOxG2Vt4"
      },
      "source": [
        "# ax+by+c denotes line we are considering\n",
        "def direction_filtration(Q,a,b,c, par = True):\n",
        "    shape_x = np.shape(Q)[0]\n",
        "    shape_y = np.shape(Q)[1]\n",
        "    Qnew = np.zeros((shape_x,shape_y))\n",
        "    for i in range(0,shape_x):\n",
        "        for j in range(0,shape_y):\n",
        "            if par and Q[i][j] == 1:\n",
        "                Qnew[i][j] = abs(a*i + b*j + c)/((a**2 + b**2)**(1/2))\n",
        "            if par != True and Q[i][j] == 1:\n",
        "                Qnew[i][j] = -1 * abs(a*i + b*j + c)/((a**2 + b**2)**(1/2))\n",
        "    max_val = np.max(Qnew)\n",
        "    for i in range(0,shape_x):\n",
        "        for j in range(0,shape_y):\n",
        "            if Q[i][j] == 0:\n",
        "                Qnew[i][j] = max_val+5\n",
        "    return Qnew\n"
      ],
      "execution_count": null,
      "outputs": []
    },
    {
      "cell_type": "code",
      "metadata": {
        "id": "f3Sa1u4S2VuA"
      },
      "source": [
        "#line filtration corr to a,b,c for line of form ax+by+c = 0\n",
        "\n",
        "def line_filtration(nparr, coeff, l):\n",
        "    line_data = np.zeros((np.shape(coeff)[0],np.shape(nparr)[0],image_dim,image_dim))  \n",
        "    for k in range(0,np.shape(nparr)[0]):\n",
        "        for t in range(0,np.shape(coeff)[0]):\n",
        "            line_data[t][k] = direction_filtration(binarized_images[k], a = coeff[t][0]\n",
        "                                                   ,b = coeff[t][1]\n",
        "                                                   ,c = coeff[t][2]\n",
        "                                                   ,par = l[t])\n",
        "    return line_data\n"
      ],
      "execution_count": null,
      "outputs": []
    },
    {
      "cell_type": "code",
      "metadata": {
        "id": "7Q7RTkhe2VuJ"
      },
      "source": [
        "l = np.array((True, True, False, False))\n",
        "coeff = [[1,-1,-20],[0,1,-27],[0,1,-13],[1,0,-13]]\n",
        "\n",
        "def line_data_fn(images = binarized_images, ent=True, land=False, \n",
        "                 heat=False, wdist=False, betti=False):\n",
        "    n_col = (2*ent + 2*land + 2*heat + 2*wdist +2*betti)*np.shape(coeff)[0]\n",
        "    line_data =  np.zeros((np.shape(images)[0],n_col))\n",
        "    line_fil_images = line_filtration(images,coeff, l)\n",
        "    m = 0 #current column counter\n",
        "    for i in range(0, np.shape(coeff)[0]):\n",
        "        cubical_diagrams = gtda.homology.CubicalPersistence().fit_transform(line_fil_images[i])\n",
        "        if ent == True:\n",
        "            line_data[:,m:m+2] = gtda.diagrams.PersistenceEntropy().fit_transform(cubical_diagrams)\n",
        "            m = m + 2\n",
        "        if land == True:\n",
        "            line_data[:,m:m+2] = gtda.diagrams.Amplitude(metric_params={\"n_layers\":2}, metric ='landscape', \n",
        "                                                           order = None).fit_transform(cubical_diagrams)\n",
        "            m = m+2\n",
        "        if heat == True:\n",
        "            line_data[:,m:m+2]= gtda.diagrams.Amplitude(metric = 'heat', order = None).fit_transform(cubical_diagrams)\n",
        "            m = m + 2\n",
        "        if betti == True:\n",
        "            line_data[:,m:m+2] = gtda.diagrams.Amplitude(metric = 'betti', order = None).fit_transform(cubical_diagrams)\n",
        "            m = m + 2\n",
        "        if wdist == True:\n",
        "            line_data[:,m:m+2] = gtda.diagrams.Amplitude(metric = 'wasserstein', order = None).fit_transform(cubical_diagrams)\n",
        "            m = m + 2     \n",
        "    print(\"done\") \n",
        "    return line_data"
      ],
      "execution_count": null,
      "outputs": []
    },
    {
      "cell_type": "code",
      "metadata": {
        "id": "H4_qtrWXB968",
        "outputId": "33ef503b-8404-4a88-80f8-ec7b1f8525f1",
        "colab": {
          "base_uri": "https://localhost:8080/",
          "height": 34
        }
      },
      "source": [
        "height_data = height_data_fn(images = binarized_images_hist, ent = True)"
      ],
      "execution_count": null,
      "outputs": [
        {
          "output_type": "stream",
          "text": [
            "done\n"
          ],
          "name": "stdout"
        }
      ]
    },
    {
      "cell_type": "code",
      "metadata": {
        "id": "dczykXOTIkIw",
        "outputId": "de122821-1833-4902-d43f-c33f1cd09bc6",
        "colab": {
          "base_uri": "https://localhost:8080/",
          "height": 34
        }
      },
      "source": [
        "radial_data = radial_data_fn(images = binarized_images_hist,ent = True)\n"
      ],
      "execution_count": null,
      "outputs": [
        {
          "output_type": "stream",
          "text": [
            "done\n"
          ],
          "name": "stdout"
        }
      ]
    },
    {
      "cell_type": "code",
      "metadata": {
        "id": "VTWRCp1f4TCq"
      },
      "source": [
        "#density_data = density_data_fn(images = binarized_images_hist,ent = True)"
      ],
      "execution_count": null,
      "outputs": []
    },
    {
      "cell_type": "code",
      "metadata": {
        "id": "oAF2SfBkCHLW",
        "outputId": "bcd873fd-bff9-4342-f760-ec56ddba57b2",
        "colab": {
          "base_uri": "https://localhost:8080/",
          "height": 50
        }
      },
      "source": [
        "grayscale_data = grayscale_data_fn(images = hist_images, ent = True)\n",
        "line_data = line_data_fn(images = binarized_images_hist, ent = True)\n",
        "#vr_data = vr_data_fn(images = binarized_images_hist)"
      ],
      "execution_count": null,
      "outputs": [
        {
          "output_type": "stream",
          "text": [
            "done\n",
            "done\n"
          ],
          "name": "stdout"
        }
      ]
    },
    {
      "cell_type": "code",
      "metadata": {
        "id": "z13PcecpDAtd"
      },
      "source": [
        "final_data = np.concatenate((height_data,radial_data, grayscale_data, line_data), axis = 1)\n",
        "pd.DataFrame(final_data).to_csv('data_entropy_25.csv')"
      ],
      "execution_count": null,
      "outputs": []
    },
    {
      "cell_type": "code",
      "metadata": {
        "id": "Xf9sknTOaxQH"
      },
      "source": [
        "from sklearn import preprocessing\n",
        "from sklearn.ensemble import RandomForestClassifier"
      ],
      "execution_count": null,
      "outputs": []
    },
    {
      "cell_type": "code",
      "metadata": {
        "id": "AuBuOeWCYeE1",
        "outputId": "1e53b161-e791-489f-ba7f-2c0b15b94159",
        "colab": {
          "base_uri": "https://localhost:8080/",
          "height": 34
        }
      },
      "source": [
        "train_data = final_data[:60000,]\n",
        "test_data = final_data[60000:,]\n",
        "\n",
        "classifier = RandomForestClassifier(n_estimators = 1000, random_state = 31415)\n",
        "classifier.fit(train_data, digit_train)\n"
      ],
      "execution_count": null,
      "outputs": [
        {
          "output_type": "execute_result",
          "data": {
            "text/plain": [
              "RandomForestClassifier(n_estimators=1000, random_state=31415)"
            ]
          },
          "metadata": {
            "tags": []
          },
          "execution_count": 33
        }
      ]
    },
    {
      "cell_type": "code",
      "metadata": {
        "id": "j6U828yYenlf"
      },
      "source": [
        "test_pred = classifier.predict(test_data)"
      ],
      "execution_count": null,
      "outputs": []
    },
    {
      "cell_type": "code",
      "metadata": {
        "id": "j3MZEv2FgFpO"
      },
      "source": [
        "diff = pd.DataFrame(test_pred - digit_test , columns = ['values'])\n",
        "mismatch = diff[diff['values']!= 0]"
      ],
      "execution_count": null,
      "outputs": []
    },
    {
      "cell_type": "code",
      "metadata": {
        "id": "dCUuIZ4fgWSe",
        "outputId": "224b4bdb-d1f2-43e9-8c25-c15dad43c7ca",
        "colab": {
          "base_uri": "https://localhost:8080/",
          "height": 34
        }
      },
      "source": [
        "print('Accuracy of model is', 100 - np.shape(mismatch)[0]*100/np.shape(test)[0])\n"
      ],
      "execution_count": null,
      "outputs": [
        {
          "output_type": "stream",
          "text": [
            "Accuracy of model is 67.46000000000001\n"
          ],
          "name": "stdout"
        }
      ]
    },
    {
      "cell_type": "code",
      "metadata": {
        "id": "3DnFuqf4hesF",
        "outputId": "d557a520-8148-4fc0-ce0a-32a1bd9da315",
        "colab": {
          "base_uri": "https://localhost:8080/",
          "height": 34
        }
      },
      "source": [
        "! zip data_25.zip *.csv"
      ],
      "execution_count": null,
      "outputs": [
        {
          "output_type": "stream",
          "text": [
            "  adding: data_entropy_25.csv (deflated 59%)\n"
          ],
          "name": "stdout"
        }
      ]
    },
    {
      "cell_type": "code",
      "metadata": {
        "id": "2phn4QKGrS7q",
        "outputId": "886f78e4-f02d-4bdc-8469-5e03a5bd43a2",
        "colab": {
          "base_uri": "https://localhost:8080/",
          "height": 34
        }
      },
      "source": [
        "from google.colab import drive\n",
        "drive.mount('/content/drive')"
      ],
      "execution_count": null,
      "outputs": [
        {
          "output_type": "stream",
          "text": [
            "Mounted at /content/drive\n"
          ],
          "name": "stdout"
        }
      ]
    },
    {
      "cell_type": "code",
      "metadata": {
        "id": "Ca2pTM_mrTiY"
      },
      "source": [
        "! mv data_25.zip \"/content/drive/My Drive\""
      ],
      "execution_count": null,
      "outputs": []
    }
  ]
}