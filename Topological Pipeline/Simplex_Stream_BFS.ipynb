{
  "nbformat": 4,
  "nbformat_minor": 0,
  "metadata": {
    "colab": {
      "name": "Simplex_Stream_BFS.ipynb",
      "provenance": [],
      "collapsed_sections": []
    },
    "kernelspec": {
      "name": "python3",
      "display_name": "Python 3"
    }
  },
  "cells": [
    {
      "cell_type": "code",
      "metadata": {
        "colab": {
          "base_uri": "https://localhost:8080/"
        },
        "id": "4zcd2haKByRD",
        "outputId": "9360dd5e-189d-4e92-f48d-4f4d02a7e06e"
      },
      "source": [
        "! pip install dionysus"
      ],
      "execution_count": 1,
      "outputs": [
        {
          "output_type": "stream",
          "text": [
            "Collecting dionysus\n",
            "\u001b[?25l  Downloading https://files.pythonhosted.org/packages/7f/6f/185c828ce2b94229359fbf84a9062ecdf9c5a38f1d688d2adc2144e6cb35/dionysus-2.0.8.tar.gz (1.7MB)\n",
            "\u001b[K     |████████████████████████████████| 1.7MB 13.3MB/s \n",
            "\u001b[?25hBuilding wheels for collected packages: dionysus\n",
            "  Building wheel for dionysus (setup.py) ... \u001b[?25l\u001b[?25hdone\n",
            "  Created wheel for dionysus: filename=dionysus-2.0.8-cp36-cp36m-linux_x86_64.whl size=322799 sha256=c1435e10f1a0fd20672f6007a35c2f474ad8aa1b531e1880e8794db30675617e\n",
            "  Stored in directory: /root/.cache/pip/wheels/91/a9/4e/dcf72861c267c8445765197025f7a02f887fc8f6b43c9c710c\n",
            "Successfully built dionysus\n",
            "Installing collected packages: dionysus\n",
            "Successfully installed dionysus-2.0.8\n"
          ],
          "name": "stdout"
        }
      ]
    },
    {
      "cell_type": "code",
      "metadata": {
        "id": "qX883tP8B6Az"
      },
      "source": [
        "import dionysus as ds\n",
        "import networkx as nx\n",
        "import numpy as np\n",
        "import matplotlib.pyplot as plt\n",
        "from sklearn.datasets import load_digits\n",
        "from skimage.morphology import skeletonize\n",
        "import pandas as pd\n",
        "import tensorflow as tf\n",
        "from tensorflow import keras"
      ],
      "execution_count": 2,
      "outputs": []
    },
    {
      "cell_type": "code",
      "metadata": {
        "colab": {
          "base_uri": "https://localhost:8080/"
        },
        "id": "iLssOrIgCO54",
        "outputId": "4246c1a6-5841-4221-ace2-0ee539fa088b"
      },
      "source": [
        "mnist = keras.datasets.mnist\n",
        "(train, digit_train), (test, digit_test) = mnist.load_data()"
      ],
      "execution_count": 3,
      "outputs": [
        {
          "output_type": "stream",
          "text": [
            "Downloading data from https://storage.googleapis.com/tensorflow/tf-keras-datasets/mnist.npz\n",
            "11493376/11490434 [==============================] - 0s 0us/step\n"
          ],
          "name": "stdout"
        }
      ]
    },
    {
      "cell_type": "code",
      "metadata": {
        "id": "BrPFvXWoCWcQ"
      },
      "source": [
        "data_X = np.concatenate((train,test))\n",
        "data_y = np.concatenate((digit_train,digit_test))"
      ],
      "execution_count": 4,
      "outputs": []
    },
    {
      "cell_type": "code",
      "metadata": {
        "id": "SCp2055xFTtJ"
      },
      "source": [
        "class graph:\n",
        "\n",
        "  def __init__(self, vertices = [] , edges = [], visited = [], bfs = []):\n",
        "    self.v = vertices\n",
        "    self.e = edges\n",
        "    self.visit = visited\n",
        "    self.bfs = bfs\n",
        "\n",
        "  def set_visits(self):\n",
        "    self.visit = []\n",
        "    self.bfs = []\n",
        "    for i in range(len(self.v)):\n",
        "        self.visit.append(0)\n",
        "        self.bfs.append(0)\n",
        "\n",
        "  def adjacency(self):\n",
        "    for i in range(len(self.v)):\n",
        "      print(\"Vertex \", self.v[i] ,\" is connected to:\")\n",
        "      print(self.e[i])\n",
        "  \n",
        "  def add_vertex(self, v):\n",
        "    self.v.append(v)\n",
        "    self.e.append([])\n",
        "    self.visit.append(0)\n",
        "  \n",
        "  def set_edges(self):\n",
        "    for i in range(len(self.v)):\n",
        "      self.e.append([])\n",
        "\n",
        "  def add_edge(self, e):\n",
        "    e1 = e[0]\n",
        "    e2 = e[1]\n",
        "    for i in range(len(self.v)):\n",
        "      if self.v[i] == e2:\n",
        "        self.e[i].append(e1)\n",
        "    for i in range(len(self.v)):\n",
        "      if self.v[i] == e1:\n",
        "        self.e[i].append(e2)\n",
        "\n",
        "  def if_edge(self, e):\n",
        "    e1 = e[0]\n",
        "    e2 = e[1]\n",
        "    k = -1\n",
        "    for i in range(len(self.v)):\n",
        "      if self.v[i] == e1:\n",
        "        break\n",
        "    return e2 in self.e[i]\n",
        "\n",
        "  def get_index(self , v):\n",
        "    for i in range(len(self.v)):\n",
        "      if self.v[i] == v:\n",
        "        break\n",
        "    return i\n",
        "  \n",
        "  def get_row(self , v):\n",
        "    for i in range(len(self.v)):\n",
        "      if self.v[i] == v:\n",
        "        break\n",
        "    row = []\n",
        "    for j in range(len(self.v)):\n",
        "      edge = self.v[j] in self.e[i]\n",
        "      row.append(edge*1)\n",
        "    return row\n",
        "\n",
        "  def adjacency_matrix(self):\n",
        "    adjacency_matrix = []\n",
        "    for i in range(len(self.v)):\n",
        "      adjacency_matrix.append(self.get_row(self.v[i]))\n",
        "    return adjacency_matrix\n",
        "  \n",
        "  def update_visit(self , w):\n",
        "    i = self.get_index(w)\n",
        "    self.visit[i] = 1\n",
        "  \n",
        "  def get_visit(self,w):\n",
        "    i = self.get_index(w)\n",
        "    return self.visit[i]\n",
        "  \n",
        "  def update_bfs(self, w, t):\n",
        "    i = self.get_index(w)\n",
        "    self.bfs[i] = t\n",
        "\n",
        "  def visit_left(self):\n",
        "    return 0 in self.visit\n",
        "\n",
        "  def bfs_val(self):\n",
        "    return(max(self.bfs))"
      ],
      "execution_count": 5,
      "outputs": []
    },
    {
      "cell_type": "code",
      "metadata": {
        "id": "4DCT3h5UIcLm"
      },
      "source": [
        "def get_edges(graph, ord = False, v = 0):\n",
        "  get_edges = []\n",
        "  if ord == False:\n",
        "    vertices = graph.v\n",
        "    edges = graph.e\n",
        "    for i in range(len(vertices)):\n",
        "      vertex = vertices[i]\n",
        "      while edges[i] != []:\n",
        "        get_edges.append([vertex, edges[i][0]])\n",
        "        edges[graph.get_index(edges[i][0])].remove(vertex)\n",
        "        edges[i].pop(0)\n",
        "    return get_edges\n",
        "  if ord:\n",
        "    vertices = graph.v\n",
        "    order = graph.bfs_order(v)\n",
        "    order_edge = []\n",
        "    edges = graph.e\n",
        "    for i in range(len(vertices)):\n",
        "      vertex = vertices[i]\n",
        "      while edges[i] != []:\n",
        "        get_edges.append([vertex, edges[i][0]])\n",
        "        order\n",
        "        edges[graph.get_index(edges[i][0])].remove(vertex)\n",
        "        edges[i].pop(0)\n",
        "    return (get_edges,order_edge)\n"
      ],
      "execution_count": 6,
      "outputs": []
    },
    {
      "cell_type": "code",
      "metadata": {
        "id": "jA6K4FQ_PgBk"
      },
      "source": [
        "def get_graph(vertices , edges):\n",
        "  sample = graph(vertices)\n",
        "  sample.set_edges()\n",
        "  for i in edges:\n",
        "    sample.add_edge(i)\n",
        "  return sample"
      ],
      "execution_count": 7,
      "outputs": []
    },
    {
      "cell_type": "code",
      "metadata": {
        "id": "gHEOmKHuF6hB"
      },
      "source": [
        "def bfs_order(graph, v):\n",
        "  time = 1\n",
        "  graph.set_visits()\n",
        "  graph.update_bfs(v, time)\n",
        "  graph.update_visit(v)\n",
        "  temp = graph.e[graph.get_index(v)]\n",
        "  while graph.visit_left():\n",
        "    time = time + 1\n",
        "    temp2 = []\n",
        "    for t in temp:\n",
        "      if graph.get_visit(t) == 0:\n",
        "        graph.update_bfs(t,time)\n",
        "        graph.update_visit(t)\n",
        "        temp2 = temp2 + graph.e[graph.get_index(t)]\n",
        "    if temp == []:\n",
        "      temp2 = (graph.visit).index(0)\n",
        "    temp = temp2"
      ],
      "execution_count": 8,
      "outputs": []
    },
    {
      "cell_type": "code",
      "metadata": {
        "id": "wzDEf94VfBMz"
      },
      "source": [
        "def bfs_simplex_0(graph, v):\n",
        "  s_0 = []\n",
        "  graph.set_visits()\n",
        "  bfs_order(graph, v)\n",
        "  for i in graph.v:\n",
        "    s_0.append(([i], graph.bfs[graph.get_index(i)]))\n",
        "  return s_0   "
      ],
      "execution_count": 9,
      "outputs": []
    },
    {
      "cell_type": "code",
      "metadata": {
        "id": "DHMly0zxFM8D"
      },
      "source": [
        "def bfs_simplex_1(graph, v):\n",
        "  s_1 = []\n",
        "  graph.set_visits()\n",
        "  bfs_order(graph, v)\n",
        "  for i in get_edges(graph):\n",
        "    t = max(graph.bfs[graph.get_index(i[0])],graph.bfs[graph.get_index(i[1])])\n",
        "    s_1.append((i,t))\n",
        "  return s_1"
      ],
      "execution_count": 33,
      "outputs": []
    },
    {
      "cell_type": "code",
      "metadata": {
        "id": "0Bw_2x-VZbE1",
        "colab": {
          "base_uri": "https://localhost:8080/"
        },
        "outputId": "ced16954-4a0d-4bed-9fca-e0edee9a267f"
      },
      "source": [
        "#testing functions\n",
        "sample = graph([1,2,3],[[2,3],[1],[1]])\n",
        "sample.adjacency()\n",
        "sample.add_vertex(4)\n",
        "sample.adjacency()\n",
        "sample.add_edge([3,4])\n",
        "sample.adjacency()\n",
        "sample.set_visits()\n",
        "sample.visit\n",
        "sample.if_edge([4,2])\n",
        "sample.get_row(1)\n",
        "sample.adjacency_matrix()"
      ],
      "execution_count": 34,
      "outputs": [
        {
          "output_type": "stream",
          "text": [
            "Vertex  1  is connected to:\n",
            "[2, 3]\n",
            "Vertex  2  is connected to:\n",
            "[1]\n",
            "Vertex  3  is connected to:\n",
            "[1]\n",
            "Vertex  1  is connected to:\n",
            "[2, 3]\n",
            "Vertex  2  is connected to:\n",
            "[1]\n",
            "Vertex  3  is connected to:\n",
            "[1]\n",
            "Vertex  4  is connected to:\n",
            "[]\n",
            "Vertex  1  is connected to:\n",
            "[2, 3]\n",
            "Vertex  2  is connected to:\n",
            "[1]\n",
            "Vertex  3  is connected to:\n",
            "[1, 4]\n",
            "Vertex  4  is connected to:\n",
            "[3]\n"
          ],
          "name": "stdout"
        },
        {
          "output_type": "execute_result",
          "data": {
            "text/plain": [
              "[[0, 1, 1, 0], [1, 0, 0, 0], [1, 0, 0, 1], [0, 0, 1, 0]]"
            ]
          },
          "metadata": {
            "tags": []
          },
          "execution_count": 34
        }
      ]
    },
    {
      "cell_type": "code",
      "metadata": {
        "id": "1K2DXjppCco4"
      },
      "source": [
        "def get_skeleton(image):\n",
        "    binary_image = image.astype(bool)\n",
        "    skeleton = skeletonize(binary_image)\n",
        "    skeleton = skeleton.astype(int)\n",
        "    return skeleton"
      ],
      "execution_count": 35,
      "outputs": []
    },
    {
      "cell_type": "code",
      "metadata": {
        "id": "PclkhYfWR68o"
      },
      "source": [
        "def points(vertices):\n",
        "  point = []\n",
        "  [v0,v1] = vertices\n",
        "  for i in range(np.shape(v0)[0]):\n",
        "    point.append([v0[i],v1[i]])\n",
        "  return list(point)"
      ],
      "execution_count": 36,
      "outputs": []
    },
    {
      "cell_type": "code",
      "metadata": {
        "id": "W8HqT0YWbpAG"
      },
      "source": [
        "def skeleton_points(image):\n",
        "  sk = get_skeleton(image)\n",
        "  vert_1 = np.where(sk== 1)\n",
        "  return points(vert_1)"
      ],
      "execution_count": 37,
      "outputs": []
    },
    {
      "cell_type": "code",
      "metadata": {
        "id": "TJvnW05ROxbe"
      },
      "source": [
        "def get_up_nghbrs(vertex, allpt):\n",
        "  [x,y] = allpt[vertex]\n",
        "  neighbours = [[x,y+1], [x+1,y], [x+1,y+1], [x+1, y-1]]\n",
        "  ngbhr_vertices = []\n",
        "  for i in neighbours:\n",
        "    if i in allpt:\n",
        "      ngbhr_vertices.append([vertex,allpt.index(i)])\n",
        "  return ngbhr_vertices"
      ],
      "execution_count": 38,
      "outputs": []
    },
    {
      "cell_type": "code",
      "metadata": {
        "id": "BLwbzqT6Y6zZ"
      },
      "source": [
        "def get_up_nghbrs_nd(vertex, allpt):\n",
        "  [x,y] = allpt[vertex]\n",
        "  neighbours = [[x,y+1], [x+1,y]]\n",
        "  ngbhr_vertices = []\n",
        "  for i in neighbours:\n",
        "    if i in allpt:\n",
        "      ngbhr_vertices.append([vertex,allpt.index(i)])\n",
        "  return ngbhr_vertices"
      ],
      "execution_count": 39,
      "outputs": []
    },
    {
      "cell_type": "code",
      "metadata": {
        "id": "ASR-Lx0ebW6M"
      },
      "source": [
        "def graph_sk_edge(allpt):\n",
        "  v = np.arange(np.shape(allpt)[0])\n",
        "  e = []\n",
        "  for i in v:\n",
        "    e = e + get_up_nghbrs(i,allpt)\n",
        "  return e"
      ],
      "execution_count": 40,
      "outputs": []
    },
    {
      "cell_type": "code",
      "metadata": {
        "id": "0QmtDT4civRO"
      },
      "source": [
        "def graph_sk_edge_r3c(allpt):\n",
        "  v = np.arange(np.shape(allpt)[0])\n",
        "  e = []\n",
        "  for i in v:\n",
        "    e = e + get_up_nghbrs_nd(i,allpt)\n",
        "  return e"
      ],
      "execution_count": 41,
      "outputs": []
    },
    {
      "cell_type": "code",
      "metadata": {
        "id": "zWmtKHlWCucw"
      },
      "source": [
        "def skeletongraph(image, show = -1):\n",
        "  allpt = skeleton_points(image)\n",
        "  v = np.arange(np.shape(allpt)[0])\n",
        "  e = graph_sk_edge(allpt)\n",
        "  if show == -1:\n",
        "    g = graph(v,[])\n",
        "    g.set_edges()\n",
        "    for i in e:\n",
        "      g.add_edge(i)\n",
        "    return g\n",
        "  if show == 1:\n",
        "    g = nx.Graph()\n",
        "    g.add_nodes_from(v)\n",
        "    g.add_edges_from(e)\n",
        "    return g"
      ],
      "execution_count": 42,
      "outputs": []
    },
    {
      "cell_type": "code",
      "metadata": {
        "id": "Zz76lyGFUJ0P"
      },
      "source": [
        "def add_edges_diag_r3c(g, allpt):\n",
        "  for i in g.v:\n",
        "    [x,y] = allpt[i]\n",
        "    neighbours = [[x+1,y+1], [x+1, y-1]]\n",
        "    for j in neighbours:\n",
        "      if j in allpt:\n",
        "        k = allpt.index(j)\n",
        "        edges_k = g.e[k]\n",
        "        edges_i = g.e[i]\n",
        "        intersection = list(set(edges_k) & set(edges_i))\n",
        "        if intersection == []:\n",
        "          g.add_edge([i,k])\n",
        "  return g"
      ],
      "execution_count": 43,
      "outputs": []
    },
    {
      "cell_type": "code",
      "metadata": {
        "id": "8ZaZGLR0Z85c"
      },
      "source": [
        "def skeletongraphr3c(image, show = -1):\n",
        "  allpt = skeleton_points(image)\n",
        "  v = np.arange(np.shape(allpt)[0])\n",
        "  e = graph_sk_edge_r3c(allpt)\n",
        "  g = graph(v,[])\n",
        "  g.set_edges()\n",
        "  for i in e:\n",
        "    g.add_edge(i)\n",
        "  g_n = add_edges_diag_r3c(g,allpt)\n",
        "  if show == -1:\n",
        "    return g_n\n",
        "  if show == 1:\n",
        "    g_r = nx.Graph()\n",
        "    g_r.add_nodes_from(v)\n",
        "    g_r.add_edges_from(get_edges(g_n))\n",
        "    return g_r"
      ],
      "execution_count": 44,
      "outputs": []
    },
    {
      "cell_type": "code",
      "metadata": {
        "colab": {
          "base_uri": "https://localhost:8080/",
          "height": 265
        },
        "id": "jbPwLvEKa2mf",
        "outputId": "9f5b24c8-7e08-4c8b-ef39-fbda34b1c12b"
      },
      "source": [
        "image = data_X[1]\n",
        "plt.imshow(image)\n",
        "g_0 = skeletongraph(image, 1)\n",
        "g_1 = skeletongraph(image , -1)\n",
        "g_3 = skeletongraphr3c(image, 1)\n",
        "g_4 = skeletongraphr3c(image, -1)"
      ],
      "execution_count": 45,
      "outputs": [
        {
          "output_type": "display_data",
          "data": {
            "image/png": "[encoded data removed]",
            "text/plain": [
              "<Figure size 432x288 with 1 Axes>"
            ]
          },
          "metadata": {
            "tags": [],
            "needs_background": "light"
          }
        }
      ]
    },
    {
      "cell_type": "code",
      "metadata": {
        "colab": {
          "base_uri": "https://localhost:8080/",
          "height": 282
        },
        "id": "UEPv-BfB2wI9",
        "outputId": "efd2277a-29c2-4d86-9219-c7d068e21158"
      },
      "source": [
        "#Skeletonising\n",
        "sk = get_skeleton(image)\n",
        "vo,v1 = np.where(sk== 1)\n",
        "plt.scatter(vo,v1)"
      ],
      "execution_count": 46,
      "outputs": [
        {
          "output_type": "execute_result",
          "data": {
            "text/plain": [
              "<matplotlib.collections.PathCollection at 0x7ff2652155c0>"
            ]
          },
          "metadata": {
            "tags": []
          },
          "execution_count": 46
        },
        {
          "output_type": "display_data",
          "data": {
            "image/png": "[encoded data removed]",
            "text/plain": [
              "<Figure size 432x288 with 1 Axes>"
            ]
          },
          "metadata": {
            "tags": [],
            "needs_background": "light"
          }
        }
      ]
    },
    {
      "cell_type": "code",
      "metadata": {
        "colab": {
          "base_uri": "https://localhost:8080/",
          "height": 319
        },
        "id": "0zpCN1UbWRg9",
        "outputId": "0919d96b-f018-4640-fff8-b1aefd9926a8"
      },
      "source": [
        "#Shows graph with labelling of vertices\n",
        "nx.draw_kamada_kawai(g_0, with_labels=True)"
      ],
      "execution_count": 47,
      "outputs": [
        {
          "output_type": "display_data",
          "data": {
            "image/png": "[encoded data removed]",
            "text/plain": [
              "<Figure size 432x288 with 1 Axes>"
            ]
          },
          "metadata": {
            "tags": []
          }
        }
      ]
    },
    {
      "cell_type": "code",
      "metadata": {
        "colab": {
          "base_uri": "https://localhost:8080/",
          "height": 319
        },
        "id": "E0CNYbixb9uy",
        "outputId": "de93855c-6a8f-4124-cc18-48d056042128"
      },
      "source": [
        "#Shows graph with bfs stream labelling of vertices without excluding cycles of length 3\n",
        "bfs_simplex_0(g_1,0)\n",
        "labels={i:g_1.bfs[i] for i in range(0, np.shape(g_1.bfs)[0])}\n",
        "nx.draw_kamada_kawai(g_0,labels = labels, with_labels=True)"
      ],
      "execution_count": 48,
      "outputs": [
        {
          "output_type": "display_data",
          "data": {
            "image/png": "[encoded data removed]",
            "text/plain": [
              "<Figure size 432x288 with 1 Axes>"
            ]
          },
          "metadata": {
            "tags": []
          }
        }
      ]
    },
    {
      "cell_type": "code",
      "metadata": {
        "colab": {
          "base_uri": "https://localhost:8080/",
          "height": 319
        },
        "id": "p4OLPbKKMCyc",
        "outputId": "e0068c0c-672f-4764-e484-cf38887dbc92"
      },
      "source": [
        "#Shows graph with bfs stream labelling of vertices excluding cycles of length 3\n",
        "bfs_simplex_0(g_4,0)\n",
        "labels={i:g_4.bfs[i] for i in range(0, np.shape(g_4.bfs)[0])}\n",
        "nx.draw_kamada_kawai(g_3,labels = labels, with_labels=True)"
      ],
      "execution_count": 49,
      "outputs": [
        {
          "output_type": "display_data",
          "data": {
            "image/png": "[encoded data removed]",
            "text/plain": [
              "<Figure size 432x288 with 1 Axes>"
            ]
          },
          "metadata": {
            "tags": []
          }
        }
      ]
    },
    {
      "cell_type": "code",
      "metadata": {
        "colab": {
          "base_uri": "https://localhost:8080/"
        },
        "id": "jaXMUsNlcIsp",
        "outputId": "46f6eea6-f9bb-4d15-e793-d1c53a134ded"
      },
      "source": [
        "sim_0 = bfs_simplex_0(skeletongraphr3c(image, -1),0)\n",
        "sim_1 = bfs_simplex_1(skeletongraphr3c(image, -1),0)\n",
        "sim = sim_0 + sim_1\n",
        "print(sim)"
      ],
      "execution_count": 55,
      "outputs": [
        {
          "output_type": "stream",
          "text": [
            "[([0], 1), ([1], 2), ([2], 4), ([3], 3), ([4], 4), ([5], 5), ([6], 7), ([7], 6), ([8], 5), ([9], 6), ([10], 8), ([11], 7), ([12], 9), ([13], 8), ([14], 10), ([15], 9), ([16], 11), ([17], 10), ([18], 12), ([19], 11), ([20], 13), ([21], 12), ([22], 14), ([23], 13), ([24], 15), ([25], 14), ([26], 16), ([27], 15), ([28], 17), ([29], 16), ([30], 18), ([31], 17), ([32], 19), ([33], 20), ([34], 19), ([35], 18), ([36], 20), ([37], 21), ([38], 22), ([39], 23), ([40], 22), ([41], 21), ([0, 1], 2), ([1, 3], 3), ([2, 3], 4), ([2, 8], 5), ([3, 4], 4), ([4, 5], 5), ([5, 9], 6), ([6, 7], 7), ([6, 10], 8), ([7, 8], 6), ([9, 11], 7), ([10, 12], 9), ([11, 13], 8), ([12, 14], 10), ([13, 15], 9), ([14, 16], 11), ([15, 17], 10), ([16, 18], 12), ([17, 19], 11), ([18, 20], 13), ([19, 21], 12), ([20, 22], 14), ([21, 23], 13), ([22, 24], 15), ([23, 25], 14), ([24, 26], 16), ([25, 27], 15), ([26, 28], 17), ([27, 29], 16), ([28, 30], 18), ([29, 31], 17), ([30, 32], 19), ([31, 35], 18), ([32, 36], 20), ([33, 34], 20), ([33, 41], 21), ([34, 35], 19), ([36, 37], 21), ([37, 38], 22), ([38, 39], 23), ([39, 40], 23), ([40, 41], 22)]\n"
          ],
          "name": "stdout"
        }
      ]
    },
    {
      "cell_type": "code",
      "metadata": {
        "id": "MFoGlt_Ocapw"
      },
      "source": [
        "f = ds.Filtration()\n",
        "for vertices, time in sim:\n",
        "  f.append(ds.Simplex(vertices, time))"
      ],
      "execution_count": 56,
      "outputs": []
    },
    {
      "cell_type": "code",
      "metadata": {
        "id": "YdzboET6Bzo-"
      },
      "source": [
        "f.sort()\n",
        "m = ds.homology_persistence(f)"
      ],
      "execution_count": 57,
      "outputs": []
    },
    {
      "cell_type": "code",
      "metadata": {
        "colab": {
          "base_uri": "https://localhost:8080/"
        },
        "id": "KiMIoirZd2Kn",
        "outputId": "bd5c3ce6-d83d-4e93-8cd2-3c5bf8928a40"
      },
      "source": [
        "#Prints Persistence Diagram\n",
        "diagrams = ds.init_diagrams(m,f)\n",
        "print(diagrams)\n",
        "for i,dgms in enumerate(diagrams):\n",
        "  for pt in dgms:\n",
        "    print(i , pt.birth, pt.death)"
      ],
      "execution_count": 58,
      "outputs": [
        {
          "output_type": "stream",
          "text": [
            "[Diagram with 1 points, Diagram with 1 points]\n",
            "0 1.0 inf\n",
            "1 23.0 inf\n"
          ],
          "name": "stdout"
        }
      ]
    },
    {
      "cell_type": "code",
      "metadata": {
        "colab": {
          "base_uri": "https://localhost:8080/"
        },
        "id": "vCpnQes9BHqz",
        "outputId": "41208da6-b8b2-4260-c08a-1779098aa987"
      },
      "source": [
        "#Prints simplex stream\n",
        "for s in f:\n",
        "  print(s)"
      ],
      "execution_count": 59,
      "outputs": [
        {
          "output_type": "stream",
          "text": [
            "<0> 1\n",
            "<1> 2\n",
            "<0,1> 2\n",
            "<3> 3\n",
            "<1,3> 3\n",
            "<2> 4\n",
            "<4> 4\n",
            "<2,3> 4\n",
            "<3,4> 4\n",
            "<5> 5\n",
            "<8> 5\n",
            "<2,8> 5\n",
            "<4,5> 5\n",
            "<7> 6\n",
            "<9> 6\n",
            "<5,9> 6\n",
            "<7,8> 6\n",
            "<6> 7\n",
            "<11> 7\n",
            "<6,7> 7\n",
            "<9,11> 7\n",
            "<10> 8\n",
            "<13> 8\n",
            "<6,10> 8\n",
            "<11,13> 8\n",
            "<12> 9\n",
            "<15> 9\n",
            "<10,12> 9\n",
            "<13,15> 9\n",
            "<14> 10\n",
            "<17> 10\n",
            "<12,14> 10\n",
            "<15,17> 10\n",
            "<16> 11\n",
            "<19> 11\n",
            "<14,16> 11\n",
            "<17,19> 11\n",
            "<18> 12\n",
            "<21> 12\n",
            "<16,18> 12\n",
            "<19,21> 12\n",
            "<20> 13\n",
            "<23> 13\n",
            "<18,20> 13\n",
            "<21,23> 13\n",
            "<22> 14\n",
            "<25> 14\n",
            "<20,22> 14\n",
            "<23,25> 14\n",
            "<24> 15\n",
            "<27> 15\n",
            "<22,24> 15\n",
            "<25,27> 15\n",
            "<26> 16\n",
            "<29> 16\n",
            "<24,26> 16\n",
            "<27,29> 16\n",
            "<28> 17\n",
            "<31> 17\n",
            "<26,28> 17\n",
            "<29,31> 17\n",
            "<30> 18\n",
            "<35> 18\n",
            "<28,30> 18\n",
            "<31,35> 18\n",
            "<32> 19\n",
            "<34> 19\n",
            "<30,32> 19\n",
            "<34,35> 19\n",
            "<33> 20\n",
            "<36> 20\n",
            "<32,36> 20\n",
            "<33,34> 20\n",
            "<37> 21\n",
            "<41> 21\n",
            "<33,41> 21\n",
            "<36,37> 21\n",
            "<38> 22\n",
            "<40> 22\n",
            "<37,38> 22\n",
            "<40,41> 22\n",
            "<39> 23\n",
            "<38,39> 23\n",
            "<39,40> 23\n"
          ],
          "name": "stdout"
        }
      ]
    },
    {
      "cell_type": "code",
      "metadata": {
        "id": "GrZxPUsEiJhI"
      },
      "source": [
        ""
      ],
      "execution_count": null,
      "outputs": []
    }
  ]
}