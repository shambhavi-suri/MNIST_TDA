{
  "nbformat": 4,
  "nbformat_minor": 0,
  "metadata": {
    "accelerator": "TPU",
    "colab": {
      "name": "Simplex_Stream_BFS.ipynb",
      "provenance": [],
      "collapsed_sections": []
    },
    "kernelspec": {
      "display_name": "Python 3",
      "name": "python3"
    }
  },
  "cells": [
    {
      "cell_type": "code",
      "metadata": {
        "colab": {
          "base_uri": "https://localhost:8080/"
        },
        "id": "4zcd2haKByRD",
        "outputId": "105c3230-fb96-4312-af67-f7e0826c0654"
      },
      "source": [
        "! pip install dionysus"
      ],
      "execution_count": 1,
      "outputs": [
        {
          "output_type": "stream",
          "text": [
            "Collecting dionysus\n",
            "\u001b[?25l  Downloading https://files.pythonhosted.org/packages/7f/6f/185c828ce2b94229359fbf84a9062ecdf9c5a38f1d688d2adc2144e6cb35/dionysus-2.0.8.tar.gz (1.7MB)\n",
            "\u001b[K     |████████████████████████████████| 1.7MB 7.1MB/s \n",
            "\u001b[?25hBuilding wheels for collected packages: dionysus\n",
            "  Building wheel for dionysus (setup.py) ... \u001b[?25l\u001b[?25hdone\n",
            "  Created wheel for dionysus: filename=dionysus-2.0.8-cp36-cp36m-linux_x86_64.whl size=322802 sha256=0db2f3c99123a3a86d994c9230ec10030df2f1fa0a6b18ea1100c54db676e595\n",
            "  Stored in directory: /root/.cache/pip/wheels/91/a9/4e/dcf72861c267c8445765197025f7a02f887fc8f6b43c9c710c\n",
            "Successfully built dionysus\n",
            "Installing collected packages: dionysus\n",
            "Successfully installed dionysus-2.0.8\n"
          ],
          "name": "stdout"
        }
      ]
    },
    {
      "cell_type": "code",
      "metadata": {
        "id": "QuXkvE2MfPmB"
      },
      "source": [
        "import cv2 as cv"
      ],
      "execution_count": 2,
      "outputs": []
    },
    {
      "cell_type": "code",
      "metadata": {
        "id": "qX883tP8B6Az"
      },
      "source": [
        "import dionysus as ds\n",
        "import networkx as nx\n",
        "import numpy as np\n",
        "import matplotlib.pyplot as plt\n",
        "from sklearn.datasets import load_digits\n",
        "from skimage.morphology import skeletonize\n",
        "import pandas as pd\n",
        "import tensorflow as tf\n",
        "from tensorflow import keras"
      ],
      "execution_count": 3,
      "outputs": []
    },
    {
      "cell_type": "code",
      "metadata": {
        "colab": {
          "base_uri": "https://localhost:8080/"
        },
        "id": "iLssOrIgCO54",
        "outputId": "9412b475-f1a9-4f75-bbca-a3e3072f679a"
      },
      "source": [
        "mnist = keras.datasets.mnist\n",
        "(train, digit_train), (test, digit_test) = mnist.load_data()"
      ],
      "execution_count": 4,
      "outputs": [
        {
          "output_type": "stream",
          "text": [
            "Downloading data from https://storage.googleapis.com/tensorflow/tf-keras-datasets/mnist.npz\n",
            "11493376/11490434 [==============================] - 1s 0us/step\n"
          ],
          "name": "stdout"
        }
      ]
    },
    {
      "cell_type": "code",
      "metadata": {
        "id": "BrPFvXWoCWcQ"
      },
      "source": [
        "data_X = np.concatenate((train,test))\n",
        "data_y = np.concatenate((digit_train,digit_test))"
      ],
      "execution_count": 5,
      "outputs": []
    },
    {
      "cell_type": "code",
      "metadata": {
        "id": "SCp2055xFTtJ"
      },
      "source": [
        "class graph:\n",
        "\n",
        "  def __init__(self, vertices = [] , edges = [], visited = [], bfs = []):\n",
        "    self.v = vertices\n",
        "    self.e = edges\n",
        "    self.visit = visited\n",
        "    self.bfs = bfs\n",
        "\n",
        "  def set_visits(self):\n",
        "    self.visit = []\n",
        "    self.bfs = []\n",
        "    for i in range(len(self.v)):\n",
        "        self.visit.append(0)\n",
        "        self.bfs.append(0)\n",
        "\n",
        "  def adjacency(self):\n",
        "    for i in range(len(self.v)):\n",
        "      print(\"Vertex \", self.v[i] ,\" is connected to:\")\n",
        "      print(self.e[i])\n",
        "  \n",
        "  def add_vertex(self, v):\n",
        "    self.v.append(v)\n",
        "    self.e.append([])\n",
        "    self.visit.append(0)\n",
        "  \n",
        "  def set_edges(self):\n",
        "    for i in range(len(self.v)):\n",
        "      self.e.append([])\n",
        "\n",
        "  def add_edge(self, e):\n",
        "    e1 = e[0]\n",
        "    e2 = e[1]\n",
        "    for i in range(len(self.v)):\n",
        "      if self.v[i] == e2:\n",
        "        self.e[i].append(e1)\n",
        "    for i in range(len(self.v)):\n",
        "      if self.v[i] == e1:\n",
        "        self.e[i].append(e2)\n",
        "\n",
        "  def if_edge(self, e):\n",
        "    e1 = e[0]\n",
        "    e2 = e[1]\n",
        "    k = -1\n",
        "    for i in range(len(self.v)):\n",
        "      if self.v[i] == e1:\n",
        "        break\n",
        "    return e2 in self.e[i]\n",
        "\n",
        "  def get_index(self , v):\n",
        "    for i in range(len(self.v)):\n",
        "      if self.v[i] == v:\n",
        "        break\n",
        "    return i\n",
        "  \n",
        "  def get_row(self , v):\n",
        "    for i in range(len(self.v)):\n",
        "      if self.v[i] == v:\n",
        "        break\n",
        "    row = []\n",
        "    for j in range(len(self.v)):\n",
        "      edge = self.v[j] in self.e[i]\n",
        "      row.append(edge*1)\n",
        "    return row\n",
        "\n",
        "  def adjacency_matrix(self):\n",
        "    adjacency_matrix = []\n",
        "    for i in range(len(self.v)):\n",
        "      adjacency_matrix.append(self.get_row(self.v[i]))\n",
        "    return adjacency_matrix\n",
        "  \n",
        "  def update_visit(self , w):\n",
        "    i = self.get_index(w)\n",
        "    self.visit[i] = 1\n",
        "  \n",
        "  def get_visit(self,w):\n",
        "    i = self.get_index(w)\n",
        "    return self.visit[i]\n",
        "  \n",
        "  def update_bfs(self, w, t):\n",
        "    i = self.get_index(w)\n",
        "    self.bfs[i] = t\n",
        "\n",
        "  def visit_left(self):\n",
        "    return 0 in self.visit\n",
        "\n",
        "  def bfs_val(self):\n",
        "    return(max(self.bfs))"
      ],
      "execution_count": 6,
      "outputs": []
    },
    {
      "cell_type": "code",
      "metadata": {
        "id": "4DCT3h5UIcLm"
      },
      "source": [
        "def get_edges(graph, ord = False, v = 0):\n",
        "  get_edges = []\n",
        "  if ord == False:\n",
        "    vertices = graph.v\n",
        "    edges = graph.e\n",
        "    for i in range(len(vertices)):\n",
        "      vertex = vertices[i]\n",
        "      while edges[i] != []:\n",
        "        get_edges.append([vertex, edges[i][0]])\n",
        "        edges[graph.get_index(edges[i][0])].remove(vertex)\n",
        "        edges[i].pop(0)\n",
        "    return get_edges\n",
        "  if ord:\n",
        "    vertices = graph.v\n",
        "    order = graph.bfs_order(v)\n",
        "    order_edge = []\n",
        "    edges = graph.e\n",
        "    for i in range(len(vertices)):\n",
        "      vertex = vertices[i]\n",
        "      while edges[i] != []:\n",
        "        get_edges.append([vertex, edges[i][0]])\n",
        "        order\n",
        "        edges[graph.get_index(edges[i][0])].remove(vertex)\n",
        "        edges[i].pop(0)\n",
        "    return (get_edges,order_edge)\n"
      ],
      "execution_count": 7,
      "outputs": []
    },
    {
      "cell_type": "code",
      "metadata": {
        "id": "jA6K4FQ_PgBk"
      },
      "source": [
        "def get_graph(vertices , edges):\n",
        "  sample = graph(vertices)\n",
        "  sample.set_edges()\n",
        "  for i in edges:\n",
        "    sample.add_edge(i)\n",
        "  return sample"
      ],
      "execution_count": 8,
      "outputs": []
    },
    {
      "cell_type": "code",
      "metadata": {
        "id": "gHEOmKHuF6hB"
      },
      "source": [
        "def bfs_order(graph, v):\n",
        "  time = 1\n",
        "  graph.set_visits()\n",
        "  graph.update_bfs(v, time)\n",
        "  graph.update_visit(v)\n",
        "  temp = graph.e[graph.get_index(v)]\n",
        "  while graph.visit_left():\n",
        "    time = time + 1\n",
        "    temp2 = []\n",
        "    for t in temp:\n",
        "      if graph.get_visit(t) == 0:\n",
        "        graph.update_bfs(t,time)\n",
        "        graph.update_visit(t)\n",
        "        temp2 = temp2 + graph.e[graph.get_index(t)]\n",
        "    if temp == []:\n",
        "      temp2.append((graph.visit).index(0))\n",
        "    temp = temp2"
      ],
      "execution_count": 9,
      "outputs": []
    },
    {
      "cell_type": "code",
      "metadata": {
        "id": "wzDEf94VfBMz"
      },
      "source": [
        "def bfs_simplex_0(graph, v):\n",
        "  s_0 = []\n",
        "  graph.set_visits()\n",
        "  bfs_order(graph, v)\n",
        "  for i in graph.v:\n",
        "    s_0.append(([i], graph.bfs[graph.get_index(i)]))\n",
        "  return s_0   "
      ],
      "execution_count": 10,
      "outputs": []
    },
    {
      "cell_type": "code",
      "metadata": {
        "id": "DHMly0zxFM8D"
      },
      "source": [
        "def bfs_simplex_1(graph, v):\n",
        "  s_1 = []\n",
        "  graph.set_visits()\n",
        "  bfs_order(graph, v)\n",
        "  for i in get_edges(graph):\n",
        "    t = max(graph.bfs[graph.get_index(i[0])],graph.bfs[graph.get_index(i[1])])\n",
        "    s_1.append((i,t))\n",
        "  return s_1"
      ],
      "execution_count": 11,
      "outputs": []
    },
    {
      "cell_type": "code",
      "metadata": {
        "id": "1K2DXjppCco4"
      },
      "source": [
        "def get_skeleton(image):\n",
        "    binary_image = image.astype(bool)\n",
        "    skeleton = skeletonize(binary_image)\n",
        "    skeleton = skeleton.astype(int)\n",
        "    return skeleton"
      ],
      "execution_count": 12,
      "outputs": []
    },
    {
      "cell_type": "code",
      "metadata": {
        "id": "PclkhYfWR68o"
      },
      "source": [
        "def points(vertices):\n",
        "  point = []\n",
        "  [v0,v1] = vertices\n",
        "  for i in range(np.shape(v0)[0]):\n",
        "    point.append([v0[i],v1[i]])\n",
        "  return list(point)"
      ],
      "execution_count": 13,
      "outputs": []
    },
    {
      "cell_type": "code",
      "metadata": {
        "id": "W8HqT0YWbpAG"
      },
      "source": [
        "def skeleton_points(image):\n",
        "  sk = get_skeleton(image)\n",
        "  vert_1 = np.where(sk == 1)\n",
        "  return points(vert_1)"
      ],
      "execution_count": 14,
      "outputs": []
    },
    {
      "cell_type": "code",
      "metadata": {
        "id": "TJvnW05ROxbe"
      },
      "source": [
        "def get_up_nghbrs(vertex, allpt):\n",
        "  [x,y] = allpt[vertex]\n",
        "  neighbours = [[x,y+1], [x+1,y], [x+1,y+1], [x+1, y-1]]\n",
        "  ngbhr_vertices = []\n",
        "  for i in neighbours:\n",
        "    if i in allpt:\n",
        "      ngbhr_vertices.append([vertex,allpt.index(i)])\n",
        "  return ngbhr_vertices"
      ],
      "execution_count": 15,
      "outputs": []
    },
    {
      "cell_type": "code",
      "metadata": {
        "id": "BLwbzqT6Y6zZ"
      },
      "source": [
        "def get_up_nghbrs_nd(vertex, allpt):\n",
        "  [x,y] = allpt[vertex]\n",
        "  neighbours = [[x,y+1], [x+1,y]]\n",
        "  ngbhr_vertices = []\n",
        "  for i in neighbours:\n",
        "    if i in allpt:\n",
        "      ngbhr_vertices.append([vertex,allpt.index(i)])\n",
        "  return ngbhr_vertices"
      ],
      "execution_count": 16,
      "outputs": []
    },
    {
      "cell_type": "code",
      "metadata": {
        "id": "ASR-Lx0ebW6M"
      },
      "source": [
        "def graph_sk_edge(allpt):\n",
        "  v = np.arange(np.shape(allpt)[0])\n",
        "  e = []\n",
        "  for i in v:\n",
        "    e = e + get_up_nghbrs(i,allpt)\n",
        "  return e"
      ],
      "execution_count": 17,
      "outputs": []
    },
    {
      "cell_type": "code",
      "metadata": {
        "id": "0QmtDT4civRO"
      },
      "source": [
        "def graph_sk_edge_r3c(allpt):\n",
        "  v = np.arange(np.shape(allpt)[0])\n",
        "  e = []\n",
        "  for i in v:\n",
        "    e = e + get_up_nghbrs_nd(i,allpt)\n",
        "  return e"
      ],
      "execution_count": 18,
      "outputs": []
    },
    {
      "cell_type": "code",
      "metadata": {
        "id": "zWmtKHlWCucw"
      },
      "source": [
        "def skeletongraph(image, show = -1):\n",
        "  allpt = skeleton_points(image)\n",
        "  v = np.arange(np.shape(allpt)[0])\n",
        "  e = graph_sk_edge(allpt)\n",
        "  if show == -1:\n",
        "    g = graph(v,[])\n",
        "    g.set_edges()\n",
        "    for i in e:\n",
        "      g.add_edge(i)\n",
        "    return g\n",
        "  if show == 1:\n",
        "    g = nx.Graph()\n",
        "    g.add_nodes_from(v)\n",
        "    g.add_edges_from(e)\n",
        "    return g"
      ],
      "execution_count": 19,
      "outputs": []
    },
    {
      "cell_type": "code",
      "metadata": {
        "id": "Zz76lyGFUJ0P"
      },
      "source": [
        "def add_edges_diag_r3c(g, allpt):\n",
        "  for i in g.v:\n",
        "    [x,y] = allpt[i]\n",
        "    neighbours = [[x+1,y+1], [x+1, y-1]]\n",
        "    for j in neighbours:\n",
        "      if j in allpt:\n",
        "        k = allpt.index(j)\n",
        "        edges_k = g.e[k]\n",
        "        edges_i = g.e[i]\n",
        "        intersection = list(set(edges_k) & set(edges_i))\n",
        "        if intersection == []:\n",
        "          g.add_edge([i,k])\n",
        "  return g"
      ],
      "execution_count": 20,
      "outputs": []
    },
    {
      "cell_type": "code",
      "metadata": {
        "id": "8ZaZGLR0Z85c"
      },
      "source": [
        "def skeletongraphr3c(image, show = -1):\n",
        "  allpt = skeleton_points(image)\n",
        "  v = np.arange(np.shape(allpt)[0])\n",
        "  e = graph_sk_edge_r3c(allpt)\n",
        "  g = graph(v,[])\n",
        "  g.set_edges()\n",
        "  for i in e:\n",
        "    g.add_edge(i)\n",
        "  g_n = add_edges_diag_r3c(g,allpt)\n",
        "  if show == -1:\n",
        "    return g_n\n",
        "  if show == 1:\n",
        "    g_r = nx.Graph()\n",
        "    g_r.add_nodes_from(v)\n",
        "    g_r.add_edges_from(get_edges(g_n))\n",
        "    return g_r"
      ],
      "execution_count": 21,
      "outputs": []
    },
    {
      "cell_type": "code",
      "metadata": {
        "colab": {
          "base_uri": "https://localhost:8080/",
          "height": 265
        },
        "id": "jbPwLvEKa2mf",
        "outputId": "6e168fd4-7735-440c-c7c0-0fa905d7f035"
      },
      "source": [
        "image = data_X[0]\n",
        "plt.imshow(image)\n",
        "g_0 = skeletongraph(image, 1)\n",
        "g_1 = skeletongraph(image , -1)\n",
        "g_3 = skeletongraphr3c(image, 1)\n",
        "g_4 = skeletongraphr3c(image, -1)"
      ],
      "execution_count": 22,
      "outputs": [
        {
          "output_type": "display_data",
          "data": {
            "image/png": "[encoded data removed]",
            "text/plain": [
              "<Figure size 432x288 with 1 Axes>"
            ]
          },
          "metadata": {
            "tags": [],
            "needs_background": "light"
          }
        }
      ]
    },
    {
      "cell_type": "code",
      "metadata": {
        "colab": {
          "base_uri": "https://localhost:8080/",
          "height": 282
        },
        "id": "UEPv-BfB2wI9",
        "outputId": "8da3cf07-f740-4c89-c1e0-b53a204bb0b1"
      },
      "source": [
        "#Skeletonising\n",
        "sk = get_skeleton(image)\n",
        "vo,v1 = np.where(sk== 1)\n",
        "plt.scatter(vo,v1)"
      ],
      "execution_count": 23,
      "outputs": [
        {
          "output_type": "execute_result",
          "data": {
            "text/plain": [
              "<matplotlib.collections.PathCollection at 0x7fe4e34a7470>"
            ]
          },
          "metadata": {
            "tags": []
          },
          "execution_count": 23
        },
        {
          "output_type": "display_data",
          "data": {
            "image/png": "[encoded data removed]",
            "text/plain": [
              "<Figure size 432x288 with 1 Axes>"
            ]
          },
          "metadata": {
            "tags": [],
            "needs_background": "light"
          }
        }
      ]
    },
    {
      "cell_type": "code",
      "metadata": {
        "colab": {
          "base_uri": "https://localhost:8080/",
          "height": 319
        },
        "id": "0zpCN1UbWRg9",
        "outputId": "2372d1b5-dc8c-4d8d-be72-ab1c0be5b532"
      },
      "source": [
        "#Shows graph with labelling of vertices\n",
        "nx.draw_kamada_kawai(g_0, with_labels=True)"
      ],
      "execution_count": 24,
      "outputs": [
        {
          "output_type": "display_data",
          "data": {
            "image/png": "[encoded data removed]",
            "text/plain": [
              "<Figure size 432x288 with 1 Axes>"
            ]
          },
          "metadata": {
            "tags": []
          }
        }
      ]
    },
    {
      "cell_type": "code",
      "metadata": {
        "colab": {
          "base_uri": "https://localhost:8080/",
          "height": 319
        },
        "id": "E0CNYbixb9uy",
        "outputId": "5ea4ca3d-5272-4ad4-934a-f3d3b4c8b0ac"
      },
      "source": [
        "#Shows graph with bfs stream labelling of vertices without excluding cycles of length 3\n",
        "bfs_simplex_0(g_1,0)\n",
        "labels={i:g_1.bfs[i] for i in range(0, np.shape(g_1.bfs)[0])}\n",
        "nx.draw_kamada_kawai(g_0,labels = labels, with_labels=True)"
      ],
      "execution_count": 25,
      "outputs": [
        {
          "output_type": "display_data",
          "data": {
            "image/png": "[encoded data removed]",
            "text/plain": [
              "<Figure size 432x288 with 1 Axes>"
            ]
          },
          "metadata": {
            "tags": []
          }
        }
      ]
    },
    {
      "cell_type": "code",
      "metadata": {
        "colab": {
          "base_uri": "https://localhost:8080/",
          "height": 319
        },
        "id": "p4OLPbKKMCyc",
        "outputId": "9fe5ef11-c67c-41a7-d9b6-2988b5fc5861"
      },
      "source": [
        "#Shows graph with bfs stream labelling of vertices excluding cycles of length 3\n",
        "bfs_simplex_0(g_4,0)\n",
        "labels={i:g_4.bfs[i] for i in range(0, np.shape(g_4.bfs)[0])}\n",
        "nx.draw_kamada_kawai(g_3,labels = labels, with_labels=True)"
      ],
      "execution_count": 26,
      "outputs": [
        {
          "output_type": "display_data",
          "data": {
            "image/png": "[encoded data removed]",
            "text/plain": [
              "<Figure size 432x288 with 1 Axes>"
            ]
          },
          "metadata": {
            "tags": []
          }
        }
      ]
    },
    {
      "cell_type": "code",
      "metadata": {
        "colab": {
          "base_uri": "https://localhost:8080/"
        },
        "id": "jaXMUsNlcIsp",
        "outputId": "b5e32ee2-2459-467f-d605-c0810373f547"
      },
      "source": [
        "sim_0 = bfs_simplex_0(skeletongraphr3c(image, -1),0)\n",
        "sim_1 = bfs_simplex_1(skeletongraphr3c(image, -1),0)\n",
        "sim = sim_0 + sim_1\n",
        "print(sim)"
      ],
      "execution_count": 27,
      "outputs": [
        {
          "output_type": "stream",
          "text": [
            "[([0], 1), ([1], 8), ([2], 7), ([3], 6), ([4], 5), ([5], 4), ([6], 3), ([7], 2), ([8], 13), ([9], 10), ([10], 9), ([11], 12), ([12], 11), ([13], 12), ([14], 13), ([15], 14), ([16], 15), ([17], 16), ([18], 17), ([19], 18), ([20], 19), ([21], 20), ([22], 21), ([23], 22), ([24], 23), ([25], 25), ([26], 24), ([27], 27), ([28], 26), ([29], 29), ([30], 28), ([31], 35), ([32], 34), ([33], 33), ([34], 32), ([35], 31), ([36], 30), ([0, 7], 2), ([1, 2], 8), ([1, 10], 9), ([2, 3], 7), ([3, 4], 6), ([4, 5], 5), ([5, 6], 4), ([6, 7], 3), ([8, 11], 13), ([9, 10], 10), ([9, 12], 11), ([11, 12], 12), ([12, 13], 12), ([13, 14], 13), ([14, 15], 14), ([15, 16], 15), ([16, 17], 16), ([17, 18], 17), ([18, 19], 18), ([19, 20], 19), ([20, 21], 20), ([21, 22], 21), ([22, 23], 22), ([23, 24], 23), ([24, 26], 24), ([25, 26], 25), ([25, 28], 26), ([27, 28], 27), ([27, 30], 28), ([29, 30], 29), ([29, 36], 30), ([31, 32], 35), ([32, 33], 34), ([33, 34], 33), ([34, 35], 32), ([35, 36], 31)]\n"
          ],
          "name": "stdout"
        }
      ]
    },
    {
      "cell_type": "code",
      "metadata": {
        "id": "MFoGlt_Ocapw"
      },
      "source": [
        "f = ds.Filtration()\n",
        "for vertices, time in sim:\n",
        "  f.append(ds.Simplex(vertices, time))"
      ],
      "execution_count": 28,
      "outputs": []
    },
    {
      "cell_type": "code",
      "metadata": {
        "id": "YdzboET6Bzo-"
      },
      "source": [
        "f.sort()\n",
        "m = ds.homology_persistence(f)"
      ],
      "execution_count": 29,
      "outputs": []
    },
    {
      "cell_type": "code",
      "metadata": {
        "colab": {
          "base_uri": "https://localhost:8080/"
        },
        "id": "KiMIoirZd2Kn",
        "outputId": "f73079da-9c04-467f-d471-e6675ddbd5d7"
      },
      "source": [
        "#Prints Persistence Diagram\n",
        "diagrams = ds.init_diagrams(m,f)\n",
        "print(diagrams)\n",
        "for i,dgms in enumerate(diagrams):\n",
        "  for pt in dgms:\n",
        "    print(i , pt.birth, pt.death)"
      ],
      "execution_count": 30,
      "outputs": [
        {
          "output_type": "stream",
          "text": [
            "[Diagram with 1 points, Diagram with 0 points]\n",
            "0 1.0 inf\n"
          ],
          "name": "stdout"
        }
      ]
    },
    {
      "cell_type": "code",
      "metadata": {
        "id": "vCpnQes9BHqz"
      },
      "source": [
        "#Prints simplex stream\n",
        "for s in f:\n",
        "  print(s)"
      ],
      "execution_count": null,
      "outputs": []
    },
    {
      "cell_type": "code",
      "metadata": {
        "id": "GrZxPUsEiJhI"
      },
      "source": [
        "data_dim_0 = []\r\n",
        "data_dim_1 = []\r\n",
        "sk = get_skeleton(image)\r\n",
        "#cutoff value is total number of vertices in the graph\r\n",
        "cutoff = float(np.shape(np.where(sk==1))[1])\r\n",
        "for i,dgms in enumerate(diagrams):\r\n",
        "  for pt in dgms:\r\n",
        "    if i == 0:\r\n",
        "      if pt.death == float('inf'):\r\n",
        "        data_dim_0.append([pt.birth, cutoff])\r\n",
        "      else:\r\n",
        "        data_dim_0.append([pt.birth, pt.death])\r\n",
        "    if i == 1:\r\n",
        "      if pt.death == float('inf'):\r\n",
        "        data_dim_1.append([pt.birth, cutoff])\r\n",
        "      else:\r\n",
        "        data_dim_1.append([pt.birth, pt.death])"
      ],
      "execution_count": 32,
      "outputs": []
    },
    {
      "cell_type": "code",
      "metadata": {
        "id": "LOas3P7RkAj3"
      },
      "source": [
        "def length_summary_1(diag):\r\n",
        "  lengths = []\r\n",
        "  if diag == []:\r\n",
        "    return (0,0,0)\r\n",
        "  for i in diag:\r\n",
        "   lengths.append(i[1] - i[0])\r\n",
        "  return (min(lengths),max(lengths), sum(lengths)/len(lengths))"
      ],
      "execution_count": 33,
      "outputs": []
    },
    {
      "cell_type": "code",
      "metadata": {
        "id": "rw4nAyJiBRxk"
      },
      "source": [
        "def length_summary_2(diag):\r\n",
        "  lengths = []\r\n",
        "  if diag == []:\r\n",
        "    return (0,0,0)\r\n",
        "  for i in diag:\r\n",
        "   lengths.append(i[0]*(i[1] - i[0]))\r\n",
        "  return (min(lengths),max(lengths), sum(lengths)/len(lengths))"
      ],
      "execution_count": 34,
      "outputs": []
    },
    {
      "cell_type": "code",
      "metadata": {
        "id": "1cC-_edMQVmw"
      },
      "source": [
        "def length_summary_3(diag):\r\n",
        "  a = 0\r\n",
        "  b = 0\r\n",
        "  c = 0\r\n",
        "  d = 0\r\n",
        "  lengths = []\r\n",
        "  if diag == []:\r\n",
        "    return (0,0,0)\r\n",
        "  for i in diag:\r\n",
        "    a = a + i[0]*(i[1] - i[0])\r\n",
        "    b = b + (i[0]**2)*(i[1] - i[0])**4\r\n",
        "    lengths.append(i[1] - i[0])\r\n",
        "  return (a, b, sum(lengths)/len(lengths))"
      ],
      "execution_count": 35,
      "outputs": []
    },
    {
      "cell_type": "code",
      "metadata": {
        "id": "f0lJ4uVgA9tU"
      },
      "source": [
        "def length_summary(image, cases = 0):\r\n",
        "  sim_0 = bfs_simplex_0(skeletongraphr3c(image, -1),0)\r\n",
        "  sim_1 = bfs_simplex_1(skeletongraphr3c(image, -1),0)\r\n",
        "  sim = sim_0 + sim_1\r\n",
        "  f = ds.Filtration()\r\n",
        "  for vertices, time in sim:\r\n",
        "    f.append(ds.Simplex(vertices, time))\r\n",
        "  f.sort()\r\n",
        "  m = ds.homology_persistence(f)\r\n",
        "  diagrams = ds.init_diagrams(m,f)\r\n",
        "  data_dim_0 = []\r\n",
        "  data_dim_1 = []\r\n",
        "  sk = get_skeleton(image)\r\n",
        "  #cutoff value is total number of vertices in the graph\r\n",
        "  cutoff = float(np.shape(np.where(sk==1))[1])\r\n",
        "  for i,dgms in enumerate(diagrams):\r\n",
        "    for pt in dgms:\r\n",
        "      if i == 0:\r\n",
        "        if pt.death == float('inf'):\r\n",
        "          data_dim_0.append([pt.birth, cutoff])\r\n",
        "        else:\r\n",
        "          data_dim_0.append([pt.birth, pt.death])\r\n",
        "      if i == 1:\r\n",
        "        if pt.death == float('inf'):\r\n",
        "          data_dim_1.append([pt.birth, cutoff])\r\n",
        "        else:\r\n",
        "          data_dim_1.append([pt.birth, pt.death])\r\n",
        "  return length_summary_1(data_dim_0) + length_summary_1(data_dim_1)"
      ],
      "execution_count": 36,
      "outputs": []
    },
    {
      "cell_type": "code",
      "metadata": {
        "id": "is_f0mahA_Ln"
      },
      "source": [
        "M = np.float32([[1,0,6],[0,1,3]])\r\n",
        "data_1 = np.zeros((70000,6))\r\n",
        "for i in range(0,70000):\r\n",
        "  img =  cv.warpAffine(data_X[i], M, (28,28))\r\n",
        "  data_1[i,:] = length_summary(img)"
      ],
      "execution_count": 37,
      "outputs": []
    },
    {
      "cell_type": "code",
      "metadata": {
        "id": "8iUse6pBBzSp"
      },
      "source": [
        "data_2 = np.zeros((70000,6))\r\n",
        "for i in range(0,70000):\r\n",
        "  img = np.rot90(cv.warpAffine(data_X[i], M, (28,28)))\r\n",
        "  data_2[i,:] = length_summary(img)"
      ],
      "execution_count": 38,
      "outputs": []
    },
    {
      "cell_type": "code",
      "metadata": {
        "id": "J-_wLORXBzlc"
      },
      "source": [
        "data_3 = np.zeros((70000,6))\r\n",
        "for i in range(0,70000):\r\n",
        "  img = np.rot90(np.rot90(cv.warpAffine(data_X[i], M, (28,28))))\r\n",
        "  data_3[i,:] = length_summary(img)"
      ],
      "execution_count": 39,
      "outputs": []
    },
    {
      "cell_type": "code",
      "metadata": {
        "id": "2xeoNSTmB1sl"
      },
      "source": [
        "data_4 = np.zeros((70000,6))\r\n",
        "for i in range(0,70000):\r\n",
        "  img = np.rot90(np.rot90(np.rot90(cv.warpAffine(data_X[i], M, (28,28)))))\r\n",
        "  data_4[i,:] = length_summary(img)"
      ],
      "execution_count": 40,
      "outputs": []
    },
    {
      "cell_type": "code",
      "metadata": {
        "id": "DZz8bIDTGEI9"
      },
      "source": [
        "tran_data = np.concatenate((data_1,data_2,data_3,data_4), axis = 1)"
      ],
      "execution_count": 41,
      "outputs": []
    },
    {
      "cell_type": "code",
      "metadata": {
        "id": "uwmX97HonSPY"
      },
      "source": [
        "test_data_2 = tran_data[60000:,:]"
      ],
      "execution_count": 45,
      "outputs": []
    },
    {
      "cell_type": "code",
      "metadata": {
        "id": "54AqUp-jI2sj"
      },
      "source": [
        "data_1 = np.zeros((70000,6))\r\n",
        "for i in range(0,70000):\r\n",
        "  img =  data_X[i]\r\n",
        "  data_1[i,:] = length_summary(img)"
      ],
      "execution_count": 46,
      "outputs": []
    },
    {
      "cell_type": "code",
      "metadata": {
        "id": "p66Z1DNsKwsk"
      },
      "source": [
        "data_2 = np.zeros((70000,6))\r\n",
        "for i in range(0,70000):\r\n",
        "  img = np.rot90(data_X[i])\r\n",
        "  data_2[i,:] = length_summary(img)"
      ],
      "execution_count": 47,
      "outputs": []
    },
    {
      "cell_type": "code",
      "metadata": {
        "id": "q2f-2lP4Kws8"
      },
      "source": [
        "data_3 = np.zeros((70000,6))\r\n",
        "for i in range(0,70000):\r\n",
        "  img = np.rot90(np.rot90(data_X[i]))\r\n",
        "  data_3[i,:] = length_summary(img)"
      ],
      "execution_count": 48,
      "outputs": []
    },
    {
      "cell_type": "code",
      "metadata": {
        "id": "q2yZ-54uKws9"
      },
      "source": [
        "data_4 = np.zeros((70000,6))\r\n",
        "for i in range(0,70000):\r\n",
        "  img = np.rot90(np.rot90(np.rot90(data_X[i])))\r\n",
        "  data_4[i,:] = length_summary(img)"
      ],
      "execution_count": 49,
      "outputs": []
    },
    {
      "cell_type": "code",
      "metadata": {
        "id": "5N5OONe_I2LE"
      },
      "source": [
        "total_data = np.concatenate((data_1,data_2,data_3,data_4), axis = 1)\r\n",
        "pd.DataFrame(total_data).to_csv('total_data.csv')\r\n",
        "! zip total_data_bfs.zip total_data.csv \r\n",
        "! mv 'total_data_bfs.zip' \"/content/drive/My Drive\""
      ],
      "execution_count": null,
      "outputs": []
    },
    {
      "cell_type": "code",
      "metadata": {
        "id": "nq3eQjMaC8H_"
      },
      "source": [
        "train_data = total_data[:60000,:]\r\n",
        "test_data_1 = total_data[60000:,:]"
      ],
      "execution_count": 58,
      "outputs": []
    },
    {
      "cell_type": "code",
      "metadata": {
        "id": "K-vzEQp_X07P"
      },
      "source": [
        "! unzip \"/content/drive/My Drive/tran_data.zip\""
      ],
      "execution_count": null,
      "outputs": []
    },
    {
      "cell_type": "code",
      "metadata": {
        "id": "JZV6a9apZ9qQ"
      },
      "source": [
        "test_data_2 = np.array(pd.read_csv('tran_data.csv'))[60000:,1:]"
      ],
      "execution_count": 63,
      "outputs": []
    },
    {
      "cell_type": "code",
      "metadata": {
        "id": "6tCsLO--16w4"
      },
      "source": [
        "from sklearn import preprocessing\r\n",
        "from sklearn.ensemble import RandomForestClassifier"
      ],
      "execution_count": 67,
      "outputs": []
    },
    {
      "cell_type": "code",
      "metadata": {
        "colab": {
          "base_uri": "https://localhost:8080/"
        },
        "id": "pAxjDJNy1a3k",
        "outputId": "238a974f-3b3d-49cf-8ee3-ca40df84cabe"
      },
      "source": [
        "classifier = RandomForestClassifier(n_estimators = 1000, random_state = 31415)\r\n",
        "classifier.fit(train_data, digit_train)\r\n",
        "#test_pred = classifier.predict(test_data)"
      ],
      "execution_count": 69,
      "outputs": [
        {
          "output_type": "execute_result",
          "data": {
            "text/plain": [
              "RandomForestClassifier(bootstrap=True, ccp_alpha=0.0, class_weight=None,\n",
              "                       criterion='gini', max_depth=None, max_features='auto',\n",
              "                       max_leaf_nodes=None, max_samples=None,\n",
              "                       min_impurity_decrease=0.0, min_impurity_split=None,\n",
              "                       min_samples_leaf=1, min_samples_split=2,\n",
              "                       min_weight_fraction_leaf=0.0, n_estimators=1000,\n",
              "                       n_jobs=None, oob_score=False, random_state=31415,\n",
              "                       verbose=0, warm_start=False)"
            ]
          },
          "metadata": {
            "tags": []
          },
          "execution_count": 69
        }
      ]
    },
    {
      "cell_type": "code",
      "metadata": {
        "id": "3j4d-wmUnM07"
      },
      "source": [
        "test_pred = classifier.predict(test_data_1)"
      ],
      "execution_count": 76,
      "outputs": []
    },
    {
      "cell_type": "code",
      "metadata": {
        "id": "xgN184I52JFW"
      },
      "source": [
        "diff = pd.DataFrame(test_pred - digit_test , columns = ['values'])\r\n",
        "mismatch = diff[diff['values']!= 0]"
      ],
      "execution_count": 77,
      "outputs": []
    },
    {
      "cell_type": "code",
      "metadata": {
        "colab": {
          "base_uri": "https://localhost:8080/"
        },
        "id": "RDlA_2u52Q_y",
        "outputId": "da071600-b318-43fe-f2f1-cebaf04433f1"
      },
      "source": [
        "print('Accuracy of model is', 100 - np.shape(mismatch)[0]*100/10000)"
      ],
      "execution_count": 78,
      "outputs": [
        {
          "output_type": "stream",
          "text": [
            "Accuracy of model is 64.09\n"
          ],
          "name": "stdout"
        }
      ]
    },
    {
      "cell_type": "code",
      "metadata": {
        "id": "Zd5Wf8U_C92G"
      },
      "source": [
        "#testing functions\r\n",
        "sample = graph([1,2,3],[[2,3],[1],[1]])\r\n",
        "sample.adjacency()\r\n",
        "sample.add_vertex(4)\r\n",
        "sample.adjacency()\r\n",
        "sample.add_edge([3,4])\r\n",
        "sample.adjacency()\r\n",
        "sample.set_visits()\r\n",
        "sample.visit\r\n",
        "sample.if_edge([4,2])\r\n",
        "sample.get_row(1)\r\n",
        "sample.adjacency_matrix()"
      ],
      "execution_count": null,
      "outputs": []
    }
  ]
}