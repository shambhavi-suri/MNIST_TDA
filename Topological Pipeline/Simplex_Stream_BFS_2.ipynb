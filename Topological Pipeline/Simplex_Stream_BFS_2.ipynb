{
  "nbformat": 4,
  "nbformat_minor": 0,
  "metadata": {
    "colab": {
      "name": "Simplex_Stream_BFS_2.ipynb",
      "provenance": [],
      "collapsed_sections": []
    },
    "kernelspec": {
      "display_name": "Python 3",
      "name": "python3"
    }
  },
  "cells": [
    {
      "cell_type": "code",
      "metadata": {
        "colab": {
          "base_uri": "https://localhost:8080/"
        },
        "id": "4zcd2haKByRD",
        "outputId": "7a3b06be-ded3-4de9-ee4d-dc36b55f182d"
      },
      "source": [
        "!pip install dionysus\n",
        "!pip install giotto-tda"
      ],
      "execution_count": null,
      "outputs": [
        {
          "output_type": "stream",
          "text": [
            "Collecting dionysus\n",
            "\u001b[?25l  Downloading https://files.pythonhosted.org/packages/7f/6f/185c828ce2b94229359fbf84a9062ecdf9c5a38f1d688d2adc2144e6cb35/dionysus-2.0.8.tar.gz (1.7MB)\n",
            "\u001b[K     |████████████████████████████████| 1.7MB 3.7MB/s \n",
            "\u001b[?25hBuilding wheels for collected packages: dionysus\n",
            "  Building wheel for dionysus (setup.py) ... \u001b[?25l\u001b[?25hdone\n",
            "  Created wheel for dionysus: filename=dionysus-2.0.8-cp37-cp37m-linux_x86_64.whl size=322651 sha256=c8b95f9030d646aefffbc3cb5e4a0a827ce8b1a006ee2a7640713403f339b506\n",
            "  Stored in directory: /root/.cache/pip/wheels/91/a9/4e/dcf72861c267c8445765197025f7a02f887fc8f6b43c9c710c\n",
            "Successfully built dionysus\n",
            "Installing collected packages: dionysus\n",
            "Successfully installed dionysus-2.0.8\n",
            "Collecting giotto-tda\n",
            "\u001b[?25l  Downloading https://files.pythonhosted.org/packages/c3/ec/764e7fbd5ac8cdb2110d4a108c8acc6e2094eef43db0f9f8cc88d5323d72/giotto_tda-0.4.0-cp37-cp37m-manylinux2010_x86_64.whl (1.5MB)\n",
            "\u001b[K     |████████████████████████████████| 1.5MB 3.8MB/s \n",
            "\u001b[?25hCollecting pyflagser>=0.4.3\n",
            "\u001b[?25l  Downloading https://files.pythonhosted.org/packages/63/42/b602369733d9ed5722ca5273abc457c85ac666127220c0f3af3b7a12badf/pyflagser-0.4.4-cp37-cp37m-manylinux2010_x86_64.whl (404kB)\n",
            "\u001b[K     |████████████████████████████████| 409kB 39.2MB/s \n",
            "\u001b[?25hCollecting plotly>=4.8.2\n",
            "\u001b[?25l  Downloading https://files.pythonhosted.org/packages/1f/f6/bd3c17c8003b6641df1228e80e1acac97ed8402635e46c2571f8e1ef63af/plotly-4.14.3-py2.py3-none-any.whl (13.2MB)\n",
            "\u001b[K     |████████████████████████████████| 13.2MB 315kB/s \n",
            "\u001b[?25hCollecting scikit-learn>=0.23.1\n",
            "\u001b[?25l  Downloading https://files.pythonhosted.org/packages/a8/eb/a48f25c967526b66d5f1fa7a984594f0bf0a5afafa94a8c4dbc317744620/scikit_learn-0.24.2-cp37-cp37m-manylinux2010_x86_64.whl (22.3MB)\n",
            "\u001b[K     |████████████████████████████████| 22.3MB 99kB/s \n",
            "\u001b[?25hRequirement already satisfied: numpy>=1.19.1 in /usr/local/lib/python3.7/dist-packages (from giotto-tda) (1.19.5)\n",
            "Collecting scipy>=1.5.0\n",
            "\u001b[?25l  Downloading https://files.pythonhosted.org/packages/7d/e8/43ffca541d2f208d516296950b25fe1084b35c2881f4d444c1346ca75815/scipy-1.6.3-cp37-cp37m-manylinux1_x86_64.whl (27.4MB)\n",
            "\u001b[K     |████████████████████████████████| 27.4MB 98kB/s \n",
            "\u001b[?25hRequirement already satisfied: ipywidgets>=7.5.1 in /usr/local/lib/python3.7/dist-packages (from giotto-tda) (7.6.3)\n",
            "Requirement already satisfied: joblib>=0.16.0 in /usr/local/lib/python3.7/dist-packages (from giotto-tda) (1.0.1)\n",
            "Collecting python-igraph>=0.8.2\n",
            "\u001b[?25l  Downloading https://files.pythonhosted.org/packages/ae/12/1fbdb491d89fad8abb7aca0189978655cfdc984a380b846478f2ccdfdad8/python_igraph-0.9.1-cp37-cp37m-manylinux2010_x86_64.whl (3.2MB)\n",
            "\u001b[K     |████████████████████████████████| 3.2MB 43.5MB/s \n",
            "\u001b[?25hRequirement already satisfied: six in /usr/local/lib/python3.7/dist-packages (from plotly>=4.8.2->giotto-tda) (1.15.0)\n",
            "Requirement already satisfied: retrying>=1.3.3 in /usr/local/lib/python3.7/dist-packages (from plotly>=4.8.2->giotto-tda) (1.3.3)\n",
            "Collecting threadpoolctl>=2.0.0\n",
            "  Downloading https://files.pythonhosted.org/packages/f7/12/ec3f2e203afa394a149911729357aa48affc59c20e2c1c8297a60f33f133/threadpoolctl-2.1.0-py3-none-any.whl\n",
            "Requirement already satisfied: traitlets>=4.3.1 in /usr/local/lib/python3.7/dist-packages (from ipywidgets>=7.5.1->giotto-tda) (5.0.5)\n",
            "Requirement already satisfied: jupyterlab-widgets>=1.0.0; python_version >= \"3.6\" in /usr/local/lib/python3.7/dist-packages (from ipywidgets>=7.5.1->giotto-tda) (1.0.0)\n",
            "Requirement already satisfied: widgetsnbextension~=3.5.0 in /usr/local/lib/python3.7/dist-packages (from ipywidgets>=7.5.1->giotto-tda) (3.5.1)\n",
            "Requirement already satisfied: nbformat>=4.2.0 in /usr/local/lib/python3.7/dist-packages (from ipywidgets>=7.5.1->giotto-tda) (5.1.3)\n",
            "Requirement already satisfied: ipython>=4.0.0; python_version >= \"3.3\" in /usr/local/lib/python3.7/dist-packages (from ipywidgets>=7.5.1->giotto-tda) (5.5.0)\n",
            "Requirement already satisfied: ipykernel>=4.5.1 in /usr/local/lib/python3.7/dist-packages (from ipywidgets>=7.5.1->giotto-tda) (4.10.1)\n",
            "Collecting texttable>=1.6.2\n",
            "  Downloading https://files.pythonhosted.org/packages/06/f5/46201c428aebe0eecfa83df66bf3e6caa29659dbac5a56ddfd83cae0d4a4/texttable-1.6.3-py2.py3-none-any.whl\n",
            "Requirement already satisfied: ipython-genutils in /usr/local/lib/python3.7/dist-packages (from traitlets>=4.3.1->ipywidgets>=7.5.1->giotto-tda) (0.2.0)\n",
            "Requirement already satisfied: notebook>=4.4.1 in /usr/local/lib/python3.7/dist-packages (from widgetsnbextension~=3.5.0->ipywidgets>=7.5.1->giotto-tda) (5.3.1)\n",
            "Requirement already satisfied: jsonschema!=2.5.0,>=2.4 in /usr/local/lib/python3.7/dist-packages (from nbformat>=4.2.0->ipywidgets>=7.5.1->giotto-tda) (2.6.0)\n",
            "Requirement already satisfied: jupyter-core in /usr/local/lib/python3.7/dist-packages (from nbformat>=4.2.0->ipywidgets>=7.5.1->giotto-tda) (4.7.1)\n",
            "Requirement already satisfied: simplegeneric>0.8 in /usr/local/lib/python3.7/dist-packages (from ipython>=4.0.0; python_version >= \"3.3\"->ipywidgets>=7.5.1->giotto-tda) (0.8.1)\n",
            "Requirement already satisfied: setuptools>=18.5 in /usr/local/lib/python3.7/dist-packages (from ipython>=4.0.0; python_version >= \"3.3\"->ipywidgets>=7.5.1->giotto-tda) (56.1.0)\n",
            "Requirement already satisfied: pygments in /usr/local/lib/python3.7/dist-packages (from ipython>=4.0.0; python_version >= \"3.3\"->ipywidgets>=7.5.1->giotto-tda) (2.6.1)\n",
            "Requirement already satisfied: decorator in /usr/local/lib/python3.7/dist-packages (from ipython>=4.0.0; python_version >= \"3.3\"->ipywidgets>=7.5.1->giotto-tda) (4.4.2)\n",
            "Requirement already satisfied: pickleshare in /usr/local/lib/python3.7/dist-packages (from ipython>=4.0.0; python_version >= \"3.3\"->ipywidgets>=7.5.1->giotto-tda) (0.7.5)\n",
            "Requirement already satisfied: prompt-toolkit<2.0.0,>=1.0.4 in /usr/local/lib/python3.7/dist-packages (from ipython>=4.0.0; python_version >= \"3.3\"->ipywidgets>=7.5.1->giotto-tda) (1.0.18)\n",
            "Requirement already satisfied: pexpect; sys_platform != \"win32\" in /usr/local/lib/python3.7/dist-packages (from ipython>=4.0.0; python_version >= \"3.3\"->ipywidgets>=7.5.1->giotto-tda) (4.8.0)\n",
            "Requirement already satisfied: tornado>=4.0 in /usr/local/lib/python3.7/dist-packages (from ipykernel>=4.5.1->ipywidgets>=7.5.1->giotto-tda) (5.1.1)\n",
            "Requirement already satisfied: jupyter-client in /usr/local/lib/python3.7/dist-packages (from ipykernel>=4.5.1->ipywidgets>=7.5.1->giotto-tda) (5.3.5)\n",
            "Requirement already satisfied: nbconvert in /usr/local/lib/python3.7/dist-packages (from notebook>=4.4.1->widgetsnbextension~=3.5.0->ipywidgets>=7.5.1->giotto-tda) (5.6.1)\n",
            "Requirement already satisfied: Send2Trash in /usr/local/lib/python3.7/dist-packages (from notebook>=4.4.1->widgetsnbextension~=3.5.0->ipywidgets>=7.5.1->giotto-tda) (1.5.0)\n",
            "Requirement already satisfied: terminado>=0.8.1 in /usr/local/lib/python3.7/dist-packages (from notebook>=4.4.1->widgetsnbextension~=3.5.0->ipywidgets>=7.5.1->giotto-tda) (0.9.4)\n",
            "Requirement already satisfied: jinja2 in /usr/local/lib/python3.7/dist-packages (from notebook>=4.4.1->widgetsnbextension~=3.5.0->ipywidgets>=7.5.1->giotto-tda) (2.11.3)\n",
            "Requirement already satisfied: wcwidth in /usr/local/lib/python3.7/dist-packages (from prompt-toolkit<2.0.0,>=1.0.4->ipython>=4.0.0; python_version >= \"3.3\"->ipywidgets>=7.5.1->giotto-tda) (0.2.5)\n",
            "Requirement already satisfied: ptyprocess>=0.5 in /usr/local/lib/python3.7/dist-packages (from pexpect; sys_platform != \"win32\"->ipython>=4.0.0; python_version >= \"3.3\"->ipywidgets>=7.5.1->giotto-tda) (0.7.0)\n",
            "Requirement already satisfied: python-dateutil>=2.1 in /usr/local/lib/python3.7/dist-packages (from jupyter-client->ipykernel>=4.5.1->ipywidgets>=7.5.1->giotto-tda) (2.8.1)\n",
            "Requirement already satisfied: pyzmq>=13 in /usr/local/lib/python3.7/dist-packages (from jupyter-client->ipykernel>=4.5.1->ipywidgets>=7.5.1->giotto-tda) (22.0.3)\n",
            "Requirement already satisfied: defusedxml in /usr/local/lib/python3.7/dist-packages (from nbconvert->notebook>=4.4.1->widgetsnbextension~=3.5.0->ipywidgets>=7.5.1->giotto-tda) (0.7.1)\n",
            "Requirement already satisfied: bleach in /usr/local/lib/python3.7/dist-packages (from nbconvert->notebook>=4.4.1->widgetsnbextension~=3.5.0->ipywidgets>=7.5.1->giotto-tda) (3.3.0)\n",
            "Requirement already satisfied: mistune<2,>=0.8.1 in /usr/local/lib/python3.7/dist-packages (from nbconvert->notebook>=4.4.1->widgetsnbextension~=3.5.0->ipywidgets>=7.5.1->giotto-tda) (0.8.4)\n",
            "Requirement already satisfied: testpath in /usr/local/lib/python3.7/dist-packages (from nbconvert->notebook>=4.4.1->widgetsnbextension~=3.5.0->ipywidgets>=7.5.1->giotto-tda) (0.4.4)\n",
            "Requirement already satisfied: pandocfilters>=1.4.1 in /usr/local/lib/python3.7/dist-packages (from nbconvert->notebook>=4.4.1->widgetsnbextension~=3.5.0->ipywidgets>=7.5.1->giotto-tda) (1.4.3)\n",
            "Requirement already satisfied: entrypoints>=0.2.2 in /usr/local/lib/python3.7/dist-packages (from nbconvert->notebook>=4.4.1->widgetsnbextension~=3.5.0->ipywidgets>=7.5.1->giotto-tda) (0.3)\n",
            "Requirement already satisfied: MarkupSafe>=0.23 in /usr/local/lib/python3.7/dist-packages (from jinja2->notebook>=4.4.1->widgetsnbextension~=3.5.0->ipywidgets>=7.5.1->giotto-tda) (1.1.1)\n",
            "Requirement already satisfied: webencodings in /usr/local/lib/python3.7/dist-packages (from bleach->nbconvert->notebook>=4.4.1->widgetsnbextension~=3.5.0->ipywidgets>=7.5.1->giotto-tda) (0.5.1)\n",
            "Requirement already satisfied: packaging in /usr/local/lib/python3.7/dist-packages (from bleach->nbconvert->notebook>=4.4.1->widgetsnbextension~=3.5.0->ipywidgets>=7.5.1->giotto-tda) (20.9)\n",
            "Requirement already satisfied: pyparsing>=2.0.2 in /usr/local/lib/python3.7/dist-packages (from packaging->bleach->nbconvert->notebook>=4.4.1->widgetsnbextension~=3.5.0->ipywidgets>=7.5.1->giotto-tda) (2.4.7)\n",
            "\u001b[31mERROR: albumentations 0.1.12 has requirement imgaug<0.2.7,>=0.2.5, but you'll have imgaug 0.2.9 which is incompatible.\u001b[0m\n",
            "Installing collected packages: scipy, pyflagser, plotly, threadpoolctl, scikit-learn, texttable, python-igraph, giotto-tda\n",
            "  Found existing installation: scipy 1.4.1\n",
            "    Uninstalling scipy-1.4.1:\n",
            "      Successfully uninstalled scipy-1.4.1\n",
            "  Found existing installation: plotly 4.4.1\n",
            "    Uninstalling plotly-4.4.1:\n",
            "      Successfully uninstalled plotly-4.4.1\n",
            "  Found existing installation: scikit-learn 0.22.2.post1\n",
            "    Uninstalling scikit-learn-0.22.2.post1:\n",
            "      Successfully uninstalled scikit-learn-0.22.2.post1\n",
            "Successfully installed giotto-tda-0.4.0 plotly-4.14.3 pyflagser-0.4.4 python-igraph-0.9.1 scikit-learn-0.24.2 scipy-1.6.3 texttable-1.6.3 threadpoolctl-2.1.0\n"
          ],
          "name": "stdout"
        }
      ]
    },
    {
      "cell_type": "code",
      "metadata": {
        "id": "qX883tP8B6Az"
      },
      "source": [
        "import dionysus as ds\n",
        "import networkx as nx\n",
        "import numpy as np\n",
        "import matplotlib.pyplot as plt\n",
        "from sklearn.datasets import load_digits\n",
        "from skimage.morphology import skeletonize\n",
        "import pandas as pd\n",
        "import tensorflow as tf\n",
        "from tensorflow import keras\n",
        "import cv2 as cv\n",
        "import random"
      ],
      "execution_count": null,
      "outputs": []
    },
    {
      "cell_type": "code",
      "metadata": {
        "colab": {
          "base_uri": "https://localhost:8080/"
        },
        "id": "iLssOrIgCO54",
        "outputId": "f86d6fda-94ba-4d79-935b-183086378e8f"
      },
      "source": [
        "import gtda.images  \n",
        "import gtda.homology\n",
        "import gtda.diagrams\n",
        "import cv2 as cv\n"
      ],
      "execution_count": null,
      "outputs": [
        {
          "output_type": "stream",
          "text": [
            "Downloading data from https://storage.googleapis.com/tensorflow/tf-keras-datasets/mnist.npz\n",
            "11493376/11490434 [==============================] - 0s 0us/step\n"
          ],
          "name": "stdout"
        }
      ]
    },
    {
      "cell_type": "code",
      "metadata": {
        "id": "BrPFvXWoCWcQ",
        "colab": {
          "base_uri": "https://localhost:8080/"
        },
        "outputId": "a25163a6-4818-4572-b82e-8fc861b8827a"
      },
      "source": [
        "mnist = keras.datasets.mnist\n",
        "(train, digit_train), (test, digit_test) = mnist.load_data()\n",
        "data_X = np.concatenate((train,test))\n",
        "data_y = np.concatenate((digit_train,digit_test))"
      ],
      "execution_count": null,
      "outputs": [
        {
          "output_type": "stream",
          "text": [
            "Downloading data from https://storage.googleapis.com/tensorflow/tf-keras-datasets/mnist.npz\n",
            "11493376/11490434 [==============================] - 0s 0us/step\n"
          ],
          "name": "stdout"
        }
      ]
    },
    {
      "cell_type": "code",
      "metadata": {
        "colab": {
          "base_uri": "https://localhost:8080/",
          "height": 293
        },
        "id": "OGHbH8Cvrs0m",
        "outputId": "522c2bec-4275-445e-f281-8b04f6dc528d"
      },
      "source": [
        "plt.matshow(data_X[245])"
      ],
      "execution_count": null,
      "outputs": [
        {
          "output_type": "execute_result",
          "data": {
            "text/plain": [
              "<matplotlib.image.AxesImage at 0x7fc050a2fbd0>"
            ]
          },
          "metadata": {
            "tags": []
          },
          "execution_count": 5
        },
        {
          "output_type": "display_data",
          "data": {
            "image/png": "[encoded data removed]",
            "text/plain": [
              "<Figure size 288x288 with 1 Axes>"
            ]
          },
          "metadata": {
            "tags": [],
            "needs_background": "light"
          }
        }
      ]
    },
    {
      "cell_type": "code",
      "metadata": {
        "id": "voHqLv4P8dKq"
      },
      "source": [
        "###############################################################\n",
        "########### Graph Object ######################################\n",
        "###############################################################"
      ],
      "execution_count": null,
      "outputs": []
    },
    {
      "cell_type": "code",
      "metadata": {
        "id": "SCp2055xFTtJ"
      },
      "source": [
        "class graph:\n",
        "\n",
        "  def __init__(self, vertices = [] , edges = [], visited = [], bfs = []):\n",
        "    self.v = vertices\n",
        "    self.e = edges\n",
        "    self.visit = visited\n",
        "    self.bfs = bfs\n",
        "\n",
        "  def set_visits(self):\n",
        "    self.visit = []\n",
        "    self.bfs = []\n",
        "    for i in range(len(self.v)):\n",
        "        self.visit.append(0)\n",
        "        self.bfs.append(0)\n",
        "\n",
        "  def adjacency(self):\n",
        "    for i in range(len(self.v)):\n",
        "      print(\"Vertex \", self.v[i] ,\" is connected to:\")\n",
        "      print(self.e[i])\n",
        "  \n",
        "  def add_vertex(self, v):\n",
        "    self.v.append(v)\n",
        "    self.e.append([])\n",
        "    self.visit.append(0)\n",
        "  \n",
        "  def set_edges(self):\n",
        "    for i in range(len(self.v)):\n",
        "      self.e.append([])\n",
        "\n",
        "  def add_edge(self, e):\n",
        "    e1 = e[0]\n",
        "    e2 = e[1]\n",
        "    for i in range(len(self.v)):\n",
        "      if self.v[i] == e2:\n",
        "        self.e[i].append(e1)\n",
        "    for i in range(len(self.v)):\n",
        "      if self.v[i] == e1:\n",
        "        self.e[i].append(e2)\n",
        "\n",
        "  def if_edge(self, e):\n",
        "    e1 = e[0]\n",
        "    e2 = e[1]\n",
        "    k = -1\n",
        "    for i in range(len(self.v)):\n",
        "      if self.v[i] == e1:\n",
        "        break\n",
        "    return e2 in self.e[i]\n",
        "\n",
        "  def get_index(self , v):\n",
        "    for i in range(len(self.v)):\n",
        "      if self.v[i] == v:\n",
        "        break\n",
        "    return i\n",
        "  \n",
        "  def get_row(self , v):\n",
        "    for i in range(len(self.v)):\n",
        "      if self.v[i] == v:\n",
        "        break\n",
        "    row = []\n",
        "    for j in range(len(self.v)):\n",
        "      edge = self.v[j] in self.e[i]\n",
        "      row.append(edge*1)\n",
        "    return row\n",
        "\n",
        "  def adjacency_matrix(self):\n",
        "    adjacency_matrix = []\n",
        "    for i in range(len(self.v)):\n",
        "      adjacency_matrix.append(self.get_row(self.v[i]))\n",
        "    return adjacency_matrix\n",
        "  \n",
        "  def update_visit(self , w):\n",
        "    i = self.get_index(w)\n",
        "    self.visit[i] = 1\n",
        "  \n",
        "  def get_visit(self,w):\n",
        "    i = self.get_index(w)\n",
        "    return self.visit[i]\n",
        "  \n",
        "  def get_unvisited(self, w):\n",
        "    ret = []\n",
        "    ind = self.get_index(w)\n",
        "    for i in self.e[ind]:\n",
        "      if self.get_visit(i) == 0:\n",
        "        ret.append(i)\n",
        "    return ret\n",
        "\n",
        "  def update_bfs(self, w, t):\n",
        "    i = self.get_index(w)\n",
        "    self.bfs[i] = t\n",
        "\n",
        "  def visit_left(self):\n",
        "    return 0 in self.visit\n",
        "\n",
        "  def bfs_val(self):\n",
        "    return(max(self.bfs))"
      ],
      "execution_count": null,
      "outputs": []
    },
    {
      "cell_type": "code",
      "metadata": {
        "id": "4DCT3h5UIcLm"
      },
      "source": [
        "def get_edges(graph, ord = False, v = 0):\n",
        "  get_edges = []\n",
        "  if ord == False:\n",
        "    vertices = graph.v\n",
        "    edges = graph.e\n",
        "    for i in range(len(vertices)):\n",
        "      vertex = vertices[i]\n",
        "      while edges[i] != []:\n",
        "        get_edges.append([vertex, edges[i][0]])\n",
        "        edges[graph.get_index(edges[i][0])].remove(vertex)\n",
        "        edges[i].pop(0)\n",
        "    return get_edges\n",
        "  if ord:\n",
        "    vertices = graph.v\n",
        "    order = graph.bfs_order(v)\n",
        "    order_edge = []\n",
        "    edges = graph.e\n",
        "    for i in range(len(vertices)):\n",
        "      vertex = vertices[i]\n",
        "      while edges[i] != []:\n",
        "        get_edges.append([vertex, edges[i][0]])\n",
        "        order\n",
        "        edges[graph.get_index(edges[i][0])].remove(vertex)\n",
        "        edges[i].pop(0)\n",
        "    return (get_edges,order_edge)\n"
      ],
      "execution_count": null,
      "outputs": []
    },
    {
      "cell_type": "code",
      "metadata": {
        "id": "jA6K4FQ_PgBk"
      },
      "source": [
        "def get_graph(vertices , edges):\n",
        "  sample = graph(vertices)\n",
        "  sample.set_edges()\n",
        "  for i in edges:\n",
        "    sample.add_edge(i)\n",
        "  return sample"
      ],
      "execution_count": null,
      "outputs": []
    },
    {
      "cell_type": "code",
      "metadata": {
        "id": "b3ZbzjYD8sgF"
      },
      "source": [
        "################################################################\n",
        "############## Ordering edges ##################################\n",
        "################################################################"
      ],
      "execution_count": null,
      "outputs": []
    },
    {
      "cell_type": "code",
      "metadata": {
        "id": "gHEOmKHuF6hB"
      },
      "source": [
        "def bfs_order(graph, v):\n",
        "  time = 1\n",
        "  graph.set_visits()\n",
        "  graph.update_bfs(v, time)\n",
        "  graph.update_visit(v)\n",
        "  temp = graph.e[graph.get_index(v)]\n",
        "  while graph.visit_left():\n",
        "    time = time + 1\n",
        "    temp2 = []\n",
        "    for t in temp:\n",
        "      if graph.get_visit(t) == 0:\n",
        "        graph.update_bfs(t,time)\n",
        "        graph.update_visit(t)\n",
        "        temp2 = temp2 + graph.get_unvisited(t)\n",
        "    if temp == []:\n",
        "      temp2.append((graph.visit).index(0))\n",
        "      time = time - 1\n",
        "    temp = temp2"
      ],
      "execution_count": null,
      "outputs": []
    },
    {
      "cell_type": "code",
      "metadata": {
        "id": "wzDEf94VfBMz"
      },
      "source": [
        "def bfs_simplex_0(graph, v):\n",
        "  s_0 = []\n",
        "  graph.set_visits()\n",
        "  bfs_order(graph, v)\n",
        "  for i in graph.v:\n",
        "    s_0.append(([i], graph.bfs[graph.get_index(i)]))\n",
        "  return s_0   "
      ],
      "execution_count": null,
      "outputs": []
    },
    {
      "cell_type": "code",
      "metadata": {
        "id": "DHMly0zxFM8D"
      },
      "source": [
        "def bfs_simplex_1(graph, v):\n",
        "  s_1 = []\n",
        "  graph.set_visits()\n",
        "  bfs_order(graph, v)\n",
        "  for i in get_edges(graph):\n",
        "    t = max(graph.bfs[graph.get_index(i[0])],graph.bfs[graph.get_index(i[1])])\n",
        "    s_1.append((i,t))\n",
        "  return s_1"
      ],
      "execution_count": null,
      "outputs": []
    },
    {
      "cell_type": "code",
      "metadata": {
        "id": "5oTaTFCV803e"
      },
      "source": [
        "######################################################################\n",
        "############ Obtaining skeleton of image #############################\n",
        "######################################################################"
      ],
      "execution_count": null,
      "outputs": []
    },
    {
      "cell_type": "code",
      "metadata": {
        "id": "1K2DXjppCco4"
      },
      "source": [
        "def get_skeleton(image):\n",
        "    binary_image = image.astype(bool)\n",
        "    skeleton = skeletonize(binary_image)\n",
        "    skeleton = skeleton.astype(int)\n",
        "    return skeleton"
      ],
      "execution_count": null,
      "outputs": []
    },
    {
      "cell_type": "code",
      "metadata": {
        "id": "PclkhYfWR68o"
      },
      "source": [
        "def points(vertices):\n",
        "  point = []\n",
        "  [v0,v1] = vertices\n",
        "  for i in range(np.shape(v0)[0]):\n",
        "    point.append([v0[i],v1[i]])\n",
        "  return list(point)"
      ],
      "execution_count": null,
      "outputs": []
    },
    {
      "cell_type": "code",
      "metadata": {
        "id": "W8HqT0YWbpAG"
      },
      "source": [
        "def skeleton_points(image):\n",
        "  sk = get_skeleton(image)\n",
        "  vert_1 = np.where(sk == 1)\n",
        "  return points(vert_1)"
      ],
      "execution_count": null,
      "outputs": []
    },
    {
      "cell_type": "code",
      "metadata": {
        "id": "TJvnW05ROxbe"
      },
      "source": [
        "def get_up_nghbrs(vertex, allpt):\n",
        "  [x,y] = allpt[vertex]\n",
        "  neighbours = [[x,y+1], [x+1,y], [x+1,y+1], [x+1, y-1]]\n",
        "  ngbhr_vertices = []\n",
        "  for i in neighbours:\n",
        "    if i in allpt:\n",
        "      ngbhr_vertices.append([vertex,allpt.index(i)])\n",
        "  return ngbhr_vertices"
      ],
      "execution_count": null,
      "outputs": []
    },
    {
      "cell_type": "code",
      "metadata": {
        "id": "BLwbzqT6Y6zZ"
      },
      "source": [
        "def get_up_nghbrs_nd(vertex, allpt):\n",
        "  [x,y] = allpt[vertex]\n",
        "  neighbours = [[x,y+1], [x+1,y]]\n",
        "  ngbhr_vertices = []\n",
        "  for i in neighbours:\n",
        "    if i in allpt:\n",
        "      ngbhr_vertices.append([vertex,allpt.index(i)])\n",
        "  return ngbhr_vertices"
      ],
      "execution_count": null,
      "outputs": []
    },
    {
      "cell_type": "code",
      "metadata": {
        "id": "ASR-Lx0ebW6M"
      },
      "source": [
        "def graph_sk_edge(allpt):\n",
        "  v = np.arange(np.shape(allpt)[0])\n",
        "  e = []\n",
        "  for i in v:\n",
        "    e = e + get_up_nghbrs(i,allpt)\n",
        "  return e"
      ],
      "execution_count": null,
      "outputs": []
    },
    {
      "cell_type": "code",
      "metadata": {
        "id": "0QmtDT4civRO"
      },
      "source": [
        "def graph_sk_edge_r3c(allpt):\n",
        "  v = np.arange(np.shape(allpt)[0])\n",
        "  e = []\n",
        "  for i in v:\n",
        "    e = e + get_up_nghbrs_nd(i,allpt)\n",
        "  return e"
      ],
      "execution_count": null,
      "outputs": []
    },
    {
      "cell_type": "code",
      "metadata": {
        "id": "zWmtKHlWCucw"
      },
      "source": [
        "def skeletongraph(image, show = -1):\n",
        "  allpt = skeleton_points(image)\n",
        "  v = np.arange(np.shape(allpt)[0])\n",
        "  e = graph_sk_edge(allpt)\n",
        "  if show == -1:\n",
        "    g = graph(v,[])\n",
        "    g.set_edges()\n",
        "    for i in e:\n",
        "      g.add_edge(i)\n",
        "    return g\n",
        "  if show == 1:\n",
        "    g = nx.Graph()\n",
        "    g.add_nodes_from(v)\n",
        "    g.add_edges_from(e)\n",
        "    return g"
      ],
      "execution_count": null,
      "outputs": []
    },
    {
      "cell_type": "code",
      "metadata": {
        "id": "qUm4fB6O-G6r"
      },
      "source": [
        "################################################################\n",
        "###### Constructing graph + Removing 3 cycles ##################\n",
        "################################################################"
      ],
      "execution_count": null,
      "outputs": []
    },
    {
      "cell_type": "code",
      "metadata": {
        "id": "Zz76lyGFUJ0P"
      },
      "source": [
        "def add_edges_diag_r3c(g, allpt):\n",
        "  for i in g.v:\n",
        "    [x,y] = allpt[i]\n",
        "    neighbours = [[x+1,y+1], [x+1, y-1]]\n",
        "    for j in neighbours:\n",
        "      if j in allpt:\n",
        "        k = allpt.index(j)\n",
        "        edges_k = g.e[k]\n",
        "        edges_i = g.e[i]\n",
        "        intersection = list(set(edges_k) & set(edges_i))\n",
        "        if intersection == []:\n",
        "          g.add_edge([i,k])\n",
        "  return g"
      ],
      "execution_count": null,
      "outputs": []
    },
    {
      "cell_type": "code",
      "metadata": {
        "id": "8ZaZGLR0Z85c"
      },
      "source": [
        "def skeletongraphr3c(image, show = -1):\n",
        "  allpt = skeleton_points(image)\n",
        "  v = np.arange(np.shape(allpt)[0])\n",
        "  e = graph_sk_edge_r3c(allpt)\n",
        "  g = graph(v,[])\n",
        "  g.set_edges()\n",
        "  for i in e:\n",
        "    g.add_edge(i)\n",
        "  g_n = add_edges_diag_r3c(g,allpt)\n",
        "  if show == -1:\n",
        "    return g_n\n",
        "  if show == 1:\n",
        "    g_r = nx.Graph()\n",
        "    g_r.add_nodes_from(v)\n",
        "    g_r.add_edges_from(get_edges(g_n))\n",
        "    return g_r"
      ],
      "execution_count": null,
      "outputs": []
    },
    {
      "cell_type": "code",
      "metadata": {
        "id": "C0Aw0xAp-cPg"
      },
      "source": [
        "####################################################################\n",
        "############ Example ###############################################\n",
        "####################################################################"
      ],
      "execution_count": null,
      "outputs": []
    },
    {
      "cell_type": "code",
      "metadata": {
        "colab": {
          "base_uri": "https://localhost:8080/",
          "height": 283
        },
        "id": "jbPwLvEKa2mf",
        "outputId": "e74224b1-0312-4e40-b2bc-d35b9bbf5932"
      },
      "source": [
        "#image = data_X[24955]\n",
        "image = data_X[245]\n",
        "plt.imshow(image)\n",
        "g_0 = skeletongraph(image, 1)\n",
        "g_1 = skeletongraph(image , -1)\n",
        "g_3 = skeletongraphr3c(image, 1)\n",
        "g_4 = skeletongraphr3c(image, -1)\n",
        "plt.imshow(get_skeleton(image))"
      ],
      "execution_count": null,
      "outputs": [
        {
          "output_type": "execute_result",
          "data": {
            "text/plain": [
              "<matplotlib.image.AxesImage at 0x7f0504e7bf50>"
            ]
          },
          "metadata": {
            "tags": []
          },
          "execution_count": 26
        },
        {
          "output_type": "display_data",
          "data": {
            "image/png": "[encoded data removed]",
            "text/plain": [
              "<Figure size 432x288 with 1 Axes>"
            ]
          },
          "metadata": {
            "tags": []
          }
        }
      ]
    },
    {
      "cell_type": "code",
      "metadata": {
        "colab": {
          "base_uri": "https://localhost:8080/",
          "height": 283
        },
        "id": "UEPv-BfB2wI9",
        "outputId": "69b4db6a-2942-4447-ac87-ff644f6b0679"
      },
      "source": [
        "#Skeletonising\n",
        "sk = get_skeleton(image)\n",
        "vo,v1 = np.where(sk== 1)\n",
        "plt.scatter(vo,v1)"
      ],
      "execution_count": null,
      "outputs": [
        {
          "output_type": "execute_result",
          "data": {
            "text/plain": [
              "<matplotlib.collections.PathCollection at 0x7f0504967b50>"
            ]
          },
          "metadata": {
            "tags": []
          },
          "execution_count": 27
        },
        {
          "output_type": "display_data",
          "data": {
            "image/png": "[encoded data removed]",
            "text/plain": [
              "<Figure size 432x288 with 1 Axes>"
            ]
          },
          "metadata": {
            "tags": []
          }
        }
      ]
    },
    {
      "cell_type": "code",
      "metadata": {
        "colab": {
          "base_uri": "https://localhost:8080/",
          "height": 319
        },
        "id": "0zpCN1UbWRg9",
        "outputId": "5fab46b0-0490-44e9-e798-5374e94eeff4"
      },
      "source": [
        "#Shows graph with labelling of vertices\n",
        "nx.draw_kamada_kawai(g_0, with_labels=True)"
      ],
      "execution_count": null,
      "outputs": [
        {
          "output_type": "display_data",
          "data": {
            "image/png": "[encoded data removed]",
            "text/plain": [
              "<Figure size 432x288 with 1 Axes>"
            ]
          },
          "metadata": {
            "tags": []
          }
        }
      ]
    },
    {
      "cell_type": "code",
      "metadata": {
        "colab": {
          "base_uri": "https://localhost:8080/",
          "height": 319
        },
        "id": "E0CNYbixb9uy",
        "outputId": "dfc654fa-0f8a-43de-8a95-1547d9550f64"
      },
      "source": [
        "#Shows graph with bfs stream labelling of vertices without excluding cycles of length 3\n",
        "bfs_simplex_0(g_1,0)\n",
        "labels={i:g_1.bfs[i] for i in range(0, np.shape(g_1.bfs)[0])}\n",
        "nx.draw_kamada_kawai(g_0,labels = labels, with_labels=True)"
      ],
      "execution_count": null,
      "outputs": [
        {
          "output_type": "display_data",
          "data": {
            "image/png": "[encoded data removed]",
            "text/plain": [
              "<Figure size 432x288 with 1 Axes>"
            ]
          },
          "metadata": {
            "tags": []
          }
        }
      ]
    },
    {
      "cell_type": "code",
      "metadata": {
        "colab": {
          "base_uri": "https://localhost:8080/",
          "height": 319
        },
        "id": "p4OLPbKKMCyc",
        "outputId": "34805346-4cde-460f-c1c2-7bde51dd5c4a"
      },
      "source": [
        "#Shows graph with bfs stream labelling of vertices excluding cycles of length 3\n",
        "bfs_simplex_0(g_4,0)\n",
        "labels={i:g_4.bfs[i] for i in range(0, np.shape(g_4.bfs)[0])}\n",
        "nx.draw_kamada_kawai(g_3,labels = labels, with_labels=True)"
      ],
      "execution_count": null,
      "outputs": [
        {
          "output_type": "display_data",
          "data": {
            "image/png": "[encoded data removed]",
            "text/plain": [
              "<Figure size 432x288 with 1 Axes>"
            ]
          },
          "metadata": {
            "tags": []
          }
        }
      ]
    },
    {
      "cell_type": "code",
      "metadata": {
        "colab": {
          "base_uri": "https://localhost:8080/"
        },
        "id": "jaXMUsNlcIsp",
        "outputId": "d2545185-553b-4354-af89-32c7b9b88fd0"
      },
      "source": [
        "sim_0 = bfs_simplex_0(skeletongraphr3c(image, -1),0)\n",
        "sim_1 = bfs_simplex_1(skeletongraphr3c(image, -1),0)\n",
        "sim = sim_0 + sim_1\n",
        "print(sim)"
      ],
      "execution_count": null,
      "outputs": [
        {
          "output_type": "stream",
          "text": [
            "[([0], 1), ([1], 2), ([2], 3), ([3], 4), ([4], 5), ([5], 6), ([6], 7), ([7], 2), ([8], 8), ([9], 3), ([10], 9), ([11], 4), ([12], 10), ([13], 5), ([14], 11), ([15], 6), ([16], 10), ([17], 11), ([18], 7), ([19], 8), ([20], 9), ([21], 8), ([22], 10), ([23], 9), ([24], 12), ([25], 11), ([26], 10), ([27], 13), ([28], 11), ([29], 14), ([30], 12), ([31], 15), ([32], 13), ([33], 16), ([34], 14), ([35], 17), ([36], 15), ([37], 18), ([38], 16), ([39], 19), ([40], 17), ([41], 20), ([42], 19), ([43], 18), ([0, 1], 2), ([0, 7], 2), ([1, 2], 3), ([2, 3], 4), ([3, 4], 5), ([4, 5], 6), ([5, 6], 7), ([6, 8], 8), ([7, 9], 3), ([8, 10], 9), ([9, 11], 4), ([10, 12], 10), ([11, 13], 5), ([12, 14], 11), ([13, 15], 6), ([14, 17], 11), ([15, 18], 7), ([16, 17], 11), ([16, 20], 10), ([18, 19], 8), ([18, 21], 8), ([19, 20], 9), ([21, 23], 9), ([22, 23], 10), ([22, 25], 11), ([23, 26], 10), ([24, 25], 12), ([24, 27], 13), ([26, 28], 11), ([27, 29], 14), ([28, 30], 12), ([29, 31], 15), ([30, 32], 13), ([31, 33], 16), ([32, 34], 14), ([33, 35], 17), ([34, 36], 15), ([35, 37], 18), ([36, 38], 16), ([37, 39], 19), ([38, 40], 17), ([39, 41], 20), ([40, 43], 18), ([41, 42], 20), ([42, 43], 19)]\n"
          ],
          "name": "stdout"
        }
      ]
    },
    {
      "cell_type": "code",
      "metadata": {
        "id": "MFoGlt_Ocapw"
      },
      "source": [
        "f = ds.Filtration()\n",
        "for vertices, time in sim:\n",
        "  f.append(ds.Simplex(vertices, time))"
      ],
      "execution_count": null,
      "outputs": []
    },
    {
      "cell_type": "code",
      "metadata": {
        "id": "YdzboET6Bzo-"
      },
      "source": [
        "f.sort()\n",
        "m = ds.homology_persistence(f)"
      ],
      "execution_count": null,
      "outputs": []
    },
    {
      "cell_type": "code",
      "metadata": {
        "colab": {
          "base_uri": "https://localhost:8080/"
        },
        "id": "KiMIoirZd2Kn",
        "outputId": "01645537-a5d7-44a7-aa0c-86e12b697091"
      },
      "source": [
        "#Prints Persistence Diagram\n",
        "diagrams = ds.init_diagrams(m,f)\n",
        "print(diagrams)\n",
        "for i,dgms in enumerate(diagrams):\n",
        "  for pt in dgms:\n",
        "    print(i , pt.birth, pt.death)"
      ],
      "execution_count": null,
      "outputs": [
        {
          "output_type": "stream",
          "text": [
            "[Diagram with 1 points, Diagram with 2 points]\n",
            "0 1.0 inf\n",
            "1 11.0 inf\n",
            "1 20.0 inf\n"
          ],
          "name": "stdout"
        }
      ]
    },
    {
      "cell_type": "code",
      "metadata": {
        "id": "vCpnQes9BHqz"
      },
      "source": [
        "#Prints simplex stream\n",
        "for s in f:\n",
        "  print(s)"
      ],
      "execution_count": null,
      "outputs": []
    },
    {
      "cell_type": "code",
      "metadata": {
        "id": "GrZxPUsEiJhI"
      },
      "source": [
        "data_dim_0 = []\n",
        "data_gtda_0 = []\n",
        "data_dim_1 = []\n",
        "data_gtda_1 = []\n",
        "sk = get_skeleton(image)\n",
        "#cutoff value is total number of vertices in the graph\n",
        "cutoff = float(np.shape(np.where(sk==1))[1])+1\n",
        "for i,dgms in enumerate(diagrams):\n",
        "  for pt in dgms:\n",
        "    if i == 0:\n",
        "      if pt.death == float('inf'):\n",
        "        data_dim_0.append([pt.birth, cutoff])\n",
        "        data_gtda_0.append([pt.birth, cutoff, 0])\n",
        "      else:\n",
        "        data_dim_0.append([pt.birth, pt.death])\n",
        "        data_gtda_0.append([pt.birth, pt.death, 0])\n",
        "    if i == 1:\n",
        "      if pt.death == float('inf'):\n",
        "        data_dim_1.append([pt.birth, cutoff])\n",
        "        data_gtda_1.append([pt.birth, cutoff, 1])\n",
        "      else:\n",
        "        data_dim_1.append([pt.birth, pt.death])\n",
        "        data_gtda_1.append([pt.birth, pt.death, 1])"
      ],
      "execution_count": null,
      "outputs": []
    },
    {
      "cell_type": "code",
      "metadata": {
        "id": "9gwpcICIA-e3"
      },
      "source": [
        "############ Statistical Summary of array ##############################\n",
        "def stat_summary(list1):\n",
        "  lis = np.array(list1)\n",
        "  min = lis.min()\n",
        "  max = lis.max()\n",
        "  median = np.median(lis)\n",
        "  mean = np.mean(lis)\n",
        "  return [min, max, median, mean]"
      ],
      "execution_count": null,
      "outputs": []
    },
    {
      "cell_type": "code",
      "metadata": {
        "id": "LOas3P7RkAj3"
      },
      "source": [
        "############## Summary of Diagrams ######################################\n",
        "def length_summary_1(diag):\n",
        "  lengths = []\n",
        "  if diag == []:\n",
        "    return (0,0,0)\n",
        "  for i in diag:\n",
        "   lengths.append(i[1] - i[0])\n",
        "  return (min(lengths),max(lengths), sum(lengths)/len(lengths))\n",
        "\n",
        "def length_summary_2(diag):\n",
        "  lengths = []\n",
        "  if diag == []:\n",
        "    return (0,0,0)\n",
        "  for i in diag:\n",
        "   lengths.append(i[0]*(i[1] - i[0]))\n",
        "  return (min(lengths),max(lengths), sum(lengths)/len(lengths))\n",
        "\n",
        "def length_summary_3(diag):\n",
        "  a = 0\n",
        "  b = 0\n",
        "  lengths = []\n",
        "  if diag == []:\n",
        "    return (0,0,0)\n",
        "  for i in diag:\n",
        "    a = a + i[0]*(i[1] - i[0])\n",
        "    b = b + (i[0]**2)*(i[1] - i[0])**4\n",
        "    lengths.append(i[1] - i[0])\n",
        "  return (a, b, sum(lengths)/len(lengths))\n",
        "\n",
        "def persistence_statistics(diag):\n",
        "  lengths = []\n",
        "  mid = []\n",
        "  normlife = []\n",
        "  if diag == []:\n",
        "    return [0,0,0,0,0,0,0,0,0]\n",
        "  for i in diag:\n",
        "    lengths.append(i[1]-i[0])\n",
        "    mid.append((i[0]+i[1])/2.0)\n",
        "  total_persistence = sum(lengths)\n",
        "  for i in range(0,len(diag)):\n",
        "    normlife = lengths[i]/(np.array(lengths).max())\n",
        "  return [total_persistence] + stat_summary(mid) + stat_summary(normlife)"
      ],
      "execution_count": null,
      "outputs": []
    },
    {
      "cell_type": "code",
      "metadata": {
        "id": "FL5cqdZHJDfS"
      },
      "source": [
        "def vect_diag(diag):\n",
        "  dg_2 = np.array([diag])\n",
        "  ret = []\n",
        "  if diag == []:\n",
        "    return [0,0,0,-1,0]\n",
        "  ret.append(gtda.diagrams.Amplitude(metric = 'betti', order = None).fit_transform(dg_2)[0][0])\n",
        "  ret.append(gtda.diagrams.Amplitude(metric_params={\"n_layers\":4} , metric ='landscape', order = None).fit_transform(dg_2)[0][0])\n",
        "  ret.append(gtda.diagrams.Amplitude(metric = 'wasserstein', order = None).fit_transform(dg_2)[0][0])\n",
        "  ret.append(gtda.diagrams.PersistenceEntropy().fit_transform(dg_2)[0][0])\n",
        "  ret.append(gtda.diagrams.Amplitude(metric = 'bottleneck', order = None).fit_transform(dg_2)[0][0])\n",
        "  return ret"
      ],
      "execution_count": null,
      "outputs": []
    },
    {
      "cell_type": "code",
      "metadata": {
        "id": "M5rrTopMTzjV"
      },
      "source": [
        "#######################################################\n",
        "######### Rough #######################################\n",
        "#######################################################"
      ],
      "execution_count": null,
      "outputs": []
    },
    {
      "cell_type": "code",
      "metadata": {
        "colab": {
          "base_uri": "https://localhost:8080/"
        },
        "id": "yK3HwJPgGcYq",
        "outputId": "b73c9eb7-f74d-439a-b387-e0939a482e84"
      },
      "source": [
        "dg_2 = np.array([data_gtda_1])\n",
        "print(gtda.diagrams.Amplitude(metric = 'betti', order = None).fit_transform(dg_2)[0][0])\n",
        "print(gtda.diagrams.Amplitude(metric_params={\"n_layers\":4} , metric ='landscape', order = None).fit_transform(dg_2)[0][0])\n",
        "print(gtda.diagrams.Amplitude(metric = 'wasserstein', order = None).fit_transform(dg_2)[0][0])\n",
        "print(gtda.diagrams.PersistenceEntropy().fit_transform(dg_2)[0][0])\n",
        "print(gtda.diagrams.Amplitude(metric = 'bottleneck', order = None).fit_transform(dg_2)[0][0])"
      ],
      "execution_count": null,
      "outputs": [
        {
          "output_type": "stream",
          "text": [
            "10.40104889815533\n",
            "67.65255838436846\n",
            "21.10094784600919\n",
            "0.9831491282282877\n",
            "17.0\n"
          ],
          "name": "stdout"
        }
      ]
    },
    {
      "cell_type": "code",
      "metadata": {
        "colab": {
          "base_uri": "https://localhost:8080/"
        },
        "id": "mz-f1Bc5hrKp",
        "outputId": "697dc9f9-e6de-46cb-a616-766c667e5239"
      },
      "source": [
        "vect_diag(data_gtda_1)"
      ],
      "execution_count": null,
      "outputs": [
        {
          "output_type": "execute_result",
          "data": {
            "text/plain": [
              "[10.40104889815533,\n",
              " 67.65255838436846,\n",
              " 21.10094784600919,\n",
              " 0.9831491282282877,\n",
              " 17.0]"
            ]
          },
          "metadata": {
            "tags": []
          },
          "execution_count": 42
        }
      ]
    },
    {
      "cell_type": "code",
      "metadata": {
        "id": "fqgHOTC6BVjl"
      },
      "source": [
        "#######################################################\n",
        "######## Obtaining vectors with 4 vertex choices ######\n",
        "#######################################################"
      ],
      "execution_count": null,
      "outputs": []
    },
    {
      "cell_type": "code",
      "metadata": {
        "id": "f0lJ4uVgA9tU"
      },
      "source": [
        "def length_summary(image, cases = 0):\n",
        "  sim_0 = bfs_simplex_0(skeletongraphr3c(image, -1),0)\n",
        "  sim_1 = bfs_simplex_1(skeletongraphr3c(image, -1),0)\n",
        "  sim = sim_0 + sim_1\n",
        "  f = ds.Filtration()\n",
        "  for vertices, time in sim:\n",
        "    f.append(ds.Simplex(vertices, time))\n",
        "  f.sort()\n",
        "  m = ds.homology_persistence(f)\n",
        "  diagrams = ds.init_diagrams(m,f)\n",
        "  data_dim_0 = []\n",
        "  data_dim_1 = []\n",
        "  sk = get_skeleton(image)\n",
        "  #cutoff value is total number of vertices in the graph\n",
        "  cutoff = float(np.shape(np.where(sk==1))[1])+1\n",
        "  for i,dgms in enumerate(diagrams):\n",
        "    for pt in dgms:\n",
        "      if i == 0:\n",
        "        if pt.death == float('inf'):\n",
        "          data_dim_0.append([pt.birth, cutoff])\n",
        "        else:\n",
        "          data_dim_0.append([pt.birth, pt.death])\n",
        "      if i == 1:\n",
        "        if pt.death == float('inf'):\n",
        "          data_dim_1.append([pt.birth, cutoff])\n",
        "        else:\n",
        "          data_dim_1.append([pt.birth, pt.death])\n",
        "  return length_summary_1(data_dim_0) + length_summary_1(data_dim_1)"
      ],
      "execution_count": null,
      "outputs": []
    },
    {
      "cell_type": "code",
      "metadata": {
        "id": "DcEvICwnzXDe"
      },
      "source": [
        "def pers_vect_summary(image):\n",
        "  sim_0 = bfs_simplex_0(skeletongraphr3c(image, -1),0)\n",
        "  sim_1 = bfs_simplex_1(skeletongraphr3c(image, -1),0)\n",
        "  sim = sim_0 + sim_1\n",
        "  f = ds.Filtration()\n",
        "  for vertices, time in sim:\n",
        "    f.append(ds.Simplex(vertices, time))\n",
        "  f.sort()\n",
        "  m = ds.homology_persistence(f)\n",
        "  diagrams = ds.init_diagrams(m,f)\n",
        "  data_dim_0 = []\n",
        "  data_dim_1 = []\n",
        "  sk = get_skeleton(image)\n",
        "  #cutoff value is total number of vertices in the graph\n",
        "  cutoff = float(np.shape(np.where(sk==1))[1])+1\n",
        "  for i,dgms in enumerate(diagrams):\n",
        "    for pt in dgms:\n",
        "      if i == 0:\n",
        "        if pt.death == float('inf'):\n",
        "          data_dim_0.append([pt.birth, cutoff,0])\n",
        "        else:\n",
        "          data_dim_0.append([pt.birth, pt.death,0])\n",
        "      if i == 1:\n",
        "        if pt.death == float('inf'):\n",
        "          data_dim_1.append([pt.birth, cutoff,1])\n",
        "        else:\n",
        "          data_dim_1.append([pt.birth, pt.death,1])\n",
        "  return list(vect_diag(data_dim_0)) + list(vect_diag(data_dim_1))"
      ],
      "execution_count": null,
      "outputs": []
    },
    {
      "cell_type": "code",
      "metadata": {
        "id": "is_f0mahA_Ln"
      },
      "source": [
        "def get_vectors(data_X):\n",
        "  data_1 = []\n",
        "  data_2 = []\n",
        "  data_3 = []\n",
        "  data_4 = []\n",
        "  sh = np.shape(data_X)[0]\n",
        "  for i in range(0, sh):\n",
        "    img =  data_X[i]\n",
        "    data_1.append(pers_vect_summary(img))\n",
        "    img = np.rot90(data_X[i])\n",
        "    data_2.append(pers_vect_summary(img))\n",
        "    img = np.rot90(np.rot90(data_X[i]))\n",
        "    data_3.append(pers_vect_summary(img))\n",
        "    img = np.rot90(np.rot90(np.rot90(data_X[i])))\n",
        "    data_4.append(pers_vect_summary(img))\n",
        "  return np.concatenate((np.array(data_1),np.array(data_2),np.array(data_3),np.array(data_4)), axis = 1)"
      ],
      "execution_count": null,
      "outputs": []
    },
    {
      "cell_type": "code",
      "metadata": {
        "id": "KRmq5CsY-mLL"
      },
      "source": [
        "bfs_vect = get_vectors(data_X)\n",
        "pd.DataFrame(bfs_vect).to_csv('bfs_vect.csv')\n",
        "!zip bfs.zip *.csv\n",
        "!mv bfs.zip \"/content/drive/My Drive/BFS_Simplex\""
      ],
      "execution_count": null,
      "outputs": []
    },
    {
      "cell_type": "code",
      "metadata": {
        "id": "krnrNl4UPbZe"
      },
      "source": [
        "#####################################################################\n",
        "########### Translating and Rotating ################################\n",
        "#####################################################################"
      ],
      "execution_count": null,
      "outputs": []
    },
    {
      "cell_type": "code",
      "metadata": {
        "id": "ujjLY2GBkCTG"
      },
      "source": [
        "#Translating and Rotating\n",
        "def translated_data(images, x = 6, y = 3):\n",
        "    translated_data = np.zeros((np.shape(images)[0],28,28))\n",
        "    M = np.float32([[1,0,x],[0,1,y]])\n",
        "    for i in range(0,np.shape(images)[0]):\n",
        "        translated_data[i] =  cv.warpAffine(images[i],M,(28,28))\n",
        "    return translated_data"
      ],
      "execution_count": null,
      "outputs": []
    },
    {
      "cell_type": "code",
      "metadata": {
        "id": "sq-HvLCRkFh9"
      },
      "source": [
        "def rotate_data(images, angle = 30):\n",
        "    rotated_data = np.zeros((np.shape(images)[0],28,28))\n",
        "    M = cv.getRotationMatrix2D((14,14),angle,1)\n",
        "    for i in range(0,np.shape(images)[0]):\n",
        "        rotated_data[i] =  cv.warpAffine(images[i],M,(28,28))\n",
        "    return rotated_data"
      ],
      "execution_count": null,
      "outputs": []
    },
    {
      "cell_type": "code",
      "metadata": {
        "id": "NGAlgGe5jzwc"
      },
      "source": [
        "translated_1 = get_vectors(translated_data(test))\n",
        "translated_2 = get_vectors(translated_data(test, x = -6))\n",
        "translated_3 = get_vectors(translated_data(test, y = -3))\n",
        "translated_4 = get_vectors(translated_data(test, x = -6, y = -3))"
      ],
      "execution_count": null,
      "outputs": []
    },
    {
      "cell_type": "code",
      "metadata": {
        "id": "n5x60mz-PuUR"
      },
      "source": [
        "translated_5 = get_vectors(translated_data(test, x = 2, y = 1))\n",
        "translated_6 = get_vectors(translated_data(test, x = 2, y = -1))\n",
        "translated_7 = get_vectors(translated_data(test, x = -3, y =2))\n",
        "translated_8 = get_vectors(translated_data(test, x = -4, y = -2))"
      ],
      "execution_count": null,
      "outputs": []
    },
    {
      "cell_type": "code",
      "metadata": {
        "id": "IumfjAKpmOLn"
      },
      "source": [
        "pd.DataFrame(translated_1).to_csv('translated_1.csv')\n",
        "pd.DataFrame(translated_2).to_csv('translated_2.csv')\n",
        "pd.DataFrame(translated_3).to_csv('translated_3.csv')\n",
        "pd.DataFrame(translated_4).to_csv('translated_4.csv')\n",
        "!zip translated_pers_stat_summary.zip *.csv\n",
        "!mv translated_pers_stat_summary.zip \"/content/drive/My Drive/BFS_Simplex\""
      ],
      "execution_count": null,
      "outputs": []
    },
    {
      "cell_type": "code",
      "metadata": {
        "id": "1U27LT-5QQi7"
      },
      "source": [
        "pd.DataFrame(translated_5).to_csv('translated_5.csv')\n",
        "pd.DataFrame(translated_6).to_csv('translated_6.csv')\n",
        "pd.DataFrame(translated_7).to_csv('translated_7.csv')\n",
        "pd.DataFrame(translated_8).to_csv('translated_8.csv')\n",
        "!zip translated_pers_stat_summary_2.zip *.csv\n",
        "!mv translated_pers_stat_summary_2.zip \"/content/drive/My Drive/BFS_Simplex\""
      ],
      "execution_count": null,
      "outputs": []
    },
    {
      "cell_type": "code",
      "metadata": {
        "id": "v59u7sf_2GKQ"
      },
      "source": [
        "angle =[10,20,30,-10,-20,-30]\n",
        "for i in range(0,6):\n",
        "    rotateddata = get_vectors(rotate_data(test, angle = angle[i]))\n",
        "    pd.DataFrame(rotateddata).to_csv(\"rotated_\"+str(i)+\".csv\")\n",
        "!zip rotated_pers_stat_summary_2.zip *.csv\n",
        "!mv rotated_pers_stat_summary_2.zip \"/content/drive/My Drive/BFS_Simplex\""
      ],
      "execution_count": null,
      "outputs": []
    },
    {
      "cell_type": "code",
      "metadata": {
        "id": "eoqGtX1rk133"
      },
      "source": [
        "###################################################################\n",
        "#################Accuracy using Random Forest Classifier###########\n",
        "##################################################################"
      ],
      "execution_count": null,
      "outputs": []
    },
    {
      "cell_type": "code",
      "metadata": {
        "id": "1mt41UjbvG3W",
        "colab": {
          "base_uri": "https://localhost:8080/"
        },
        "outputId": "d26d21df-ed52-428b-e70d-5990064ffca6"
      },
      "source": [
        "!unzip \"/content/drive/My Drive/BFS_Simplex/bfs.zip\""
      ],
      "execution_count": null,
      "outputs": [
        {
          "output_type": "stream",
          "text": [
            "Archive:  /content/drive/My Drive/BFS_Simplex/bfs.zip\n",
            "  inflating: bfs_vect.csv            \n"
          ],
          "name": "stdout"
        }
      ]
    },
    {
      "cell_type": "code",
      "metadata": {
        "id": "odW9VWowxfHR"
      },
      "source": [
        "bfs_vect = pd.read_csv(\"bfs_vect.csv\")"
      ],
      "execution_count": null,
      "outputs": []
    },
    {
      "cell_type": "code",
      "metadata": {
        "id": "YG_Bj5J1Opez"
      },
      "source": [
        "#Without Translation\n",
        "data = np.array(bfs_vect)[:,1:]\n",
        "data_train = data[:60000,:]\n",
        "data_test = data[60000:,:]"
      ],
      "execution_count": null,
      "outputs": []
    },
    {
      "cell_type": "code",
      "metadata": {
        "id": "f8gpChdIPASJ"
      },
      "source": [
        "from sklearn.ensemble import RandomForestClassifier\n",
        "from sklearn import metrics"
      ],
      "execution_count": null,
      "outputs": []
    },
    {
      "cell_type": "code",
      "metadata": {
        "id": "15RMtXCvPRxh",
        "colab": {
          "base_uri": "https://localhost:8080/"
        },
        "outputId": "0754715b-9fb8-4d4d-9936-c5574dfed4ce"
      },
      "source": [
        "clf = RandomForestClassifier(n_estimators = 100, random_state=31415)\n",
        "clf.fit(data_train, digit_train)\n",
        "digit_pred=clf.predict(data_test[:3000])\n",
        "print(\"Accuracy:\",metrics.accuracy_score(digit_test[:3000], digit_pred))"
      ],
      "execution_count": null,
      "outputs": [
        {
          "output_type": "stream",
          "text": [
            "Accuracy: 0.6203333333333333\n"
          ],
          "name": "stdout"
        }
      ]
    },
    {
      "cell_type": "code",
      "metadata": {
        "id": "ZFbmq6zmNHLq"
      },
      "source": [
        "#For translated data\n",
        "!unzip \"/content/drive/My Drive/BFS_Simplex/translated_pers_stat_summary_2.zip\""
      ],
      "execution_count": null,
      "outputs": []
    },
    {
      "cell_type": "code",
      "metadata": {
        "colab": {
          "base_uri": "https://localhost:8080/"
        },
        "id": "7Kk32GACyfAC",
        "outputId": "9a011be0-c998-4ce9-bb0b-134b30cb4c2a"
      },
      "source": [
        "for i in range(1,9):\n",
        "  test_tr = np.array(pd.read_csv(\"translated_\"+str(i)+\".csv\"))[:,1:]\n",
        "  digit_pred=clf.predict(test_tr)\n",
        "  print(\"Accuracy for translated \",i,\" :\",metrics.accuracy_score(digit_test, digit_pred)*100)"
      ],
      "execution_count": null,
      "outputs": [
        {
          "output_type": "stream",
          "text": [
            "Accuracy for translated  1  : 61.31999999999999\n",
            "Accuracy for translated  2  : 62.46000000000001\n",
            "Accuracy for translated  3  : 61.31999999999999\n",
            "Accuracy for translated  4  : 62.96000000000001\n",
            "Accuracy for translated  5  : 62.79\n",
            "Accuracy for translated  6  : 62.660000000000004\n",
            "Accuracy for translated  7  : 62.93\n",
            "Accuracy for translated  8  : 62.72\n"
          ],
          "name": "stdout"
        }
      ]
    },
    {
      "cell_type": "code",
      "metadata": {
        "colab": {
          "base_uri": "https://localhost:8080/"
        },
        "id": "7tWKqHrMB39v",
        "outputId": "a79965d0-afbd-4c93-c651-f89fc39e25aa"
      },
      "source": [
        "for i in range(1,9):\n",
        "  test_tr = np.array(pd.read_csv(\"translated_\"+str(i)+\".csv\"))[:3000,1:]\n",
        "  digit_pred=clf.predict(test_tr)\n",
        "  print(\"Accuracy for translated \",i,\" :\",metrics.accuracy_score(digit_test[:3000], digit_pred)*100)"
      ],
      "execution_count": null,
      "outputs": [
        {
          "output_type": "stream",
          "text": [
            "Accuracy for translated  1  : 59.96666666666667\n",
            "Accuracy for translated  2  : 61.83333333333333\n",
            "Accuracy for translated  3  : 60.03333333333334\n",
            "Accuracy for translated  4  : 61.83333333333333\n",
            "Accuracy for translated  5  : 62.0\n",
            "Accuracy for translated  6  : 61.9\n",
            "Accuracy for translated  7  : 62.1\n",
            "Accuracy for translated  8  : 61.93333333333333\n"
          ],
          "name": "stdout"
        }
      ]
    },
    {
      "cell_type": "code",
      "metadata": {
        "id": "M8OsIUpZBrsx"
      },
      "source": [
        "#For rotated data: \n",
        "!unzip \"/content/drive/My Drive/BFS_Simplex/rotated_pers_stat_summary_2.zip\""
      ],
      "execution_count": null,
      "outputs": []
    },
    {
      "cell_type": "code",
      "metadata": {
        "colab": {
          "base_uri": "https://localhost:8080/"
        },
        "id": "oyXjI8zCNSss",
        "outputId": "f14b3895-d321-462c-96e2-a552b480c599"
      },
      "source": [
        "for i in range(0,6):\n",
        "  test_tr = np.array(pd.read_csv(\"rotated_\"+str(i)+\".csv\"))[:,1:]\n",
        "  digit_pred=clf.predict(test_tr)\n",
        "  print(\"Accuracy for rotated \",i+1,\" :\",metrics.accuracy_score(digit_test, digit_pred)*100)"
      ],
      "execution_count": null,
      "outputs": [
        {
          "output_type": "stream",
          "text": [
            "Accuracy for rotated  1  : 51.28\n",
            "Accuracy for rotated  2  : 46.96\n",
            "Accuracy for rotated  3  : 46.77\n",
            "Accuracy for rotated  4  : 52.03\n",
            "Accuracy for rotated  5  : 49.730000000000004\n",
            "Accuracy for rotated  6  : 47.77\n"
          ],
          "name": "stdout"
        }
      ]
    },
    {
      "cell_type": "code",
      "metadata": {
        "colab": {
          "base_uri": "https://localhost:8080/"
        },
        "id": "97Eu6HvcCP3p",
        "outputId": "3e7b9832-effe-4b08-f137-8133c23f0c95"
      },
      "source": [
        "for i in range(0,6):\n",
        "  test_tr = np.array(pd.read_csv(\"rotated_\"+str(i)+\".csv\"))[:3000,1:]\n",
        "  digit_pred=clf.predict(test_tr)\n",
        "  print(\"Accuracy for rotated \",i+1,\" :\",metrics.accuracy_score(digit_test[:3000], digit_pred)*100)"
      ],
      "execution_count": null,
      "outputs": [
        {
          "output_type": "stream",
          "text": [
            "Accuracy for rotated  1  : 52.96666666666666\n",
            "Accuracy for rotated  2  : 48.96666666666666\n",
            "Accuracy for rotated  3  : 49.333333333333336\n",
            "Accuracy for rotated  4  : 53.6\n",
            "Accuracy for rotated  5  : 50.63333333333333\n",
            "Accuracy for rotated  6  : 49.46666666666666\n"
          ],
          "name": "stdout"
        }
      ]
    },
    {
      "cell_type": "code",
      "metadata": {
        "id": "BxnPuRr2d_-4"
      },
      "source": [
        "##############################################################\n",
        "########Random selection of  points method ###################\n",
        "##############################################################"
      ],
      "execution_count": null,
      "outputs": []
    },
    {
      "cell_type": "code",
      "metadata": {
        "id": "hnXUtPDg34My"
      },
      "source": [
        "def pers_stat_summary_rand(image, v):\n",
        "  sim_0 = bfs_simplex_0(skeletongraphr3c(image, -1),v)\n",
        "  sim_1 = bfs_simplex_1(skeletongraphr3c(image, -1),v)\n",
        "  sim = sim_0 + sim_1\n",
        "  f = ds.Filtration()\n",
        "  for vertices, time in sim:\n",
        "    f.append(ds.Simplex(vertices, time))\n",
        "  f.sort()\n",
        "  m = ds.homology_persistence(f)\n",
        "  diagrams = ds.init_diagrams(m,f)\n",
        "  data_dim_0 = []\n",
        "  data_dim_1 = []\n",
        "  sk = get_skeleton(image)\n",
        "  #cutoff value is total number of vertices in the graph\n",
        "  cutoff = float(np.shape(np.where(sk==1))[1])+1\n",
        "  for i,dgms in enumerate(diagrams):\n",
        "    for pt in dgms:\n",
        "      if i == 0:\n",
        "        if pt.death == float('inf'):\n",
        "          data_dim_0.append([pt.birth, cutoff,0])\n",
        "        else:\n",
        "          data_dim_0.append([pt.birth, pt.death,0])\n",
        "      if i == 1:\n",
        "        if pt.death == float('inf'):\n",
        "          data_dim_1.append([pt.birth, cutoff,1])\n",
        "        else:\n",
        "          data_dim_1.append([pt.birth, pt.death,1])\n",
        "  return list(vect_diag(data_dim_0)) + list(vect_diag(data_dim_1))"
      ],
      "execution_count": null,
      "outputs": []
    },
    {
      "cell_type": "code",
      "metadata": {
        "id": "jWWpjJwH4ImM"
      },
      "source": [
        "rand_data = []\n",
        "for i in range(0,70000):\n",
        "  img = data_X[i]\n",
        "  random.seed(i)\n",
        "  sk = get_skeleton(img)\n",
        "  cutoff = float(np.shape(np.where(sk==1))[1])\n",
        "  samp = random.sample(list(np.arange(0,cutoff)), 4)\n",
        "  k = []\n",
        "  for j in range(0,4):\n",
        "    k = k + pers_stat_summary_rand(img, samp[j])\n",
        "  rand_data.append(k)"
      ],
      "execution_count": null,
      "outputs": []
    },
    {
      "cell_type": "code",
      "metadata": {
        "id": "zlzvqaSyRObD"
      },
      "source": [
        "pd.DataFrame(rand_data).to_csv(\"rand_bfs.csv\")\n",
        "!zip rand_bfs.zip rand_bfs.csv\n",
        "!mv rand_bfs.zip \"/content/drive/MyDrive/BFS_Simplex\""
      ],
      "execution_count": null,
      "outputs": []
    },
    {
      "cell_type": "code",
      "metadata": {
        "id": "R1WI2D8Q-V57"
      },
      "source": [
        "rand_data_train = np.array(rand_data)[:60000,:]\n",
        "rand_data_test = np.array(rand_data)[60000:,:]\n",
        "\n",
        "clf_rand = RandomForestClassifier(n_estimators = 100, random_state=314)\n",
        "clf_rand.fit(rand_data_train, digit_train)\n",
        "digit_pred=clf_rand.predict(rand_data_test)"
      ],
      "execution_count": null,
      "outputs": []
    },
    {
      "cell_type": "code",
      "metadata": {
        "colab": {
          "base_uri": "https://localhost:8080/"
        },
        "id": "uviuXYalJ5TD",
        "outputId": "75521f63-15c6-4965-dc4a-be3889cea717"
      },
      "source": [
        "print(\"Accuracy:\",metrics.accuracy_score(digit_test, digit_pred))"
      ],
      "execution_count": null,
      "outputs": [
        {
          "output_type": "stream",
          "text": [
            "Accuracy: 0.5389\n"
          ],
          "name": "stdout"
        }
      ]
    },
    {
      "cell_type": "code",
      "metadata": {
        "id": "TwaaNYBjNmkx"
      },
      "source": [
        "########################################################\n",
        "#### Average over all points ###########################\n",
        "########################################################"
      ],
      "execution_count": null,
      "outputs": []
    },
    {
      "cell_type": "code",
      "metadata": {
        "id": "7YD1dUCtBrZn"
      },
      "source": [
        "def new_avg(l):\n",
        "  ret = []\n",
        "  for i in range(0, np.shape(l)[1]):\n",
        "    t = l[:,i]\n",
        "    ret.append(np.mean(t))\n",
        "  return ret"
      ],
      "execution_count": null,
      "outputs": []
    },
    {
      "cell_type": "code",
      "metadata": {
        "id": "7NR94TjWYpIA"
      },
      "source": [
        "data = []\n",
        "for i in range(0,70000):\n",
        "  img = data_X[i]\n",
        "  #random.seed(i)\n",
        "  sk = get_skeleton(img)\n",
        "  cutoff = float(np.shape(np.where(sk==1))[1])\n",
        "  #samp = random.sample(list(np.arange(0,cutoff)), 4)\n",
        "  samp = np.arange(0,cutoff)\n",
        "  k = []\n",
        "  for j in range(0,np.shape(samp)[0]):\n",
        "    #k = k + pers_stat_summary_rand(img, samp[j])\n",
        "    k.append(pers_stat_summary_rand(img, samp[j]))\n",
        "  l = np.array(k)\n",
        "  data.append(new_avg(l))"
      ],
      "execution_count": null,
      "outputs": []
    },
    {
      "cell_type": "code",
      "metadata": {
        "id": "rsxmVSpVFI0L"
      },
      "source": [
        "pd.DataFrame(data).to_csv(\"avg_bfs.csv\")\n",
        "!zip avg_bfs.zip avg_bfs.csv\n",
        "!mv avg_bfs.zip \"/content/drive/MyDrive/BFS_Simplex\""
      ],
      "execution_count": null,
      "outputs": []
    },
    {
      "cell_type": "code",
      "metadata": {
        "id": "ifzc_AuUBsNK",
        "colab": {
          "base_uri": "https://localhost:8080/"
        },
        "outputId": "6b139440-e0db-42b9-f29e-5f62e21f8aa3"
      },
      "source": [
        "!unzip \"/content/drive/MyDrive/BFS_Simplex/avg_bfs.zip\"\n",
        "avg_vect = pd.read_csv(\"avg_bfs.csv\")\n",
        "data = np.array(avg_vect)[:,1:]\n",
        "data_train = data[:60000,:]\n",
        "data_test = data[60000:,:]"
      ],
      "execution_count": null,
      "outputs": [
        {
          "output_type": "stream",
          "text": [
            "Archive:  /content/drive/MyDrive/BFS_Simplex/avg_bfs.zip\n",
            "replace avg_bfs.csv? [y]es, [n]o, [A]ll, [N]one, [r]ename: N\n"
          ],
          "name": "stdout"
        }
      ]
    },
    {
      "cell_type": "code",
      "metadata": {
        "colab": {
          "base_uri": "https://localhost:8080/"
        },
        "id": "tp-y3QobBsN2",
        "outputId": "3ef44f1f-5fe5-473b-f3c9-54933bdf64a1"
      },
      "source": [
        "clf_1 = RandomForestClassifier(n_estimators = 100, random_state=31415)\n",
        "clf_1.fit(data_train, digit_train)\n",
        "digit_pred=clf_1.predict(data_test[:3000])\n",
        "print(\"Accuracy:\",metrics.accuracy_score(digit_test[:3000], digit_pred)*100)"
      ],
      "execution_count": null,
      "outputs": [
        {
          "output_type": "stream",
          "text": [
            "Accuracy: 55.400000000000006\n"
          ],
          "name": "stdout"
        }
      ]
    },
    {
      "cell_type": "code",
      "metadata": {
        "id": "awTYaVaLB_C1"
      },
      "source": [
        "###### Rotating and Translating data ##########################"
      ],
      "execution_count": null,
      "outputs": []
    },
    {
      "cell_type": "code",
      "metadata": {
        "id": "EeY8ptBtETPP"
      },
      "source": [
        "def get_avg_bfs(images):\n",
        "  data = []\n",
        "  for i in range(0,np.shape(images)[0]):\n",
        "    img = images[i]\n",
        "    #random.seed(i)\n",
        "    sk = get_skeleton(img)\n",
        "    cutoff = float(np.shape(np.where(sk==1))[1])\n",
        "    #samp = random.sample(list(np.arange(0,cutoff)), 4)\n",
        "    samp = np.arange(0,cutoff)\n",
        "    k = []\n",
        "    for j in range(0,np.shape(samp)[0]):\n",
        "      #k = k + pers_stat_summary_rand(img, samp[j])\n",
        "      k.append(pers_stat_summary_rand(img, samp[j]))\n",
        "    l = np.array(k)\n",
        "    data.append(new_avg(l))\n",
        "  return data"
      ],
      "execution_count": null,
      "outputs": []
    },
    {
      "cell_type": "code",
      "metadata": {
        "id": "TLA_IZtGEC_M"
      },
      "source": [
        "test_1 = test[:3000,:]\n",
        "translated_1 = get_avg_bfs(translated_data(test_1))\n",
        "pd.DataFrame(translated_1).to_csv('translated_1.csv')\n",
        "translated_2 = get_avg_bfs(translated_data(test_1, x = -6))\n",
        "pd.DataFrame(translated_2).to_csv('translated_2.csv')\n",
        "translated_3 = get_avg_bfs(translated_data(test_1, y = -3))\n",
        "pd.DataFrame(translated_3).to_csv('translated_3.csv')\n",
        "translated_4 = get_avg_bfs(translated_data(test_1, x = -6, y = -3))\n",
        "pd.DataFrame(translated_4).to_csv('translated_4.csv')\n",
        "!zip translated_avg_bfs_summary.zip *.csv\n",
        "!mv translated_avg_bfs_summary.zip \"/content/drive/My Drive/BFS_Simplex\""
      ],
      "execution_count": null,
      "outputs": []
    },
    {
      "cell_type": "code",
      "metadata": {
        "id": "0mpvpPSsFIhg"
      },
      "source": [
        "test_1 = test[:3000,:]\n",
        "translated_5 = get_avg_bfs(translated_data(test_1, x = 2, y = 1))\n",
        "pd.DataFrame(translated_5).to_csv('translated_5.csv')\n",
        "translated_6 = get_avg_bfs(translated_data(test_1, x = 2, y = -1))\n",
        "pd.DataFrame(translated_6).to_csv('translated_6.csv')\n",
        "translated_7 = get_avg_bfs(translated_data(test_1, x = -3, y =2))\n",
        "pd.DataFrame(translated_7).to_csv('translated_7.csv')\n",
        "translated_8 = get_avg_bfs(translated_data(test_1, x = -4, y = -2))\n",
        "pd.DataFrame(translated_8).to_csv('translated_8.csv')\n",
        "!zip translated_avg_bfs_summary_2.zip *.csv\n",
        "!mv translated_avg_bfs_summary_2.zip \"/content/drive/My Drive/BFS_Simplex\""
      ],
      "execution_count": null,
      "outputs": []
    },
    {
      "cell_type": "code",
      "metadata": {
        "colab": {
          "background_save": true
        },
        "id": "vA5JlDOYvqiW"
      },
      "source": [
        "angle =[10,20,30,-10,-20,-30]\n",
        "for i in range(0,6):\n",
        "    rotateddata = get_avg_bfs(rotate_data(test_1, angle = angle[i]))\n",
        "    pd.DataFrame(rotateddata).to_csv(\"rotated_\"+str(i)+\".csv\")\n",
        "\n",
        "!zip rotated_avg_bfs_summary_2.zip *.csv\n",
        "!mv rotated_avg_bfs_summary_2.zip \"/content/drive/My Drive/BFS_Simplex\""
      ],
      "execution_count": null,
      "outputs": []
    },
    {
      "cell_type": "code",
      "metadata": {
        "id": "N1YTb7kNzxBx"
      },
      "source": [
        "!unzip \"/content/drive/My Drive/BFS_Simplex/rotated_avg_bfs_summary_2.zip\""
      ],
      "execution_count": null,
      "outputs": []
    },
    {
      "cell_type": "code",
      "metadata": {
        "id": "cdkg6HCJIpB7",
        "colab": {
          "base_uri": "https://localhost:8080/"
        },
        "outputId": "8d030a96-fcd3-460f-8fb3-66693c46d7c3"
      },
      "source": [
        "for i in range(0,6):\n",
        "  test_transformed = np.array(pd.read_csv(\"rotated_\"+str(i)+\".csv\"))[:,1:]\n",
        "  digit_pred= clf_1.predict(test_transformed)\n",
        "  print(i,\" Accuracy :\",metrics.accuracy_score(digit_test[:3000], digit_pred)*100)"
      ],
      "execution_count": null,
      "outputs": [
        {
          "output_type": "stream",
          "text": [
            "0  Accuracy : 46.0\n",
            "1  Accuracy : 44.666666666666664\n",
            "2  Accuracy : 46.43333333333333\n",
            "3  Accuracy : 47.3\n",
            "4  Accuracy : 46.733333333333334\n",
            "5  Accuracy : 47.43333333333333\n"
          ],
          "name": "stdout"
        }
      ]
    },
    {
      "cell_type": "code",
      "metadata": {
        "colab": {
          "base_uri": "https://localhost:8080/"
        },
        "id": "sRhQWqRpzuPX",
        "outputId": "2b2b6d86-ba8d-4d5d-b38f-3bced7f66bca"
      },
      "source": [
        "for i in range(1,5):\n",
        "  test_transformed = np.array(pd.read_csv(\"translated_\"+str(i)+\".csv\"))[:,1:]\n",
        "  digit_pred= clf_1.predict(test_transformed)\n",
        "  print(i,\" Accuracy :\",metrics.accuracy_score(digit_test[:3000], digit_pred)*100)"
      ],
      "execution_count": null,
      "outputs": [
        {
          "output_type": "stream",
          "text": [
            "1  Accuracy : 52.900000000000006\n",
            "2  Accuracy : 55.300000000000004\n",
            "3  Accuracy : 52.83333333333333\n",
            "4  Accuracy : 55.43333333333334\n"
          ],
          "name": "stdout"
        }
      ]
    },
    {
      "cell_type": "code",
      "metadata": {
        "id": "MDJAdGiW0vPM",
        "colab": {
          "base_uri": "https://localhost:8080/"
        },
        "outputId": "e775f64e-b8aa-43f8-badf-9238d678e47b"
      },
      "source": [
        "for i in range(5,9):\n",
        "  test_transformed = np.array(pd.read_csv(\"translated_\"+str(i)+\".csv\"))[:,1:]\n",
        "  digit_pred= clf_1.predict(test_transformed)\n",
        "  print(i,\" Accuracy :\",metrics.accuracy_score(digit_test[:3000], digit_pred)*100)"
      ],
      "execution_count": null,
      "outputs": [
        {
          "output_type": "stream",
          "text": [
            "5  Accuracy : 55.50000000000001\n",
            "6  Accuracy : 55.46666666666666\n",
            "7  Accuracy : 55.50000000000001\n",
            "8  Accuracy : 55.50000000000001\n"
          ],
          "name": "stdout"
        }
      ]
    },
    {
      "cell_type": "code",
      "metadata": {
        "id": "DyYMnR3gWB8V"
      },
      "source": [
        ""
      ],
      "execution_count": null,
      "outputs": []
    }
  ]
}