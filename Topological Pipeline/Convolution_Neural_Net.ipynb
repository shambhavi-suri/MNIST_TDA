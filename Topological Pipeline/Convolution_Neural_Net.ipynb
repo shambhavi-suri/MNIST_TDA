{
  "nbformat": 4,
  "nbformat_minor": 0,
  "metadata": {
    "colab": {
      "name": "Convolution_Neural_Net.ipynb",
      "provenance": [],
      "collapsed_sections": []
    },
    "kernelspec": {
      "name": "python3",
      "display_name": "Python 3"
    }
  },
  "cells": [
    {
      "cell_type": "code",
      "metadata": {
        "id": "alHwePzYkBck"
      },
      "source": [
        "! pip install tensorflow numpy mnist"
      ],
      "execution_count": null,
      "outputs": []
    },
    {
      "cell_type": "markdown",
      "metadata": {
        "id": "mS2ve3U0kVKJ"
      },
      "source": [
        "Source : \r\n",
        "https://victorzhou.com/blog/keras-cnn-tutorial/\r\n",
        "https://www.pyimagesearch.com/2019/02/04/keras-multiple-inputs-and-mixed-data/\r\n"
      ]
    },
    {
      "cell_type": "code",
      "metadata": {
        "id": "DAG26I8QkNnH"
      },
      "source": [
        "import numpy as np\r\n",
        "import mnist\r\n",
        "from tensorflow import keras\r\n",
        "import tensorflow as tf\r\n",
        "\r\n",
        "# The first time you run this might be a bit slow, since the\r\n",
        "# mnist package has to download and cache the data.\r\n",
        "train_images = mnist.train_images()\r\n",
        "train_labels = mnist.train_labels()"
      ],
      "execution_count": null,
      "outputs": []
    },
    {
      "cell_type": "code",
      "metadata": {
        "colab": {
          "base_uri": "https://localhost:8080/"
        },
        "id": "ppD1cpypkR6U",
        "outputId": "f3d34155-d408-43c9-e32b-78addb31288f"
      },
      "source": [
        "train_images = mnist.train_images()\r\n",
        "train_labels = mnist.train_labels()\r\n",
        "test_images = mnist.test_images()\r\n",
        "test_labels = mnist.test_labels()\r\n",
        "\r\n",
        "# Normalize the images.\r\n",
        "train_images = (train_images / 255) - 0.5\r\n",
        "test_images = (test_images / 255) - 0.5\r\n",
        "\r\n",
        "# Reshape the images.\r\n",
        "train_images = np.expand_dims(train_images, axis=3)\r\n",
        "test_images = np.expand_dims(test_images, axis=3)\r\n",
        "\r\n",
        "print(train_images.shape) # (60000, 28, 28, 1)\r\n",
        "print(test_images.shape)  # (10000, 28, 28, 1)"
      ],
      "execution_count": 8,
      "outputs": [
        {
          "output_type": "stream",
          "text": [
            "(60000, 28, 28, 1)\n",
            "(10000, 28, 28, 1)\n"
          ],
          "name": "stdout"
        }
      ]
    },
    {
      "cell_type": "code",
      "metadata": {
        "id": "C9tvUc96keik"
      },
      "source": [
        "from tensorflow.keras.models import Sequential\r\n",
        "from tensorflow.keras.layers import Conv2D, MaxPooling2D, Dense, Flatten\r\n",
        "from tensorflow.keras.utils import to_categorical\r\n",
        "\r\n",
        "num_filters = 8\r\n",
        "filter_size = 3\r\n",
        "pool_size = 2\r\n",
        "\r\n",
        "model_1 = Sequential([\r\n",
        "  Conv2D(num_filters, filter_size, input_shape=(28, 28, 1)),\r\n",
        "  MaxPooling2D(pool_size=pool_size),\r\n",
        "  Flatten(),\r\n",
        "  Dense(10, activation='softmax'),\r\n",
        "])"
      ],
      "execution_count": 55,
      "outputs": []
    },
    {
      "cell_type": "code",
      "metadata": {
        "id": "SwOPFAkqxKVy",
        "colab": {
          "base_uri": "https://localhost:8080/"
        },
        "outputId": "17b99619-476e-4de7-c4b7-65fc7cf2210f"
      },
      "source": [
        "model_1.compile(\r\n",
        "  'adam',\r\n",
        "  loss='categorical_crossentropy',\r\n",
        "  metrics=['accuracy'],\r\n",
        ")\r\n",
        "\r\n",
        "model_1.fit(\r\n",
        "  train_images,\r\n",
        "  to_categorical(train_labels),\r\n",
        "  epochs=3,\r\n",
        "  validation_data=(test_images, to_categorical(test_labels)),\r\n",
        ")\r\n",
        "\r\n",
        "#print(np.argmax(predictions, axis=1))"
      ],
      "execution_count": 56,
      "outputs": [
        {
          "output_type": "stream",
          "text": [
            "Epoch 1/3\n",
            "1875/1875 [==============================] - 19s 10ms/step - loss: 0.6167 - accuracy: 0.8196 - val_loss: 0.2321 - val_accuracy: 0.9347\n",
            "Epoch 2/3\n",
            "1875/1875 [==============================] - 19s 10ms/step - loss: 0.2082 - accuracy: 0.9414 - val_loss: 0.1448 - val_accuracy: 0.9581\n",
            "Epoch 3/3\n",
            "1875/1875 [==============================] - 19s 10ms/step - loss: 0.1344 - accuracy: 0.9623 - val_loss: 0.1115 - val_accuracy: 0.9662\n"
          ],
          "name": "stdout"
        },
        {
          "output_type": "execute_result",
          "data": {
            "text/plain": [
              "<tensorflow.python.keras.callbacks.History at 0x7f3a6d964a90>"
            ]
          },
          "metadata": {
            "tags": []
          },
          "execution_count": 56
        }
      ]
    },
    {
      "cell_type": "code",
      "metadata": {
        "colab": {
          "base_uri": "https://localhost:8080/"
        },
        "id": "5OjkLln3EJ3g",
        "outputId": "0b6b9ef0-57ae-4798-bdc0-3ef6688ee1c1"
      },
      "source": [
        "! unzip \"/content/drive/My Drive/all_vect_new.zip\""
      ],
      "execution_count": 25,
      "outputs": [
        {
          "output_type": "stream",
          "text": [
            "Archive:  /content/drive/My Drive/all_vect_new.zip\n",
            "  inflating: conjugate_data.csv      \n",
            "  inflating: density_data.csv        \n",
            "  inflating: grayscale_data.csv      \n",
            "  inflating: height_data.csv         \n",
            "  inflating: line_data.csv           \n",
            "  inflating: radial_data.csv         \n",
            "  inflating: vr_data.csv             \n"
          ],
          "name": "stdout"
        }
      ]
    },
    {
      "cell_type": "code",
      "metadata": {
        "id": "B7Q9jbL8EWmv"
      },
      "source": [
        "import pandas as pd\r\n",
        "grayscale_data = pd.read_csv(\"grayscale_data.csv\")"
      ],
      "execution_count": 28,
      "outputs": []
    },
    {
      "cell_type": "code",
      "metadata": {
        "colab": {
          "base_uri": "https://localhost:8080/",
          "height": 195
        },
        "id": "ata5BlcLElQm",
        "outputId": "6454dfdd-10fe-4977-ce7b-5474db14dc6d"
      },
      "source": [
        "grayscale_data.head()"
      ],
      "execution_count": 29,
      "outputs": [
        {
          "output_type": "execute_result",
          "data": {
            "text/html": [
              "<div>\n",
              "<style scoped>\n",
              "    .dataframe tbody tr th:only-of-type {\n",
              "        vertical-align: middle;\n",
              "    }\n",
              "\n",
              "    .dataframe tbody tr th {\n",
              "        vertical-align: top;\n",
              "    }\n",
              "\n",
              "    .dataframe thead th {\n",
              "        text-align: right;\n",
              "    }\n",
              "</style>\n",
              "<table border=\"1\" class=\"dataframe\">\n",
              "  <thead>\n",
              "    <tr style=\"text-align: right;\">\n",
              "      <th></th>\n",
              "      <th>Unnamed: 0</th>\n",
              "      <th>0</th>\n",
              "      <th>1</th>\n",
              "      <th>2</th>\n",
              "      <th>3</th>\n",
              "      <th>4</th>\n",
              "      <th>5</th>\n",
              "      <th>6</th>\n",
              "      <th>7</th>\n",
              "    </tr>\n",
              "  </thead>\n",
              "  <tbody>\n",
              "    <tr>\n",
              "      <th>0</th>\n",
              "      <td>0</td>\n",
              "      <td>0.000000</td>\n",
              "      <td>1.713575</td>\n",
              "      <td>1175.431949</td>\n",
              "      <td>1194.102879</td>\n",
              "      <td>15.968719</td>\n",
              "      <td>34.158720</td>\n",
              "      <td>127.500000</td>\n",
              "      <td>138.257911</td>\n",
              "    </tr>\n",
              "    <tr>\n",
              "      <th>1</th>\n",
              "      <td>1</td>\n",
              "      <td>1.122890</td>\n",
              "      <td>2.300040</td>\n",
              "      <td>1325.192468</td>\n",
              "      <td>1192.847660</td>\n",
              "      <td>28.664729</td>\n",
              "      <td>43.599416</td>\n",
              "      <td>151.981907</td>\n",
              "      <td>136.368985</td>\n",
              "    </tr>\n",
              "    <tr>\n",
              "      <th>2</th>\n",
              "      <td>2</td>\n",
              "      <td>0.000000</td>\n",
              "      <td>2.511583</td>\n",
              "      <td>1175.431949</td>\n",
              "      <td>1214.629940</td>\n",
              "      <td>15.968719</td>\n",
              "      <td>48.917060</td>\n",
              "      <td>127.500000</td>\n",
              "      <td>149.094769</td>\n",
              "    </tr>\n",
              "    <tr>\n",
              "      <th>3</th>\n",
              "      <td>3</td>\n",
              "      <td>0.000000</td>\n",
              "      <td>0.304339</td>\n",
              "      <td>1175.431949</td>\n",
              "      <td>1175.434171</td>\n",
              "      <td>15.968719</td>\n",
              "      <td>17.799387</td>\n",
              "      <td>127.500000</td>\n",
              "      <td>127.527448</td>\n",
              "    </tr>\n",
              "    <tr>\n",
              "      <th>4</th>\n",
              "      <td>4</td>\n",
              "      <td>0.993234</td>\n",
              "      <td>2.358662</td>\n",
              "      <td>1467.437163</td>\n",
              "      <td>1195.039365</td>\n",
              "      <td>29.810004</td>\n",
              "      <td>45.109295</td>\n",
              "      <td>165.170367</td>\n",
              "      <td>140.484875</td>\n",
              "    </tr>\n",
              "  </tbody>\n",
              "</table>\n",
              "</div>"
            ],
            "text/plain": [
              "   Unnamed: 0         0         1  ...          5           6           7\n",
              "0           0  0.000000  1.713575  ...  34.158720  127.500000  138.257911\n",
              "1           1  1.122890  2.300040  ...  43.599416  151.981907  136.368985\n",
              "2           2  0.000000  2.511583  ...  48.917060  127.500000  149.094769\n",
              "3           3  0.000000  0.304339  ...  17.799387  127.500000  127.527448\n",
              "4           4  0.993234  2.358662  ...  45.109295  165.170367  140.484875\n",
              "\n",
              "[5 rows x 9 columns]"
            ]
          },
          "metadata": {
            "tags": []
          },
          "execution_count": 29
        }
      ]
    },
    {
      "cell_type": "code",
      "metadata": {
        "id": "T8PnEk6nErYY"
      },
      "source": [
        "from sklearn.preprocessing import normalize\r\n",
        "gray_train = normalize(np.array(grayscale_data)[:60000,1:], axis=0, norm='max')\r\n",
        "gray_test = normalize(np.array(grayscale_data)[60000:,1:], axis=0, norm='max')"
      ],
      "execution_count": 57,
      "outputs": []
    },
    {
      "cell_type": "code",
      "metadata": {
        "id": "Y8y4texqJxDt"
      },
      "source": [
        "from keras.utils import plot_model\r\n",
        "from keras.layers import Input\r\n",
        "from keras.layers.merge import concatenate\r\n",
        "from keras.models import Model"
      ],
      "execution_count": 58,
      "outputs": []
    },
    {
      "cell_type": "code",
      "metadata": {
        "id": "frpypspyy_qk"
      },
      "source": [
        "#Multi input CNN\r\n",
        "inputA = Input(shape=(8,))\r\n",
        "inputB = Input(shape=(28,28,1))\r\n",
        "\r\n",
        "num_filters = 8\r\n",
        "filter_size = 3\r\n",
        "pool_size = 2\r\n",
        "\r\n",
        "# first feature extractor\r\n",
        "conv1 = Conv2D(num_filters, filter_size, input_shape=(28, 28, 1))(inputB)\r\n",
        "pool1 = MaxPooling2D(pool_size=(2, 2))(conv1)\r\n",
        "flat1 = Flatten()(pool1)\r\n",
        "\r\n",
        "flat2 = Flatten()(inputA)\r\n",
        "merge = concatenate([flat1, flat2])\r\n",
        "output = Dense(10, activation='softmax')(merge)\r\n",
        "model = Model(inputs = [inputA, inputB], outputs = output)"
      ],
      "execution_count": 59,
      "outputs": []
    },
    {
      "cell_type": "code",
      "metadata": {
        "colab": {
          "base_uri": "https://localhost:8080/",
          "height": 564
        },
        "id": "V21fsUV1zCs-",
        "outputId": "d03b5f21-20ff-4693-bc7e-85bd407c19ec"
      },
      "source": [
        "plot_model(model)"
      ],
      "execution_count": 60,
      "outputs": [
        {
          "output_type": "execute_result",
          "data": {
            "image/png": "[encoded data removed]",
            "text/plain": [
              "<IPython.core.display.Image object>"
            ]
          },
          "metadata": {
            "tags": []
          },
          "execution_count": 60
        }
      ]
    },
    {
      "cell_type": "code",
      "metadata": {
        "id": "UKb0AzKSKrOx"
      },
      "source": [
        "model.compile(\r\n",
        "  'adam',\r\n",
        "  loss='categorical_crossentropy',\r\n",
        "  metrics=['accuracy'],\r\n",
        ")"
      ],
      "execution_count": 61,
      "outputs": []
    },
    {
      "cell_type": "code",
      "metadata": {
        "id": "SAp99Q3xKugo",
        "colab": {
          "base_uri": "https://localhost:8080/"
        },
        "outputId": "7d9814b4-93a6-4e10-be2b-7e733bf2d843"
      },
      "source": [
        "model.fit(\r\n",
        "  [gray_train, train_images],\r\n",
        "  to_categorical(train_labels),\r\n",
        "  epochs=3,\r\n",
        "  validation_data=([gray_test, test_images], to_categorical(test_labels)),\r\n",
        ")"
      ],
      "execution_count": 62,
      "outputs": [
        {
          "output_type": "stream",
          "text": [
            "Epoch 1/3\n",
            "1875/1875 [==============================] - 19s 10ms/step - loss: 0.5651 - accuracy: 0.8381 - val_loss: 0.1588 - val_accuracy: 0.9554\n",
            "Epoch 2/3\n",
            "1875/1875 [==============================] - 19s 10ms/step - loss: 0.1446 - accuracy: 0.9601 - val_loss: 0.1127 - val_accuracy: 0.9677\n",
            "Epoch 3/3\n",
            "1875/1875 [==============================] - 19s 10ms/step - loss: 0.1008 - accuracy: 0.9710 - val_loss: 0.0909 - val_accuracy: 0.9728\n"
          ],
          "name": "stdout"
        },
        {
          "output_type": "execute_result",
          "data": {
            "text/plain": [
              "<tensorflow.python.keras.callbacks.History at 0x7f3a6e1cb7d0>"
            ]
          },
          "metadata": {
            "tags": []
          },
          "execution_count": 62
        }
      ]
    }
  ]
}