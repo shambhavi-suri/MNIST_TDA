{
  "nbformat": 4,
  "nbformat_minor": 0,
  "metadata": {
    "colab": {
      "name": "Convolution_Neural_Net.ipynb",
      "provenance": [],
      "collapsed_sections": []
    },
    "kernelspec": {
      "name": "python3",
      "display_name": "Python 3"
    }
  },
  "cells": [
    {
      "cell_type": "code",
      "metadata": {
        "id": "alHwePzYkBck"
      },
      "source": [
        "! pip install tensorflow numpy mnist"
      ],
      "execution_count": null,
      "outputs": []
    },
    {
      "cell_type": "markdown",
      "metadata": {
        "id": "mS2ve3U0kVKJ"
      },
      "source": [
        "Source : \n",
        "https://victorzhou.com/blog/keras-cnn-tutorial/\n",
        "https://www.pyimagesearch.com/2019/02/04/keras-multiple-inputs-and-mixed-data/\n"
      ]
    },
    {
      "cell_type": "code",
      "metadata": {
        "id": "DAG26I8QkNnH"
      },
      "source": [
        "import numpy as np\n",
        "import mnist\n",
        "from tensorflow import keras\n",
        "import tensorflow as tf\n",
        "import cv2 as cv"
      ],
      "execution_count": null,
      "outputs": []
    },
    {
      "cell_type": "code",
      "metadata": {
        "colab": {
          "base_uri": "https://localhost:8080/"
        },
        "id": "ppD1cpypkR6U",
        "outputId": "1e4d4b30-1f60-4842-a491-2f0dbb4010d0"
      },
      "source": [
        "mnist = keras.datasets.mnist\n",
        "(train_images_1, train_labels_1), (test_images, test_labels)  = mnist.load_data()\n",
        "\n",
        "train_images = train_images_1[:50000]\n",
        "train_labels = train_labels_1[:50000]\n",
        "validation_images = train_images_1[50000:]\n",
        "validation_labels = train_labels_1[50000:]\n",
        "\n",
        "# Normalize the images.\n",
        "train_images = (train_images / 255) - 0.5\n",
        "validation_images = (validation_images / 255) - 0.5\n",
        "test_images = (test_images / 255) - 0.5\n",
        "\n",
        "# Reshape the images.\n",
        "train_images = np.expand_dims(train_images, axis=3)\n",
        "validation_images = np.expand_dims(validation_images, axis=3)\n",
        "test_images = np.expand_dims(test_images, axis=3)\n",
        "\n",
        "print(validation_images.shape) # (60000, 28, 28, 1)\n",
        "print(test_images.shape)  # (10000, 28, 28, 1)\n",
        "print(test_labels.shape)\n",
        "print(validation_labels.shape)"
      ],
      "execution_count": null,
      "outputs": [
        {
          "output_type": "stream",
          "text": [
            "Downloading data from https://storage.googleapis.com/tensorflow/tf-keras-datasets/mnist.npz\n",
            "11493376/11490434 [==============================] - 0s 0us/step\n",
            "(10000, 28, 28, 1)\n",
            "(10000, 28, 28, 1)\n",
            "(10000,)\n",
            "(10000,)\n"
          ],
          "name": "stdout"
        }
      ]
    },
    {
      "cell_type": "code",
      "metadata": {
        "id": "C9tvUc96keik"
      },
      "source": [
        "from tensorflow.keras.models import Sequential\n",
        "from tensorflow.keras.layers import Conv2D, MaxPooling2D, Dense, Flatten\n",
        "from tensorflow.keras.utils import to_categorical\n",
        "\n",
        "num_filters = 8\n",
        "filter_size = 3\n",
        "pool_size = 2\n",
        "\n",
        "model_1 = Sequential([\n",
        "  Conv2D(num_filters, filter_size, input_shape=(28, 28, 1)),\n",
        "  MaxPooling2D(pool_size=pool_size),\n",
        "  Flatten(),\n",
        "  Dense(100, activation='sigmoid'),\n",
        "  Dense(10, activation='softmax'),\n",
        "])"
      ],
      "execution_count": null,
      "outputs": []
    },
    {
      "cell_type": "code",
      "metadata": {
        "id": "SwOPFAkqxKVy",
        "colab": {
          "base_uri": "https://localhost:8080/",
          "height": 52
        },
        "outputId": "5dba148f-f422-4e53-8c34-3961b4ab2cc1"
      },
      "source": [
        " model_1.compile(\n",
        "  'adam',\n",
        "  loss='categorical_crossentropy',\n",
        "  metrics=['accuracy'],\n",
        ")\n",
        "\n",
        "\"\"\" \n",
        "model_1.fit(\n",
        "  train_images,\n",
        "  to_categorical(train_labels),\n",
        "  epochs= 5,\n",
        "  validation_data=(validation_images, to_categorical(validation_labels)),\n",
        ")\n",
        "\"\"\""
      ],
      "execution_count": null,
      "outputs": [
        {
          "output_type": "execute_result",
          "data": {
            "application/vnd.google.colaboratory.intrinsic+json": {
              "type": "string"
            },
            "text/plain": [
              "' \\nmodel_1.fit(\\n train_images,\\n to_categorical(train_labels),\\n epochs= 5,\\n validation_data=(validation_images, to_categorical(validation_labels)),\\n)\\n'"
            ]
          },
          "metadata": {
            "tags": []
          },
          "execution_count": 6
        }
      ]
    },
    {
      "cell_type": "code",
      "metadata": {
        "colab": {
          "base_uri": "https://localhost:8080/"
        },
        "id": "HiE2yNKlrEdZ",
        "outputId": "eb541c7f-e384-4e94-f18e-b3dc59b35bcb"
      },
      "source": [
        "from keras import callbacks\n",
        "earlystopping = callbacks.EarlyStopping(monitor =\"val_loss\", \n",
        "                                        mode =\"min\", patience = 2, \n",
        "                                        restore_best_weights = True)\n",
        "  \n",
        "history = model_1.fit(train_images, to_categorical(train_labels), \n",
        "                    epochs = 20, validation_data =(validation_images, to_categorical(validation_labels)), \n",
        "                    callbacks =[earlystopping])"
      ],
      "execution_count": null,
      "outputs": [
        {
          "output_type": "stream",
          "text": [
            "Epoch 1/20\n",
            "1563/1563 [==============================] - 18s 11ms/step - loss: 0.6250 - accuracy: 0.8414 - val_loss: 0.1578 - val_accuracy: 0.9561\n",
            "Epoch 2/20\n",
            "1563/1563 [==============================] - 16s 10ms/step - loss: 0.1423 - accuracy: 0.9594 - val_loss: 0.1035 - val_accuracy: 0.9711\n",
            "Epoch 3/20\n",
            "1563/1563 [==============================] - 15s 10ms/step - loss: 0.0868 - accuracy: 0.9753 - val_loss: 0.0789 - val_accuracy: 0.9787\n",
            "Epoch 4/20\n",
            "1563/1563 [==============================] - 16s 10ms/step - loss: 0.0621 - accuracy: 0.9836 - val_loss: 0.0678 - val_accuracy: 0.9803\n",
            "Epoch 5/20\n",
            "1563/1563 [==============================] - 15s 10ms/step - loss: 0.0449 - accuracy: 0.9890 - val_loss: 0.0626 - val_accuracy: 0.9815\n",
            "Epoch 6/20\n",
            "1563/1563 [==============================] - 15s 10ms/step - loss: 0.0323 - accuracy: 0.9923 - val_loss: 0.0619 - val_accuracy: 0.9813\n",
            "Epoch 7/20\n",
            "1563/1563 [==============================] - 15s 10ms/step - loss: 0.0259 - accuracy: 0.9939 - val_loss: 0.0619 - val_accuracy: 0.9808\n",
            "Epoch 8/20\n",
            "1563/1563 [==============================] - 15s 10ms/step - loss: 0.0180 - accuracy: 0.9959 - val_loss: 0.0592 - val_accuracy: 0.9832\n",
            "Epoch 9/20\n",
            "1563/1563 [==============================] - 15s 10ms/step - loss: 0.0132 - accuracy: 0.9977 - val_loss: 0.0572 - val_accuracy: 0.9826\n",
            "Epoch 10/20\n",
            "1563/1563 [==============================] - 16s 10ms/step - loss: 0.0092 - accuracy: 0.9985 - val_loss: 0.0565 - val_accuracy: 0.9841\n",
            "Epoch 11/20\n",
            "1563/1563 [==============================] - 15s 10ms/step - loss: 0.0079 - accuracy: 0.9990 - val_loss: 0.0570 - val_accuracy: 0.9838\n",
            "Epoch 12/20\n",
            "1563/1563 [==============================] - 16s 10ms/step - loss: 0.0055 - accuracy: 0.9993 - val_loss: 0.0621 - val_accuracy: 0.9846\n"
          ],
          "name": "stdout"
        }
      ]
    },
    {
      "cell_type": "code",
      "metadata": {
        "colab": {
          "base_uri": "https://localhost:8080/"
        },
        "id": "hn-e3eczmUWx",
        "outputId": "81d00294-bb22-4b39-f92a-6cdad4a865f4"
      },
      "source": [
        "model_1.summary()\n",
        "model_1.save(\"/content/drive/MyDrive/Translated_Rotated_6_4_21/model_1\")\n",
        "#model_1 = tf.keras.models.load_model(\"/content/drive/MyDrive/Translated_Rotated_6_4_21/model_1\")"
      ],
      "execution_count": null,
      "outputs": [
        {
          "output_type": "stream",
          "text": [
            "Model: \"sequential\"\n",
            "_________________________________________________________________\n",
            "Layer (type)                 Output Shape              Param #   \n",
            "=================================================================\n",
            "conv2d (Conv2D)              (None, 26, 26, 8)         80        \n",
            "_________________________________________________________________\n",
            "max_pooling2d (MaxPooling2D) (None, 13, 13, 8)         0         \n",
            "_________________________________________________________________\n",
            "flatten (Flatten)            (None, 1352)              0         \n",
            "_________________________________________________________________\n",
            "dense (Dense)                (None, 100)               135300    \n",
            "_________________________________________________________________\n",
            "dense_1 (Dense)              (None, 10)                1010      \n",
            "=================================================================\n",
            "Total params: 136,390\n",
            "Trainable params: 136,390\n",
            "Non-trainable params: 0\n",
            "_________________________________________________________________\n",
            "INFO:tensorflow:Assets written to: /content/drive/MyDrive/Translated_Rotated_6_4_21/model_1/assets\n"
          ],
          "name": "stdout"
        }
      ]
    },
    {
      "cell_type": "code",
      "metadata": {
        "colab": {
          "base_uri": "https://localhost:8080/"
        },
        "id": "Mpa-harSOqWB",
        "outputId": "db82665a-e1dd-4c89-99c2-ed0c0c14ce89"
      },
      "source": [
        "#Testing\n",
        "from sklearn import metrics\n",
        "predictions_1 = model_1.predict(test_images)\n",
        "predictions = np.argmax(predictions_1, axis=1)\n",
        "print(metrics.accuracy_score(test_labels, predictions)*100)"
      ],
      "execution_count": null,
      "outputs": [
        {
          "output_type": "stream",
          "text": [
            "98.26\n"
          ],
          "name": "stdout"
        }
      ]
    },
    {
      "cell_type": "code",
      "metadata": {
        "id": "pmLBYR4H9XLc"
      },
      "source": [
        "#######################################################################################################################\n",
        "####################Testing on Rotated and Translated Test Data #######################################################\n",
        "#######################################################################################################################"
      ],
      "execution_count": null,
      "outputs": []
    },
    {
      "cell_type": "code",
      "metadata": {
        "id": "bCwe6Ub5T2RA"
      },
      "source": [
        "test_images_1 = test_images[:3000]\n",
        "\n",
        "def translated_data(images = test_images_1, x = 6, y = 3):\n",
        "    translated_data = np.zeros((np.shape(images)[0],28,28))\n",
        "    M = np.float32([[1,0,x],[0,1,y]])\n",
        "    for i in range(0,np.shape(images)[0]):\n",
        "        translated_data[i] =  cv.warpAffine(images[i],M,(28,28))\n",
        "    return translated_data\n",
        "\n",
        "angle =[10,20,30,-10,-20,-30]\n",
        "\n",
        "def rotate_data(images = test_images_1, angle = 30):\n",
        "    rotated_data = np.zeros((np.shape(images)[0],28,28))\n",
        "    M = cv.getRotationMatrix2D((14,14),angle,1)\n",
        "    for i in range(0,np.shape(images)[0]):\n",
        "        rotated_data[i] =  cv.warpAffine(images[i],M,(28,28))\n",
        "    return rotated_data"
      ],
      "execution_count": null,
      "outputs": []
    },
    {
      "cell_type": "code",
      "metadata": {
        "id": "MrklqGPaUoml"
      },
      "source": [
        "translateddata = np.zeros((4,3000,28,28))\n",
        "translateddata[0] = translated_data(x = 6, y = 3)\n",
        "translateddata[1] = translated_data(x = 6, y = -3)\n",
        "translateddata[2] = translated_data(x = -6, y = 3)\n",
        "translateddata[3] = translated_data(x = -6, y = -3)"
      ],
      "execution_count": null,
      "outputs": []
    },
    {
      "cell_type": "code",
      "metadata": {
        "id": "p_WKwL-MU3cW"
      },
      "source": [
        "rotateddata = np.zeros((6,3000,28,28))\n",
        "for i in range(0,6):\n",
        "    rotateddata[i] = rotate_data(angle = angle[i])"
      ],
      "execution_count": null,
      "outputs": []
    },
    {
      "cell_type": "code",
      "metadata": {
        "colab": {
          "base_uri": "https://localhost:8080/"
        },
        "id": "2NLOKHfu9ck-",
        "outputId": "56a73b14-fba2-4c3c-fd23-a51417fd8709"
      },
      "source": [
        "t = [[6,3],[6,-3],[-6,-3], [-6,-3]]\n",
        "for i in range(0,4):\n",
        "  predictions_1 = model_1.predict(np.expand_dims(translateddata[i,:,:], axis = 3))\n",
        "  predictions = np.argmax(predictions_1, axis=1)\n",
        "  print(\"Translated by\",t[i],\" : \",metrics.accuracy_score(test_labels[:3000], predictions)*100)"
      ],
      "execution_count": null,
      "outputs": [
        {
          "output_type": "stream",
          "text": [
            "Translated by [6, 3]  :  9.8\n",
            "Translated by [6, -3]  :  16.1\n",
            "Translated by [-6, -3]  :  9.0\n",
            "Translated by [-6, -3]  :  14.233333333333334\n"
          ],
          "name": "stdout"
        }
      ]
    },
    {
      "cell_type": "code",
      "metadata": {
        "id": "pot_chptFqbz"
      },
      "source": [
        "t2 = [[1,1],[1,-1],[-1,1],[-1,-1]]\n",
        "translateddata = np.zeros((4,3000,28,28))\n",
        "translateddata[0] = translated_data(x = 1, y = 1)\n",
        "translateddata[1] = translated_data(x = 1,  y = -1)\n",
        "translateddata[2] = translated_data(x = -1, y = 1)\n",
        "translateddata[3] = translated_data(x = -1, y = -1)"
      ],
      "execution_count": null,
      "outputs": []
    },
    {
      "cell_type": "code",
      "metadata": {
        "colab": {
          "base_uri": "https://localhost:8080/"
        },
        "id": "2G2ru5LIF5gL",
        "outputId": "05af11a0-3be8-4c28-cb07-d7caa4c64532"
      },
      "source": [
        "for i in range(0,4):\n",
        "  predictions_1 = model_1.predict(np.expand_dims(translateddata[i,:,:], axis = 3))\n",
        "  predictions = np.argmax(predictions_1, axis=1)\n",
        "  print(\"Translated\", t2[i],\" : \",metrics.accuracy_score(test_labels[:3000], predictions)*100)"
      ],
      "execution_count": null,
      "outputs": [
        {
          "output_type": "stream",
          "text": [
            "Translated [1, 1]  :  89.86666666666666\n",
            "Translated [1, -1]  :  91.16666666666666\n",
            "Translated [-1, 1]  :  92.23333333333333\n",
            "Translated [-1, -1]  :  87.8\n"
          ],
          "name": "stdout"
        }
      ]
    },
    {
      "cell_type": "code",
      "metadata": {
        "colab": {
          "base_uri": "https://localhost:8080/"
        },
        "id": "9AS05-f1AqEu",
        "outputId": "b1a43a47-a29d-4f20-d205-0ef425b01977"
      },
      "source": [
        "for i in range(0,6):\n",
        "  predictions_1 = model_1.predict(np.expand_dims(rotateddata[i,:,:], axis = 3))\n",
        "  predictions = np.argmax(predictions_1, axis=1)\n",
        "  print(\"Rotated by \", angle[i], \" :\",metrics.accuracy_score(test_labels[:3000], predictions)*100)"
      ],
      "execution_count": null,
      "outputs": [
        {
          "output_type": "stream",
          "text": [
            "Rotated by  10  : 93.53333333333333\n",
            "Rotated by  20  : 78.36666666666666\n",
            "Rotated by  30  : 56.3\n",
            "Rotated by  -10  : 95.63333333333334\n",
            "Rotated by  -20  : 86.73333333333333\n",
            "Rotated by  -30  : 68.06666666666666\n"
          ],
          "name": "stdout"
        }
      ]
    },
    {
      "cell_type": "code",
      "metadata": {
        "id": "MdHngkrtG9dP"
      },
      "source": [
        "#######################################################################################################################\n",
        "#################### Appending Vectors from pipeline ##################################################################\n",
        "#######################################################################################################################"
      ],
      "execution_count": null,
      "outputs": []
    },
    {
      "cell_type": "code",
      "metadata": {
        "id": "5OjkLln3EJ3g"
      },
      "source": [
        "! unzip \"/content/drive/My Drive/all_vect_new.zip\""
      ],
      "execution_count": null,
      "outputs": []
    },
    {
      "cell_type": "code",
      "metadata": {
        "id": "B7Q9jbL8EWmv"
      },
      "source": [
        "#Adding grayscale vectors alone\n",
        "import pandas as pd\n",
        "grayscale_data = pd.read_csv(\"grayscale_data.csv\").iloc[:,1:]\n",
        "conjugate_data = pd.read_csv(\"conjugate_data.csv\").iloc[:,1:]\n",
        "height_data = (pd.read_csv(\"height_data.csv\")).iloc[:,1:]\n",
        "density_data = (pd.read_csv(\"density_data.csv\")).iloc[:,1:]\n",
        "radial_data = (pd.read_csv(\"radial_data.csv\")).iloc[:,1:]\n",
        "line_data = (pd.read_csv(\"line_data.csv\")).iloc[:,1:]\n",
        "grayscale_data = (pd.read_csv(\"grayscale_data.csv\")).iloc[:,1:]\n",
        "conjugate_data = (pd.read_csv(\"conjugate_data.csv\")).iloc[:,1:]\n",
        "vr_data = (pd.read_csv(\"vr_data.csv\")).iloc[:,1:]\n",
        "#add_data = pd.concat([height_data,density_data,radial_data,line_data,grayscale_data,conjugate_data, vr_data], axis = 1)\n",
        "add_data = radial_data\n",
        "sh = add_data.shape[1]"
      ],
      "execution_count": null,
      "outputs": []
    },
    {
      "cell_type": "code",
      "metadata": {
        "id": "T8PnEk6nErYY"
      },
      "source": [
        "from sklearn.preprocessing import normalize\n",
        "append_train = normalize(np.array(add_data)[:50000,:], axis=0, norm='max')\n",
        "append_validation = normalize(np.array(add_data)[50000:60000,:], axis=0, norm='max')\n",
        "append_test = normalize(np.array(add_data)[60000:,:], axis=0, norm='max')"
      ],
      "execution_count": null,
      "outputs": []
    },
    {
      "cell_type": "code",
      "metadata": {
        "id": "Y8y4texqJxDt"
      },
      "source": [
        "from keras.utils import plot_model\n",
        "from keras.layers import Input\n",
        "from keras.layers.merge import concatenate\n",
        "from keras.models import Model"
      ],
      "execution_count": null,
      "outputs": []
    },
    {
      "cell_type": "code",
      "metadata": {
        "id": "frpypspyy_qk"
      },
      "source": [
        "#Multi input CNN\n",
        "inputA = Input(shape=(sh,))\n",
        "inputB = Input(shape=(28,28,1))\n",
        "\n",
        "num_filters = 8\n",
        "filter_size = 3\n",
        "pool_size = 2\n",
        "\n",
        "# first feature extractor\n",
        "conv1 = Conv2D(num_filters, filter_size, input_shape=(28, 28, 1))(inputB)\n",
        "pool1 = MaxPooling2D(pool_size=(2, 2))(conv1)\n",
        "flat1 = Flatten()(pool1)\n",
        "\n",
        "flat2 = Flatten()(inputA)\n",
        "merge = concatenate([flat1, flat2])\n",
        "output_1 = Dense(100, activation='sigmoid')(merge)\n",
        "output = Dense(10, activation='softmax')(output_1)\n",
        "model = Model(inputs = [inputA, inputB], outputs = output)"
      ],
      "execution_count": null,
      "outputs": []
    },
    {
      "cell_type": "code",
      "metadata": {
        "colab": {
          "base_uri": "https://localhost:8080/",
          "height": 661
        },
        "id": "V21fsUV1zCs-",
        "outputId": "e2aa13ad-3eda-43f3-cd2b-6828c3a2bfbd"
      },
      "source": [
        "plot_model(model)"
      ],
      "execution_count": null,
      "outputs": [
        {
          "output_type": "execute_result",
          "data": {
            "image/png": "[encoded data removed]",
            "text/plain": [
              "<IPython.core.display.Image object>"
            ]
          },
          "metadata": {
            "tags": []
          },
          "execution_count": 97
        }
      ]
    },
    {
      "cell_type": "code",
      "metadata": {
        "id": "UKb0AzKSKrOx"
      },
      "source": [
        "model.compile(\n",
        "  'adam',\n",
        "  loss='categorical_crossentropy',\n",
        "  metrics=['accuracy'],\n",
        ")"
      ],
      "execution_count": null,
      "outputs": []
    },
    {
      "cell_type": "code",
      "metadata": {
        "colab": {
          "base_uri": "https://localhost:8080/"
        },
        "id": "Uky2ASG30jc0",
        "outputId": "d69873fb-4cbc-46cd-db40-6cfc2fbd468a"
      },
      "source": [
        "earlystopping = callbacks.EarlyStopping(monitor =\"val_loss\", \n",
        "                                        mode =\"min\", patience = 2, \n",
        "                                        restore_best_weights = True)\n",
        "  \n",
        "history = model.fit([append_train, train_images], to_categorical(train_labels), \n",
        "                    epochs = 20, validation_data =([append_validation, validation_images], to_categorical(validation_labels)), \n",
        "                    callbacks =[earlystopping])"
      ],
      "execution_count": null,
      "outputs": [
        {
          "output_type": "stream",
          "text": [
            "Epoch 1/20\n",
            "1563/1563 [==============================] - 16s 10ms/step - loss: 0.5349 - accuracy: 0.8621 - val_loss: 0.1602 - val_accuracy: 0.9557\n",
            "Epoch 2/20\n",
            "1563/1563 [==============================] - 15s 10ms/step - loss: 0.1482 - accuracy: 0.9548 - val_loss: 0.1063 - val_accuracy: 0.9701\n",
            "Epoch 3/20\n",
            "1563/1563 [==============================] - 15s 10ms/step - loss: 0.0948 - accuracy: 0.9733 - val_loss: 0.0838 - val_accuracy: 0.9768\n",
            "Epoch 4/20\n",
            "1563/1563 [==============================] - 15s 10ms/step - loss: 0.0669 - accuracy: 0.9816 - val_loss: 0.0723 - val_accuracy: 0.9782\n",
            "Epoch 5/20\n",
            "1563/1563 [==============================] - 15s 10ms/step - loss: 0.0484 - accuracy: 0.9872 - val_loss: 0.0656 - val_accuracy: 0.9807\n",
            "Epoch 6/20\n",
            "1563/1563 [==============================] - 15s 10ms/step - loss: 0.0358 - accuracy: 0.9914 - val_loss: 0.0674 - val_accuracy: 0.9807\n",
            "Epoch 7/20\n",
            "1563/1563 [==============================] - 15s 10ms/step - loss: 0.0286 - accuracy: 0.9934 - val_loss: 0.0626 - val_accuracy: 0.9813\n",
            "Epoch 8/20\n",
            "1563/1563 [==============================] - 15s 10ms/step - loss: 0.0221 - accuracy: 0.9955 - val_loss: 0.0593 - val_accuracy: 0.9832\n",
            "Epoch 9/20\n",
            "1563/1563 [==============================] - 15s 10ms/step - loss: 0.0158 - accuracy: 0.9968 - val_loss: 0.0558 - val_accuracy: 0.9839\n",
            "Epoch 10/20\n",
            "1563/1563 [==============================] - 15s 10ms/step - loss: 0.0127 - accuracy: 0.9973 - val_loss: 0.0586 - val_accuracy: 0.9831\n",
            "Epoch 11/20\n",
            "1563/1563 [==============================] - 15s 10ms/step - loss: 0.0084 - accuracy: 0.9989 - val_loss: 0.0625 - val_accuracy: 0.9812\n"
          ],
          "name": "stdout"
        }
      ]
    },
    {
      "cell_type": "code",
      "metadata": {
        "colab": {
          "base_uri": "https://localhost:8080/"
        },
        "id": "Xfl8WqJ6RvBS",
        "outputId": "54857e00-dc97-4fe3-8a13-a1819232f2b5"
      },
      "source": [
        "predictions_1 = model.predict([append_test, test_images])\n",
        "predictions = np.argmax(predictions_1, axis=1)\n",
        "print(metrics.accuracy_score(test_labels, predictions)*100)"
      ],
      "execution_count": null,
      "outputs": [
        {
          "output_type": "stream",
          "text": [
            "98.47\n"
          ],
          "name": "stdout"
        }
      ]
    },
    {
      "cell_type": "code",
      "metadata": {
        "id": "OVW64okUHG2P"
      },
      "source": [
        ""
      ],
      "execution_count": null,
      "outputs": []
    },
    {
      "cell_type": "code",
      "metadata": {
        "id": "-DdY8KsSTahP"
      },
      "source": [
        ""
      ],
      "execution_count": null,
      "outputs": []
    }
  ]
}