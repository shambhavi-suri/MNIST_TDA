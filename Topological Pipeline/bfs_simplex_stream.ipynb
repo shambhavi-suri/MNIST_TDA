{
  "nbformat": 4,
  "nbformat_minor": 0,
  "metadata": {
    "colab": {
      "name": "graph.ipynb",
      "provenance": [],
      "collapsed_sections": []
    },
    "kernelspec": {
      "name": "python3",
      "display_name": "Python 3"
    },
    "accelerator": "GPU"
  },
  "cells": [
    {
      "cell_type": "code",
      "metadata": {
        "id": "SCp2055xFTtJ"
      },
      "source": [
        "class graph:\n",
        "\n",
        "  def __init__(self, vertices = [] , edges = [], visited = [], bfs = []):\n",
        "    self.v = vertices\n",
        "    self.e = edges\n",
        "    self.visit = visited\n",
        "    self.bfs = bfs\n",
        "\n",
        "  def set_visits(self):\n",
        "    self.visit = []\n",
        "    self.bfs = []\n",
        "    for i in range(len(self.v)):\n",
        "        self.visit.append(0)\n",
        "        self.bfs.append(0)\n",
        "\n",
        "  def adjacency(self):\n",
        "    for i in range(len(self.v)):\n",
        "      print(\"Vertex \", self.v[i] ,\" is connected to:\")\n",
        "      print(self.e[i])\n",
        "  \n",
        "  def add_vertex(self, v):\n",
        "    self.v.append(v)\n",
        "    self.e.append([])\n",
        "    self.visit.append(0)\n",
        "  \n",
        "  def set_edges(self):\n",
        "    for i in range(len(self.v)):\n",
        "      self.e.append([])\n",
        "\n",
        "  def add_edge(self, e):\n",
        "    e1 = e[0]\n",
        "    e2 = e[1]\n",
        "    for i in range(len(self.v)):\n",
        "      if self.v[i] == e2:\n",
        "        self.e[i].append(e1)\n",
        "    for i in range(len(self.v)):\n",
        "      if self.v[i] == e1:\n",
        "        self.e[i].append(e2)\n",
        "\n",
        "  def if_edge(self, e):\n",
        "    e1 = e[0]\n",
        "    e2 = e[1]\n",
        "    k = -1\n",
        "    for i in range(len(self.v)):\n",
        "      if self.v[i] == e1:\n",
        "        break\n",
        "    return e2 in self.e[i]\n",
        "\n",
        "  def get_index(self , v):\n",
        "    for i in range(len(self.v)):\n",
        "      if self.v[i] == v:\n",
        "        break\n",
        "    return i\n",
        "  \n",
        "  def get_row(self , v):\n",
        "    for i in range(len(self.v)):\n",
        "      if self.v[i] == v:\n",
        "        break\n",
        "    row = []\n",
        "    for j in range(len(self.v)):\n",
        "      edge = self.v[j] in self.e[i]\n",
        "      row.append(edge*1)\n",
        "    return row\n",
        "\n",
        "  def adjacency_matrix(self):\n",
        "    adjacency_matrix = []\n",
        "    for i in range(len(self.v)):\n",
        "      adjacency_matrix.append(self.get_row(self.v[i]))\n",
        "    return adjacency_matrix\n",
        "  \n",
        "  def update_visit(self , w):\n",
        "    i = self.get_index(w)\n",
        "    self.visit[i] = 1\n",
        "  \n",
        "  def get_visit(self,w):\n",
        "    i = self.get_index(w)\n",
        "    return self.visit[i]\n",
        "  \n",
        "  def update_bfs(self, w, t):\n",
        "    i = self.get_index(w)\n",
        "    self.bfs[i] = t\n",
        "\n",
        "  def visit_left(self):\n",
        "    return 0 in self.visit"
      ],
      "execution_count": null,
      "outputs": []
    },
    {
      "cell_type": "code",
      "metadata": {
        "id": "4DCT3h5UIcLm"
      },
      "source": [
        "def get_edges(graph, ord = False, v = 0):\n",
        "  get_edges = []\n",
        "  if !ord:\n",
        "    vertices = graph.v\n",
        "    edges = graph.e\n",
        "    for i in range(len(vertices)):\n",
        "      vertex = vertices[i]\n",
        "      while edges[i] != []:\n",
        "        get_edges.append([vertex, edges[i][0]])\n",
        "        edges[graph.get_index(edges[i][0])].remove(vertex)\n",
        "        edges[i].pop(0)\n",
        "    return get_edges\n",
        "  if ord:\n",
        "    vertices = graph.v\n",
        "    order = graph.bfs_order(v)\n",
        "    order_edge = []\n",
        "    edges = graph.e\n",
        "    for i in range(len(vertices)):\n",
        "      vertex = vertices[i]\n",
        "      while edges[i] != []:\n",
        "        get_edges.append([vertex, edges[i][0]])\n",
        "        order\n",
        "        edges[graph.get_index(edges[i][0])].remove(vertex)\n",
        "        edges[i].pop(0)\n",
        "    return (get_edges,order_edge)\n"
      ],
      "execution_count": null,
      "outputs": []
    },
    {
      "cell_type": "code",
      "metadata": {
        "id": "jA6K4FQ_PgBk"
      },
      "source": [
        "def get_graph(vertices , edges):\n",
        "  sample = graph(vertices)\n",
        "  sample.set_edges()\n",
        "  for i in edges:\n",
        "    sample.add_edge(i)\n",
        "  return sample"
      ],
      "execution_count": null,
      "outputs": []
    },
    {
      "cell_type": "code",
      "metadata": {
        "id": "gHEOmKHuF6hB"
      },
      "source": [
        "def bfs_order(graph, v):\n",
        "  time = 1\n",
        "  graph.set_visits()\n",
        "  graph.update_bfs(v, time)\n",
        "  graph.update_visit(v)\n",
        "  temp = graph.e[graph.get_index(v)]\n",
        "  while graph.visit_left():\n",
        "    time = time + 1\n",
        "    temp2 = []\n",
        "    for t in temp:\n",
        "      if graph.get_visit(t) == 0:\n",
        "        graph.update_bfs(t,time)\n",
        "        graph.update_visit(t)\n",
        "        temp2 = temp2 + graph.e[graph.get_index(t)]\n",
        "    temp = temp2"
      ],
      "execution_count": null,
      "outputs": []
    },
    {
      "cell_type": "code",
      "metadata": {
        "id": "wzDEf94VfBMz"
      },
      "source": [
        "def bfs_simplex_0(graph, v):\n",
        "  s_0 = []\n",
        "  graph.set_visits()\n",
        "  bfs_order(graph, v)\n",
        "  for i in graph.v:\n",
        "    s_0.append(([i], graph.bfs[graph.get_index(i)]))\n",
        "  return s_0   "
      ],
      "execution_count": null,
      "outputs": []
    },
    {
      "cell_type": "code",
      "metadata": {
        "id": "DHMly0zxFM8D"
      },
      "source": [
        "def bfs_simplex_1(graph, v):\n",
        "  s_1 = []\n",
        "  graph.set_visits()\n",
        "  bfs_order(graph, v)\n",
        "  for i in get_edges(graph):\n",
        "    s_1.append((i,t))\n",
        "  return s_1"
      ],
      "execution_count": null,
      "outputs": []
    },
    {
      "cell_type": "code",
      "metadata": {
        "id": "0Bw_2x-VZbE1"
      },
      "source": [
        "#testing functions\n",
        "sample = graph([1,2,3],[[2,3],[1],[1]])\n",
        "sample.adjacency()\n",
        "sample.add_vertex(4)\n",
        "sample.adjacency()\n",
        "sample.add_edge([3,4])\n",
        "sample.adjacency()\n",
        "sample.set_visits()\n",
        "sample.visit\n",
        "sample.if_edge([4,2])\n",
        "sample.get_row(1)\n",
        "sample.adjacency_matrix()"
      ],
      "execution_count": null,
      "outputs": []
    },
    {
      "cell_type": "code",
      "metadata": {
        "id": "Ah5QwFeyL5GC"
      },
      "source": [
        "sample = graph([1,2,3,4,5,6,7],[[2],[1,6],[1,4,5],[3],[3,7],[2],[5]])\n",
        "bfs_simplex_0(sample, 1)\n",
        "bfs_simplex_1(sample, 1)\n",
        "vertices = [1,2,3,4,5]\n",
        "edges = [[1,2],[1,3],[2,4],[1,5],[5,4]]\n",
        "test = get_graph(vertices,edges)"
      ],
      "execution_count": null,
      "outputs": []
    }
  ]
}