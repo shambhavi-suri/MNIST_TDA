{
  "nbformat": 4,
  "nbformat_minor": 0,
  "metadata": {
    "colab": {
      "name": "Analysing_ASL_Images.ipynb",
      "provenance": [],
      "collapsed_sections": []
    },
    "kernelspec": {
      "display_name": "Python 3",
      "name": "python3"
    },
    "language_info": {
      "name": "python"
    }
  },
  "cells": [
    {
      "cell_type": "code",
      "metadata": {
        "id": "87jTAnJa2VsC"
      },
      "source": [
        "!pip install giotto-tda"
      ],
      "execution_count": null,
      "outputs": []
    },
    {
      "cell_type": "code",
      "metadata": {
        "id": "sfyeaFqzBU4V"
      },
      "source": [
        "import numpy as np\n",
        "import pandas as pd\n",
        "import matplotlib.pyplot as plt\n",
        "import gtda.images  \n",
        "import gtda.homology\n",
        "import gtda.diagrams\n",
        "import cv2 as cv\n",
        "import tensorflow as tf\n",
        "import skimage.exposure"
      ],
      "execution_count": null,
      "outputs": []
    },
    {
      "cell_type": "code",
      "metadata": {
        "colab": {
          "base_uri": "https://localhost:8080/"
        },
        "id": "Wd_AE6qC8VLB",
        "outputId": "b64ca0a7-6181-438f-cb72-dcdae058c562"
      },
      "source": [
        "!unzip \"/content/drive/MyDrive/American Sign Language - Dataset/sign_mnist_test.csv.zip\"\n",
        "!unzip \"/content/drive/MyDrive/American Sign Language - Dataset/sign_mnist_train.csv.zip\""
      ],
      "execution_count": null,
      "outputs": [
        {
          "output_type": "stream",
          "text": [
            "Archive:  /content/drive/MyDrive/American Sign Language - Dataset/sign_mnist_test.csv.zip\n",
            "  inflating: sign_mnist_test.csv     \n",
            "Archive:  /content/drive/MyDrive/American Sign Language - Dataset/sign_mnist_train.csv.zip\n",
            "  inflating: sign_mnist_train.csv    \n"
          ],
          "name": "stdout"
        }
      ]
    },
    {
      "cell_type": "code",
      "metadata": {
        "id": "UnxMf876GCSb"
      },
      "source": [
        "from skimage.morphology import skeletonize"
      ],
      "execution_count": null,
      "outputs": []
    },
    {
      "cell_type": "code",
      "metadata": {
        "id": "EDf69Gou9EeW"
      },
      "source": [
        "test = pd.read_csv(\"sign_mnist_test.csv\")\n",
        "train = pd.read_csv(\"sign_mnist_train.csv\")\n",
        "y = pd.concat([train['label'], test['label']])\n",
        "train_size = train.shape[0]\n",
        "test_size = test.shape[0]"
      ],
      "execution_count": null,
      "outputs": []
    },
    {
      "cell_type": "code",
      "metadata": {
        "id": "Nao9Zo85-fb7"
      },
      "source": [
        "train_images = []\n",
        "test_images = []\n",
        "train = np.array(train.iloc[:,1:])\n",
        "test = np.array(test.iloc[:,1:])\n",
        "\n",
        "for i in range(0,train_size):\n",
        "  img_ravelled = train[i]\n",
        "  train_images.append(np.reshape(img_ravelled,(28,28)))\n",
        "\n",
        "for i in range(0,test_size):\n",
        "  img_ravelled = train[i]\n",
        "  test_images.append(np.reshape(img_ravelled,(28,28)))\n",
        "\n",
        "train_images = np.array(train_images)\n",
        "test_images = np.array(test_images)"
      ],
      "execution_count": null,
      "outputs": []
    },
    {
      "cell_type": "code",
      "metadata": {
        "id": "rUkfanaK2Vsh"
      },
      "source": [
        "size = train_size + test_size\n",
        "images = np.concatenate((train_images,test_images), axis = 0)\n",
        "\n",
        "conjugate_images = np.zeros((size,28,28))\n",
        "for i in range(0,size):\n",
        "  conjugate_images[i,:,:] =  255 - images[i,:,:]"
      ],
      "execution_count": null,
      "outputs": []
    },
    {
      "cell_type": "code",
      "metadata": {
        "id": "lxNMlP0T2Vs4"
      },
      "source": [
        "#%%plots image_dim*image_dim np array\n",
        "def plot_image(Q):\n",
        "    plt.matshow(Q);\n",
        "    plt.colorbar()"
      ],
      "execution_count": null,
      "outputs": []
    },
    {
      "cell_type": "code",
      "metadata": {
        "id": "WqzAh8tpDAJ6"
      },
      "source": [
        "boundary_matrix = [[(i>1)*(j>1)*(i<26)*(j<26)*1 for i in range(0,28)] for j in range(0,28)]\n",
        "image_dim = 28"
      ],
      "execution_count": null,
      "outputs": []
    },
    {
      "cell_type": "code",
      "metadata": {
        "colab": {
          "base_uri": "https://localhost:8080/",
          "height": 1000
        },
        "id": "3yPa5KCEF9Qt",
        "outputId": "7b858f22-7799-4e0c-bddb-14151e5f8839"
      },
      "source": [
        "print('Printing first 5 images')\n",
        "for i in range(0,5):\n",
        "  im = skimage.exposure.equalize_hist(conjugate_images[i])\n",
        "  plot_image(np.multiply(im, boundary_matrix))"
      ],
      "execution_count": null,
      "outputs": [
        {
          "output_type": "stream",
          "text": [
            "Printing first 5 images\n"
          ],
          "name": "stdout"
        },
        {
          "output_type": "display_data",
          "data": {
            "image/png": "[encoded data removed]",
            "text/plain": [
              "<Figure size 288x288 with 2 Axes>"
            ]
          },
          "metadata": {
            "tags": []
          }
        },
        {
          "output_type": "display_data",
          "data": {
            "image/png": "[encoded data removed]",
            "text/plain": [
              "<Figure size 288x288 with 2 Axes>"
            ]
          },
          "metadata": {
            "tags": []
          }
        },
        {
          "output_type": "display_data",
          "data": {
            "image/png": "[encoded data removed]",
            "text/plain": [
              "<Figure size 288x288 with 2 Axes>"
            ]
          },
          "metadata": {
            "tags": []
          }
        },
        {
          "output_type": "display_data",
          "data": {
            "image/png": "[encoded data removed]",
            "text/plain": [
              "<Figure size 288x288 with 2 Axes>"
            ]
          },
          "metadata": {
            "tags": []
          }
        },
        {
          "output_type": "display_data",
          "data": {
            "image/png": "[encoded data removed]",
            "text/plain": [
              "<Figure size 288x288 with 2 Axes>"
            ]
          },
          "metadata": {
            "tags": []
          }
        }
      ]
    },
    {
      "cell_type": "code",
      "metadata": {
        "id": "M7qbTf-daRNa"
      },
      "source": [
        "from skimage.filters import threshold_otsu, threshold_local"
      ],
      "execution_count": null,
      "outputs": []
    },
    {
      "cell_type": "code",
      "metadata": {
        "id": "e9O_ypbXVULX"
      },
      "source": [
        "binarized_images = np.zeros((size,28,28))\n",
        "for i in range(0,size):\n",
        "  global_thresh = threshold_otsu(conjugate_images[i])\n",
        "  bin_img = images[i] > global_thresh\n",
        "  binarized_images[i] = bin_img"
      ],
      "execution_count": null,
      "outputs": []
    },
    {
      "cell_type": "code",
      "metadata": {
        "colab": {
          "base_uri": "https://localhost:8080/",
          "height": 1000
        },
        "id": "V1huMR6kAzTC",
        "outputId": "4d86816c-67f3-4820-dbe0-42055f5366a0"
      },
      "source": [
        "for i in range(0,5):\n",
        "  plot_image(binarized_images[i])"
      ],
      "execution_count": null,
      "outputs": [
        {
          "output_type": "display_data",
          "data": {
            "image/png": "[encoded data removed]",
            "text/plain": [
              "<Figure size 288x288 with 2 Axes>"
            ]
          },
          "metadata": {
            "tags": []
          }
        },
        {
          "output_type": "display_data",
          "data": {
            "image/png": "[encoded data removed]",
            "text/plain": [
              "<Figure size 288x288 with 2 Axes>"
            ]
          },
          "metadata": {
            "tags": []
          }
        },
        {
          "output_type": "display_data",
          "data": {
            "image/png": "[encoded data removed]",
            "text/plain": [
              "<Figure size 288x288 with 2 Axes>"
            ]
          },
          "metadata": {
            "tags": []
          }
        },
        {
          "output_type": "display_data",
          "data": {
            "image/png": "[encoded data removed]",
            "text/plain": [
              "<Figure size 288x288 with 2 Axes>"
            ]
          },
          "metadata": {
            "tags": []
          }
        },
        {
          "output_type": "display_data",
          "data": {
            "image/png": "[encoded data removed]",
            "text/plain": [
              "<Figure size 288x288 with 2 Axes>"
            ]
          },
          "metadata": {
            "tags": []
          }
        }
      ]
    },
    {
      "cell_type": "code",
      "metadata": {
        "id": "1XXNDOG52VtH"
      },
      "source": [
        "height_array = [[1,0],[0,1],[1,1],[-1,1],[1,-1],[-1,-1],[-1,0],[0,-1]]\n",
        "\n",
        "def height_data_fn(images = binarized_images, ht_array = height_array, ent=True, land=False, \n",
        "                   heat=False, wdist=False, betti=False):\n",
        "    height_data = np.zeros((np.shape(images)[0],1))\n",
        "    for i in range(0, np.shape(ht_array)[0]):\n",
        "        height_fil_images = gtda.images.HeightFiltration(direction = np.array(ht_array[i])).fit_transform(images)\n",
        "        cubical_diagrams = gtda.homology.CubicalPersistence(reduced_homology = False).fit_transform(height_fil_images)\n",
        "        if ent == True:\n",
        "            height_data = np.concatenate((height_data,gtda.diagrams.PersistenceEntropy().fit_transform(cubical_diagrams)), axis = 1)\n",
        "        if land == True:\n",
        "            height_data= np.concatenate((height_data,gtda.diagrams.Amplitude(metric_params={\"n_layers\":2} , metric ='landscape', \n",
        "                                                                             order = None).fit_transform(cubical_diagrams)), axis = 1)\n",
        "        if heat == True:\n",
        "            height_data = np.concatenate((height_data,gtda.diagrams.Amplitude(metric = 'heat', order = None).fit_transform(cubical_diagrams)),\n",
        "                                         axis = 1)\n",
        "        if betti == True:\n",
        "            height_data = np.concatenate((height_data,gtda.diagrams.Amplitude(metric = 'betti', order = None).fit_transform(cubical_diagrams)),\n",
        "                                         axis = 1)\n",
        "        if wdist == True:\n",
        "            height_data = np.concatenate((height_data,gtda.diagrams.Amplitude(metric = 'wasserstein', order = None).fit_transform(cubical_diagrams)),\n",
        "                                         axis = 1)   \n",
        "    print(\"done\") \n",
        "    return height_data[:,1:]"
      ],
      "execution_count": null,
      "outputs": []
    },
    {
      "cell_type": "code",
      "metadata": {
        "id": "eKfiRSgH2VtO"
      },
      "source": [
        "radial_array = [[6,6],[13,6],[20,6],[6,13],[13,13],[20,13],[6,20],[13,20],[20,20]]\n",
        "\n",
        "def radial_data_fn(images = binarized_images, r_array = radial_array, ent=True, land=False, \n",
        "                   heat=False, wdist=False, betti=False):\n",
        "    n_col = (2*ent + 2*land + 2*heat + 2*wdist +2*betti)*np.shape(r_array)[0]\n",
        "    radial_data = np.zeros((np.shape(images)[0],n_col))\n",
        "    m = 0 #current column counter\n",
        "    for i in range(0, np.shape(r_array)[0]):\n",
        "        radial_fil_images = gtda.images.RadialFiltration(center = np.array(r_array[i])).fit_transform(images)\n",
        "        cubical_diagrams = gtda.homology.CubicalPersistence(reduced_homology = False).fit_transform(radial_fil_images)\n",
        "        if ent == True:\n",
        "            radial_data[:,m:m+2] = gtda.diagrams.PersistenceEntropy().fit_transform(cubical_diagrams)\n",
        "            m = m + 2\n",
        "        if land == True:\n",
        "            radial_data[:,m:m+2] = gtda.diagrams.Amplitude(metric_params={\"n_layers\":2} , metric ='landscape', \n",
        "                                                           order = None).fit_transform(cubical_diagrams)\n",
        "            m = m+2\n",
        "        if heat == True:\n",
        "            radial_data[:,m:m+2]= gtda.diagrams.Amplitude(metric = 'heat', order = None).fit_transform(cubical_diagrams)\n",
        "            m = m + 2\n",
        "        if betti == True:\n",
        "            radial_data[:,m:m+2] = gtda.diagrams.Amplitude(metric = 'betti', order = None).fit_transform(cubical_diagrams)\n",
        "            m = m + 2\n",
        "        if wdist == True:\n",
        "            radial_data[:,m:m+2] = gtda.diagrams.Amplitude(metric = 'wasserstein', order = None).fit_transform(cubical_diagrams)\n",
        "            m = m + 2\n",
        "    print(\"done\")                       \n",
        "    return radial_data\n"
      ],
      "execution_count": null,
      "outputs": []
    },
    {
      "cell_type": "code",
      "metadata": {
        "id": "MpglFnXf2VtZ"
      },
      "source": [
        "density_array = [5,8,11]\n",
        "\n",
        "def density_data_fn(images = binarized_images, d_array = density_array, ent=True, land=False, \n",
        "                    heat=False, wdist=False, betti=False):\n",
        "    n_col = (2*ent + 2*land + 2*heat + 2*wdist +2*betti)*np.shape(d_array)[0]\n",
        "    density_data = np.zeros((np.shape(images)[0],n_col))\n",
        "    m = 0 #current column counter\n",
        "    for i in range(0, np.shape(d_array)[0]):\n",
        "        density_fil_images = gtda.images.DensityFiltration(radius = d_array[i]).fit_transform(images)\n",
        "        cubical_diagrams = gtda.homology.CubicalPersistence(reduced_homology = False).fit_transform(density_fil_images)\n",
        "        if ent == True:\n",
        "            density_data[:,m:m+2] = gtda.diagrams.PersistenceEntropy().fit_transform(cubical_diagrams)\n",
        "            m = m + 2\n",
        "        if land == True:\n",
        "            density_data[:,m:m+2] = gtda.diagrams.Amplitude(metric_params={\"n_layers\":2} , metric ='landscape', \n",
        "                                                           order = None).fit_transform(cubical_diagrams)\n",
        "            m = m+2\n",
        "        if heat == True:\n",
        "            density_data[:,m:m+2]= gtda.diagrams.Amplitude(metric = 'heat', order = None).fit_transform(cubical_diagrams)\n",
        "            m = m + 2\n",
        "        if betti == True:\n",
        "            density_data[:,m:m+2] = gtda.diagrams.Amplitude(metric = 'betti', order = None).fit_transform(cubical_diagrams)\n",
        "            m = m + 2\n",
        "        if wdist == True:\n",
        "            density_data[:,m:m+2] = gtda.diagrams.Amplitude(metric = 'wasserstein', order = None).fit_transform(cubical_diagrams)\n",
        "            m = m + 2\n",
        "    print(\"done\") \n",
        "    return density_data"
      ],
      "execution_count": null,
      "outputs": []
    },
    {
      "cell_type": "code",
      "metadata": {
        "id": "bVEaiawZ2Vte"
      },
      "source": [
        "def grayscale_data_fn(images = images, ent=True, land=False, \n",
        "                      heat=False, wdist=False, betti=False):\n",
        "    n_col = (2*ent + 2*land + 2*heat + 2*wdist +2*betti)\n",
        "    grayscale_data = np.zeros((np.shape(images)[0],n_col))\n",
        "    cubical_diagrams = gtda.homology.CubicalPersistence(reduced_homology = False).fit_transform(images)\n",
        "    m=0\n",
        "    if ent == True:\n",
        "        grayscale_data[:,m:m+2] = gtda.diagrams.PersistenceEntropy().fit_transform(cubical_diagrams)\n",
        "        m = m + 2\n",
        "    if land == True:\n",
        "        grayscale_data[:,m:m+2] = gtda.diagrams.Amplitude(metric_params={\"n_layers\":2} , metric ='landscape', \n",
        "                                                        order = None).fit_transform(cubical_diagrams)\n",
        "        m = m + 2\n",
        "    if heat == True:\n",
        "        grayscale_data[:,m:m+2]= gtda.diagrams.Amplitude(metric = 'heat', order = None).fit_transform(cubical_diagrams)\n",
        "        m = m + 2\n",
        "    if betti == True:\n",
        "        grayscale_data[:,m:m+2] = gtda.diagrams.Amplitude(metric = 'betti', order = None).fit_transform(cubical_diagrams)\n",
        "        m = m + 2\n",
        "    if wdist == True:\n",
        "        grayscale_data[:,m:m+2] = gtda.diagrams.Amplitude(metric = 'wasserstein', order = None).fit_transform(cubical_diagrams)\n",
        "        m = m + 2  \n",
        "    print(\"done\")          \n",
        "    return grayscale_data"
      ],
      "execution_count": null,
      "outputs": []
    },
    {
      "cell_type": "code",
      "metadata": {
        "id": "KBQgbecx2Vtj"
      },
      "source": [
        "def vr_data_fn(images = binarized_images, ent=True, land=False, \n",
        "               heat=False, wdist=False, betti=False):\n",
        "    n_col = (2*ent + 2*land + 2*heat + 2*wdist +2*betti)\n",
        "    vr_data = np.zeros((np.shape(images)[0],n_col))\n",
        "    point_cloud_data = gtda.images.ImageToPointCloud().fit_transform(images)\n",
        "    cubical_diagrams = gtda.homology.VietorisRipsPersistence(reduced_homology = False, infinity_values= 28.0).fit_transform(point_cloud_data)\n",
        "    m=0\n",
        "    if ent == True:\n",
        "        vr_data[:,m:m+2] = gtda.diagrams.PersistenceEntropy().fit_transform(cubical_diagrams)\n",
        "        m = m + 2\n",
        "    if land == True:\n",
        "        vr_data[:,m:m+2] = gtda.diagrams.Amplitude(metric_params={\"n_layers\":2}, metric ='landscape', \n",
        "                                                        order = None).fit_transform(cubical_diagrams)\n",
        "        m = m + 2\n",
        "    if heat == True:\n",
        "        vr_data[:,m:m+2]= gtda.diagrams.Amplitude(metric = 'heat', order = None).fit_transform(cubical_diagrams)\n",
        "        m = m + 2\n",
        "    if betti == True:\n",
        "        vr_data[:,m:m+2] = gtda.diagrams.Amplitude(metric = 'betti', order = None).fit_transform(cubical_diagrams)\n",
        "        m = m + 2\n",
        "    if wdist == True:\n",
        "        vr_data[:,m:m+2] = gtda.diagrams.Amplitude(metric = 'wasserstein', order = None).fit_transform(cubical_diagrams)\n",
        "        m = m + 2 \n",
        "    print(\"done\")           \n",
        "    return vr_data"
      ],
      "execution_count": null,
      "outputs": []
    },
    {
      "cell_type": "code",
      "metadata": {
        "id": "moPYCUQ_2Vto"
      },
      "source": [
        "def dilation_data(images = binarized_images, ent=True, land=False, \n",
        "                  heat=False, wdist=False, betti=False):\n",
        "    n_col = (2*ent + 2*land + 2*heat + 2*wdist +2*betti)\n",
        "    dil_data =  np.zeros((np.shape(images)[0],n_col))\n",
        "    cubical_diagrams = gtda.homology.CubicalPersistence(reduced_homology = False).fit_transform(gtda.images.DilationFiltration().fit_transform(images))\n",
        "    m=0\n",
        "    if ent == True:\n",
        "        dil_data[:,m:m+2] = gtda.diagrams.PersistenceEntropy().fit_transform(cubical_diagrams)\n",
        "        m = m + 2\n",
        "    if land == True:\n",
        "        dil_data[:,m:m+2] = gtda.diagrams.Amplitude(metric_params={\"n_layers\":2} , metric ='landscape', \n",
        "                                                        order = None).fit_transform(cubical_diagrams)\n",
        "        m = m + 2\n",
        "    if heat == True:\n",
        "        dil_data[:,m:m+2]= gtda.diagrams.Amplitude(metric = 'heat', order = None).fit_transform(cubical_diagrams)\n",
        "        m = m + 2\n",
        "    if betti == True:\n",
        "        dil_data[:,m:m+2] = gtda.diagrams.Amplitude(metric = 'betti', order = None).fit_transform(cubical_diagrams)\n",
        "        m = m + 2\n",
        "    if wdist == True:\n",
        "        dil_data[:,m:m+2] = gtda.diagrams.Amplitude(metric = 'wasserstein', order = None).fit_transform(cubical_diagrams)\n",
        "        m = m + 2  \n",
        "    print(\"done\")          \n",
        "    return dil_data"
      ],
      "execution_count": null,
      "outputs": []
    },
    {
      "cell_type": "code",
      "metadata": {
        "id": "ZTYI5gZh2Vtt"
      },
      "source": [
        "def erosion_data_fn(images = binarized_images, ent=True, land=False, \n",
        "                    heat=False, wdist=False, betti=False):\n",
        "    n_col = (2*ent + 2*land + 2*heat + 2*wdist +2*betti)\n",
        "    erosion_data =  np.zeros((np.shape(images)[0],n_col))\n",
        "    cubical_diagrams = gtda.homology.CubicalPersistence(reduced_homology = False).fit_transform(gtda.images.ErosionFiltration().fit_transform(images))\n",
        "    m=0\n",
        "    if ent == True:\n",
        "        erosion_data[:,m:m+2] = gtda.diagrams.PersistenceEntropy().fit_transform(cubical_diagrams)\n",
        "        m = m + 2\n",
        "    if land == True:\n",
        "        erosion_data[:,m:m+2] = gtda.diagrams.Amplitude(metric_params={\"n_layers\":2}, metric ='landscape', \n",
        "                                                        order = None).fit_transform(cubical_diagrams)\n",
        "        m = m + 2\n",
        "    if heat == True:\n",
        "        erosion_data[:,m:m+2]= gtda.diagrams.Amplitude(metric = 'heat', order = None).fit_transform(cubical_diagrams)\n",
        "        m = m + 2\n",
        "    if betti == True:\n",
        "        erosion_data[:,m:m+2] = gtda.diagrams.Amplitude(metric = 'betti', order = None).fit_transform(cubical_diagrams)\n",
        "        m = m + 2\n",
        "    if wdist == True:\n",
        "        erosion_data[:,m:m+2] = gtda.diagrams.Amplitude(metric = 'wasserstein', order = None).fit_transform(cubical_diagrams)\n",
        "        m = m + 2  \n",
        "    print(\"done\")         \n",
        "    return erosion_data"
      ],
      "execution_count": null,
      "outputs": []
    },
    {
      "cell_type": "code",
      "metadata": {
        "id": "pCFXU7_x2Vty"
      },
      "source": [
        "def sd_data_fn(images = binarized_images, ent=True, land=False, \n",
        "               heat=False, wdist=False, betti=False):\n",
        "    n_col = (2*ent + 2*land + 2*heat + 2*wdist +2*betti)\n",
        "    sd_data =  np.zeros((np.shape(images)[0],n_col))\n",
        "    cubical_diagrams = gtda.homology.CubicalPersistence(reduced_homology = False).fit_transform(gtda.images.SignedDistanceFiltration().fit_transform(images))\n",
        "    m=0\n",
        "    if ent == True:\n",
        "        sd_data[:,m:m+2] = gtda.diagrams.PersistenceEntropy().fit_transform(cubical_diagrams)\n",
        "        m = m + 2\n",
        "    if land == True:\n",
        "        sd_data[:,m:m+2] = gtda.diagrams.Amplitude(metric_params={\"n_layers\":2}, metric ='landscape', \n",
        "                                                        order = None).fit_transform(cubical_diagrams)\n",
        "        m = m + 2\n",
        "    if heat == True:\n",
        "        sd_data[:,m:m+2]= gtda.diagrams.Amplitude(metric = 'heat', order = None).fit_transform(cubical_diagrams)\n",
        "        m = m + 2\n",
        "    if betti == True:\n",
        "        sd_data[:,m:m+2] = gtda.diagrams.Amplitude(metric = 'betti', order = None).fit_transform(cubical_diagrams)\n",
        "        m = m + 2\n",
        "    if wdist == True:\n",
        "        sd_data[:,m:m+2] = gtda.diagrams.Amplitude(metric = 'wasserstein', order = None).fit_transform(cubical_diagrams)\n",
        "        m = m + 2  \n",
        "    print(\"done\")          \n",
        "    return sd_data"
      ],
      "execution_count": null,
      "outputs": []
    },
    {
      "cell_type": "code",
      "metadata": {
        "id": "UMNPhOxG2Vt4"
      },
      "source": [
        "# ax+by+c denotes line we are considering\n",
        "def direction_filtration(Q,a,b,c, par = True):\n",
        "    shape_x = np.shape(Q)[0]\n",
        "    shape_y = np.shape(Q)[1]\n",
        "    Qnew = np.zeros((shape_x,shape_y))\n",
        "    for i in range(0,shape_x):\n",
        "        for j in range(0,shape_y):\n",
        "            if par and Q[i][j] == 1:\n",
        "                Qnew[i][j] = abs(a*i + b*j + c)/((a**2 + b**2)**(1/2))\n",
        "            if par != True and Q[i][j] == 1:\n",
        "                Qnew[i][j] = -1 * abs(a*i + b*j + c)/((a**2 + b**2)**(1/2))\n",
        "    max_val = np.max(Qnew)\n",
        "    for i in range(0,shape_x):\n",
        "        for j in range(0,shape_y):\n",
        "            if Q[i][j] == 0:\n",
        "                Qnew[i][j] = max_val+5\n",
        "    return Qnew\n"
      ],
      "execution_count": null,
      "outputs": []
    },
    {
      "cell_type": "code",
      "metadata": {
        "id": "f3Sa1u4S2VuA"
      },
      "source": [
        "#line filtration corr to a,b,c for line of form ax+by+c = 0\n",
        "\n",
        "def line_filtration(nparr, coeff, l):\n",
        "    line_data = np.zeros((np.shape(coeff)[0],np.shape(nparr)[0],image_dim,image_dim))  \n",
        "    for k in range(0,np.shape(nparr)[0]):\n",
        "        for t in range(0,np.shape(coeff)[0]):\n",
        "            line_data[t][k] = direction_filtration(binarized_images[k], a = coeff[t][0]\n",
        "                                                   ,b = coeff[t][1]\n",
        "                                                   ,c = coeff[t][2]\n",
        "                                                   ,par = l[t])\n",
        "    return line_data\n"
      ],
      "execution_count": null,
      "outputs": []
    },
    {
      "cell_type": "code",
      "metadata": {
        "id": "7Q7RTkhe2VuJ"
      },
      "source": [
        "l = np.array((True, True, False, False))\n",
        "coeff = [[1,-1,-20],[0,1,-27],[0,1,-13],[1,0,-13]]\n",
        "\n",
        "def line_data_fn(images = binarized_images, ent=True, land=False, \n",
        "                 heat=False, wdist=False, betti=False):\n",
        "    n_col = (2*ent + 2*land + 2*heat + 2*wdist +2*betti)*np.shape(coeff)[0]\n",
        "    line_data =  np.zeros((np.shape(images)[0],n_col))\n",
        "    line_fil_images = line_filtration(images,coeff, l)\n",
        "    m = 0 #current column counter\n",
        "    for i in range(0, np.shape(coeff)[0]):\n",
        "        cubical_diagrams = gtda.homology.CubicalPersistence(reduced_homology = False).fit_transform(line_fil_images[i])\n",
        "        if ent == True:\n",
        "            line_data[:,m:m+2] = gtda.diagrams.PersistenceEntropy().fit_transform(cubical_diagrams)\n",
        "            m = m + 2\n",
        "        if land == True:\n",
        "            line_data[:,m:m+2] = gtda.diagrams.Amplitude(metric_params={\"n_layers\":2}, metric ='landscape', \n",
        "                                                           order = None).fit_transform(cubical_diagrams)\n",
        "            m = m+2\n",
        "        if heat == True:\n",
        "            line_data[:,m:m+2]= gtda.diagrams.Amplitude(metric = 'heat', order = None).fit_transform(cubical_diagrams)\n",
        "            m = m + 2\n",
        "        if betti == True:\n",
        "            line_data[:,m:m+2] = gtda.diagrams.Amplitude(metric = 'betti', order = None).fit_transform(cubical_diagrams)\n",
        "            m = m + 2\n",
        "        if wdist == True:\n",
        "            line_data[:,m:m+2] = gtda.diagrams.Amplitude(metric = 'wasserstein', order = None).fit_transform(cubical_diagrams)\n",
        "            m = m + 2     \n",
        "    print(\"done\") \n",
        "    return line_data"
      ],
      "execution_count": null,
      "outputs": []
    },
    {
      "cell_type": "code",
      "metadata": {
        "colab": {
          "background_save": true,
          "base_uri": "https://localhost:8080/"
        },
        "id": "ZpIutuwC09BW",
        "outputId": "3bbd2353-6eda-413a-f9af-19ceaeae7a27"
      },
      "source": [
        "height_data = height_data_fn(images = binarized_images, ent = True, land = True, wdist = True, betti = True)\n",
        "pd.DataFrame(height_data).to_csv('height_data.csv')\n",
        "density_data = density_data_fn(images = binarized_images, ent = True, land = True, wdist = True, betti = True)\n",
        "pd.DataFrame(density_data).to_csv('density_data.csv')\n",
        "radial_data = radial_data_fn(images = binarized_images, ent = True, land = True, wdist = True, betti = True)\n",
        "pd.DataFrame(radial_data).to_csv('radial_data.csv')"
      ],
      "execution_count": null,
      "outputs": [
        {
          "output_type": "stream",
          "text": [
            "done\n",
            "done\n",
            "done\n"
          ],
          "name": "stdout"
        }
      ]
    },
    {
      "cell_type": "code",
      "metadata": {
        "id": "_na2ugl9nkCF",
        "colab": {
          "base_uri": "https://localhost:8080/"
        },
        "outputId": "0981b184-da24-4839-ce33-8154ffcef7a8"
      },
      "source": [
        "line_data = line_data_fn(images = binarized_images, ent = True, land = True, wdist = True, betti = True)\n",
        "pd.DataFrame(line_data).to_csv('line_data.csv')\n",
        "grayscale_data = grayscale_data_fn(images = images, ent = True, wdist = True, land = True, betti = True)\n",
        "pd.DataFrame(grayscale_data).to_csv('grayscale_data.csv')\n",
        "conjugate_data = grayscale_data_fn(images = conjugate_images, ent = True, wdist = True, land = True, betti = True)\n",
        "pd.DataFrame(conjugate_data).to_csv('conjugate_data.csv')\n",
        "#vr_data = vr_data_fn(images = binarized_images, ent = True)\n",
        "#pd.DataFrame(vr_data).to_csv('vr_data.csv')"
      ],
      "execution_count": null,
      "outputs": [
        {
          "output_type": "stream",
          "text": [
            "done\n",
            "done\n",
            "done\n"
          ],
          "name": "stdout"
        }
      ]
    },
    {
      "cell_type": "code",
      "metadata": {
        "id": "I6K59fbAcotJ",
        "colab": {
          "base_uri": "https://localhost:8080/"
        },
        "outputId": "c8d8b7a1-acc8-40de-ac44-5a0077f3480a"
      },
      "source": [
        "!zip pipeline_ASL_images_otsu.zip *.csv\n",
        "!mv pipeline_ASL_images_otsu.zip \"/content/drive/MyDrive/American Sign Language - Dataset\""
      ],
      "execution_count": null,
      "outputs": [
        {
          "output_type": "stream",
          "text": [
            "  adding: conjugate_data.csv (deflated 53%)\n",
            "  adding: density_data.csv (deflated 61%)\n",
            "  adding: grayscale_data.csv (deflated 53%)\n",
            "  adding: height_data.csv (deflated 64%)\n",
            "  adding: line_data.csv (deflated 66%)\n",
            "  adding: radial_data.csv (deflated 59%)\n",
            "  adding: sign_mnist_test.csv (deflated 71%)\n",
            "  adding: sign_mnist_train.csv (deflated 71%)\n"
          ],
          "name": "stdout"
        }
      ]
    },
    {
      "cell_type": "code",
      "metadata": {
        "id": "m3S1ipfxdDx7"
      },
      "source": [
        "height_data = (pd.read_csv(\"height_data.csv\")).iloc[:,1:]\n",
        "density_data = (pd.read_csv(\"density_data.csv\")).iloc[:,1:]\n",
        "radial_data = (pd.read_csv(\"radial_data.csv\")).iloc[:,1:]\n",
        "line_data = (pd.read_csv(\"line_data.csv\")).iloc[:,1:]\n",
        "grayscale_data = (pd.read_csv(\"grayscale_data.csv\")).iloc[:,1:]\n",
        "conjugate_data = (pd.read_csv(\"conjugate_data.csv\")).iloc[:,1:]"
      ],
      "execution_count": null,
      "outputs": []
    },
    {
      "cell_type": "code",
      "metadata": {
        "id": "fNUG9nRUDfnu"
      },
      "source": [
        "data = pd.concat([height_data,density_data,radial_data,line_data,grayscale_data,conjugate_data], axis = 1)"
      ],
      "execution_count": null,
      "outputs": []
    },
    {
      "cell_type": "code",
      "metadata": {
        "id": "wgtOfgYLwsvz"
      },
      "source": [
        "from sklearn.preprocessing import normalize"
      ],
      "execution_count": null,
      "outputs": []
    },
    {
      "cell_type": "code",
      "metadata": {
        "id": "0Am48fNwD-n6"
      },
      "source": [
        "data = normalize(data)"
      ],
      "execution_count": null,
      "outputs": []
    },
    {
      "cell_type": "code",
      "metadata": {
        "id": "YCzD9SGYSkal"
      },
      "source": [
        "from sklearn.metrics import confusion_matrix \n",
        "from sklearn.model_selection import train_test_split \n",
        "from sklearn.svm import SVC \n",
        "import sklearn.preprocessing\n",
        "from sklearn.model_selection import StratifiedShuffleSplit\n",
        "from sklearn.metrics import plot_confusion_matrix\n",
        "from sklearn.preprocessing import normalize"
      ],
      "execution_count": null,
      "outputs": []
    },
    {
      "cell_type": "code",
      "metadata": {
        "id": "bzUikyG5SvFJ"
      },
      "source": [
        "train_data = data[:train_size,]\n",
        "test_data = data[train_size:,]"
      ],
      "execution_count": null,
      "outputs": []
    },
    {
      "cell_type": "code",
      "metadata": {
        "id": "sLYIq5_GSdUL"
      },
      "source": [
        "svm_model_linear = SVC(kernel = 'rbf', class_weight = 'balanced', decision_function_shape='ovo').fit(train_data, y.iloc[:train_size]) \n",
        "svm_predictions = svm_model_linear.predict(test_data)"
      ],
      "execution_count": null,
      "outputs": []
    },
    {
      "cell_type": "code",
      "metadata": {
        "colab": {
          "base_uri": "https://localhost:8080/",
          "height": 315
        },
        "id": "OUuylKrmS319",
        "outputId": "74737ea1-ac43-47b4-b47c-db18ae4cbae1"
      },
      "source": [
        "accuracy = svm_model_linear.score(test_data, y.iloc[train_size:])\n",
        "print(accuracy*100)\n",
        "plot_confusion_matrix(svm_model_linear, test_data, y.iloc[train_size:])"
      ],
      "execution_count": null,
      "outputs": [
        {
          "output_type": "stream",
          "text": [
            "4.113218070273285\n"
          ],
          "name": "stdout"
        },
        {
          "output_type": "execute_result",
          "data": {
            "text/plain": [
              "<sklearn.metrics._plot.confusion_matrix.ConfusionMatrixDisplay at 0x7fdb4eaeee10>"
            ]
          },
          "metadata": {
            "tags": []
          },
          "execution_count": 55
        },
        {
          "output_type": "display_data",
          "data": {
            "image/png": "[encoded data removed]",
            "text/plain": [
              "<Figure size 432x288 with 2 Axes>"
            ]
          },
          "metadata": {
            "tags": [],
            "needs_background": "light"
          }
        }
      ]
    },
    {
      "cell_type": "code",
      "metadata": {
        "id": "w1uEq-FtEgV8"
      },
      "source": [
        "classifier = RandomForestClassifier(n_estimators = 1000, random_state = 31415)\n",
        "classifier.fit(train_data, y.iloc[:train_size])"
      ],
      "execution_count": null,
      "outputs": []
    },
    {
      "cell_type": "code",
      "metadata": {
        "colab": {
          "base_uri": "https://localhost:8080/"
        },
        "id": "8lIIx1oLEjMj",
        "outputId": "466aa2c4-7304-452e-eb79-d7d1cb4c3613"
      },
      "source": [
        "pred = classifier.predict(test_data)\n",
        "accuracy = classifier.score(test_data, y.iloc[train_size:])\n",
        "print(accuracy*100)"
      ],
      "execution_count": null,
      "outputs": [
        {
          "output_type": "stream",
          "text": [
            "4.155047406581149\n"
          ],
          "name": "stdout"
        }
      ]
    },
    {
      "cell_type": "code",
      "metadata": {
        "id": "Wuq52V0pHobc"
      },
      "source": [
        "from sklearn.metrics import plot_confusion_matrix\n",
        "plot_confusion_matrix(classifier, test_data, y.iloc[train_size:]) "
      ],
      "execution_count": null,
      "outputs": []
    },
    {
      "cell_type": "code",
      "metadata": {
        "id": "lvCAE-S6IaeY"
      },
      "source": [
        "#Integrating Data with CNN\n",
        "from tensorflow import keras\n",
        "import tensorflow as tf"
      ],
      "execution_count": null,
      "outputs": []
    },
    {
      "cell_type": "code",
      "metadata": {
        "colab": {
          "base_uri": "https://localhost:8080/"
        },
        "id": "LqTNIhzcL5NY",
        "outputId": "05996a9a-8171-483e-e970-a61969a71fe9"
      },
      "source": [
        "# Normalize the images.\n",
        "train_images = (train_images / 255) - 0.5\n",
        "test_images = (test_images / 255) - 0.5\n",
        "\n",
        "# Reshape the images.\n",
        "train_images = np.expand_dims(train_images, axis=3)\n",
        "test_images = np.expand_dims(test_images, axis=3)\n",
        "\n",
        "print(test_images.shape)  "
      ],
      "execution_count": null,
      "outputs": [
        {
          "output_type": "stream",
          "text": [
            "(7172, 28, 28, 1)\n"
          ],
          "name": "stdout"
        }
      ]
    },
    {
      "cell_type": "code",
      "metadata": {
        "id": "AsoUoO6gL6Hk"
      },
      "source": [
        "from tensorflow.keras.models import Sequential\n",
        "from tensorflow.keras.layers import Conv2D, MaxPooling2D, Dense, Flatten\n",
        "from tensorflow.keras.utils import to_categorical\n",
        "\n",
        "num_filters = 8\n",
        "filter_size = 3\n",
        "pool_size = 2\n",
        "\n",
        "model_1 = Sequential([\n",
        "  Conv2D(num_filters, filter_size, input_shape=(28, 28, 1)),\n",
        "  MaxPooling2D(pool_size=pool_size),\n",
        "  Flatten(),\n",
        "  Dense(25, activation='softmax'),\n",
        "])"
      ],
      "execution_count": null,
      "outputs": []
    }
  ]
}