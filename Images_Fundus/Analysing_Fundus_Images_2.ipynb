{
  "nbformat": 4,
  "nbformat_minor": 0,
  "metadata": {
    "colab": {
      "name": "Analysing_Fundus_Images_2.ipynb",
      "provenance": []
    },
    "kernelspec": {
      "name": "python3",
      "display_name": "Python 3"
    }
  },
  "cells": [
    {
      "cell_type": "code",
      "metadata": {
        "id": "RcTFum2VKiam"
      },
      "source": [
        "import pandas as pd\r\n",
        "import numpy as np\r\n",
        "from sklearn.metrics import confusion_matrix \r\n",
        "from sklearn.model_selection import train_test_split \r\n",
        "from sklearn.svm import SVC "
      ],
      "execution_count": null,
      "outputs": []
    },
    {
      "cell_type": "code",
      "metadata": {
        "id": "9kFAO8LhLYgB"
      },
      "source": [
        "data = np.array(pd.read_csv(\"Test_Fundus.csv\"))"
      ],
      "execution_count": null,
      "outputs": []
    },
    {
      "cell_type": "code",
      "metadata": {
        "id": "0mtLhGVrLe8F"
      },
      "source": [
        "y = data[:,0]\r\n",
        "X = data[:,1:]"
      ],
      "execution_count": null,
      "outputs": []
    },
    {
      "cell_type": "code",
      "metadata": {
        "id": "PeP6-8cvLg4F"
      },
      "source": [
        "X_train, X_test, y_train, y_test = train_test_split(X, y, test_size = 1/3, random_state = 314) "
      ],
      "execution_count": null,
      "outputs": []
    },
    {
      "cell_type": "code",
      "metadata": {
        "id": "Dcw1WfcGLxIt"
      },
      "source": [
        "svm_model_linear = SVC(kernel = 'linear', class_weight = 'balanced').fit(X_train, y_train) \r\n",
        "svm_predictions = svm_model_linear.predict(X_test) "
      ],
      "execution_count": null,
      "outputs": []
    },
    {
      "cell_type": "code",
      "metadata": {
        "id": "xDwHHXTYMsMN"
      },
      "source": [
        "accuracy = svm_model_linear.score(X_test, y_test)"
      ],
      "execution_count": null,
      "outputs": []
    },
    {
      "cell_type": "code",
      "metadata": {
        "id": "0opggID3MwBz"
      },
      "source": [
        "cm = confusion_matrix(y_test, svm_predictions) "
      ],
      "execution_count": null,
      "outputs": []
    },
    {
      "cell_type": "code",
      "metadata": {
        "colab": {
          "base_uri": "https://localhost:8080/"
        },
        "id": "bbP2pzqjMzOz",
        "outputId": "ef8ddadf-9827-4a1c-8374-5ac6cfa83147"
      },
      "source": [
        "print(cm)"
      ],
      "execution_count": null,
      "outputs": [
        {
          "output_type": "stream",
          "text": [
            "[[5 1 0]\n",
            " [1 4 1]\n",
            " [0 0 3]]\n"
          ],
          "name": "stdout"
        }
      ]
    },
    {
      "cell_type": "code",
      "metadata": {
        "colab": {
          "base_uri": "https://localhost:8080/"
        },
        "id": "T3PpjfLfM03T",
        "outputId": "72064570-afc0-4c8f-f751-c1c2d8d2bd20"
      },
      "source": [
        "print(accuracy)"
      ],
      "execution_count": null,
      "outputs": [
        {
          "output_type": "stream",
          "text": [
            "0.8\n"
          ],
          "name": "stdout"
        }
      ]
    },
    {
      "cell_type": "code",
      "metadata": {
        "id": "fbWFCJyMOuyY"
      },
      "source": [
        ""
      ],
      "execution_count": null,
      "outputs": []
    }
  ]
}